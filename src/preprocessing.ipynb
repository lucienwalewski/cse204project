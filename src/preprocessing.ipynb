{
 "cells": [
  {
   "cell_type": "markdown",
   "metadata": {},
   "source": [
    "# Dataset Preprocessing"
   ]
  },
  {
   "cell_type": "markdown",
   "metadata": {},
   "source": [
    "### Importing libraries"
   ]
  },
  {
   "cell_type": "code",
   "execution_count": 1,
   "metadata": {},
   "outputs": [],
   "source": [
    "import pandas as pd\n",
    "import numpy as np\n",
    "import matplotlib.pyplot as plt\n",
    "import seaborn as sns\n",
    "from scipy import stats\n",
    "%matplotlib inline"
   ]
  },
  {
   "cell_type": "markdown",
   "metadata": {},
   "source": [
    "### Importing the data"
   ]
  },
  {
   "cell_type": "code",
   "execution_count": 2,
   "metadata": {},
   "outputs": [],
   "source": [
    "DATA_PATH = \"../data/\"\n",
    "\n",
    "path = DATA_PATH + \"Telco_customer_churn.xlsx\""
   ]
  },
  {
   "cell_type": "markdown",
   "metadata": {},
   "source": [
    "#### Importing the data sheets\n",
    "\n",
    "We import every sheet and look at the first few data points."
   ]
  },
  {
   "cell_type": "markdown",
   "metadata": {},
   "source": [
    "#### Original"
   ]
  },
  {
   "cell_type": "code",
   "execution_count": 3,
   "metadata": {},
   "outputs": [
    {
     "data": {
      "text/html": [
       "<div>\n",
       "<style scoped>\n",
       "    .dataframe tbody tr th:only-of-type {\n",
       "        vertical-align: middle;\n",
       "    }\n",
       "\n",
       "    .dataframe tbody tr th {\n",
       "        vertical-align: top;\n",
       "    }\n",
       "\n",
       "    .dataframe thead th {\n",
       "        text-align: right;\n",
       "    }\n",
       "</style>\n",
       "<table border=\"1\" class=\"dataframe\">\n",
       "  <thead>\n",
       "    <tr style=\"text-align: right;\">\n",
       "      <th></th>\n",
       "      <th>CustomerID</th>\n",
       "      <th>Count</th>\n",
       "      <th>Country</th>\n",
       "      <th>State</th>\n",
       "      <th>City</th>\n",
       "      <th>Zip Code</th>\n",
       "      <th>Lat Long</th>\n",
       "      <th>Latitude</th>\n",
       "      <th>Longitude</th>\n",
       "      <th>Gender</th>\n",
       "      <th>...</th>\n",
       "      <th>Contract</th>\n",
       "      <th>Paperless Billing</th>\n",
       "      <th>Payment Method</th>\n",
       "      <th>Monthly Charges</th>\n",
       "      <th>Total Charges</th>\n",
       "      <th>Churn Label</th>\n",
       "      <th>Churn Value</th>\n",
       "      <th>Churn Score</th>\n",
       "      <th>CLTV</th>\n",
       "      <th>Churn Reason</th>\n",
       "    </tr>\n",
       "  </thead>\n",
       "  <tbody>\n",
       "    <tr>\n",
       "      <th>0</th>\n",
       "      <td>3668-QPYBK</td>\n",
       "      <td>1</td>\n",
       "      <td>United States</td>\n",
       "      <td>California</td>\n",
       "      <td>Los Angeles</td>\n",
       "      <td>90003</td>\n",
       "      <td>33.964131, -118.272783</td>\n",
       "      <td>33.964131</td>\n",
       "      <td>-118.272783</td>\n",
       "      <td>Male</td>\n",
       "      <td>...</td>\n",
       "      <td>Month-to-month</td>\n",
       "      <td>Yes</td>\n",
       "      <td>Mailed check</td>\n",
       "      <td>53.85</td>\n",
       "      <td>108.15</td>\n",
       "      <td>Yes</td>\n",
       "      <td>1</td>\n",
       "      <td>86</td>\n",
       "      <td>3239</td>\n",
       "      <td>Competitor made better offer</td>\n",
       "    </tr>\n",
       "    <tr>\n",
       "      <th>1</th>\n",
       "      <td>9237-HQITU</td>\n",
       "      <td>1</td>\n",
       "      <td>United States</td>\n",
       "      <td>California</td>\n",
       "      <td>Los Angeles</td>\n",
       "      <td>90005</td>\n",
       "      <td>34.059281, -118.30742</td>\n",
       "      <td>34.059281</td>\n",
       "      <td>-118.307420</td>\n",
       "      <td>Female</td>\n",
       "      <td>...</td>\n",
       "      <td>Month-to-month</td>\n",
       "      <td>Yes</td>\n",
       "      <td>Electronic check</td>\n",
       "      <td>70.70</td>\n",
       "      <td>151.65</td>\n",
       "      <td>Yes</td>\n",
       "      <td>1</td>\n",
       "      <td>67</td>\n",
       "      <td>2701</td>\n",
       "      <td>Moved</td>\n",
       "    </tr>\n",
       "    <tr>\n",
       "      <th>2</th>\n",
       "      <td>9305-CDSKC</td>\n",
       "      <td>1</td>\n",
       "      <td>United States</td>\n",
       "      <td>California</td>\n",
       "      <td>Los Angeles</td>\n",
       "      <td>90006</td>\n",
       "      <td>34.048013, -118.293953</td>\n",
       "      <td>34.048013</td>\n",
       "      <td>-118.293953</td>\n",
       "      <td>Female</td>\n",
       "      <td>...</td>\n",
       "      <td>Month-to-month</td>\n",
       "      <td>Yes</td>\n",
       "      <td>Electronic check</td>\n",
       "      <td>99.65</td>\n",
       "      <td>820.5</td>\n",
       "      <td>Yes</td>\n",
       "      <td>1</td>\n",
       "      <td>86</td>\n",
       "      <td>5372</td>\n",
       "      <td>Moved</td>\n",
       "    </tr>\n",
       "    <tr>\n",
       "      <th>3</th>\n",
       "      <td>7892-POOKP</td>\n",
       "      <td>1</td>\n",
       "      <td>United States</td>\n",
       "      <td>California</td>\n",
       "      <td>Los Angeles</td>\n",
       "      <td>90010</td>\n",
       "      <td>34.062125, -118.315709</td>\n",
       "      <td>34.062125</td>\n",
       "      <td>-118.315709</td>\n",
       "      <td>Female</td>\n",
       "      <td>...</td>\n",
       "      <td>Month-to-month</td>\n",
       "      <td>Yes</td>\n",
       "      <td>Electronic check</td>\n",
       "      <td>104.80</td>\n",
       "      <td>3046.05</td>\n",
       "      <td>Yes</td>\n",
       "      <td>1</td>\n",
       "      <td>84</td>\n",
       "      <td>5003</td>\n",
       "      <td>Moved</td>\n",
       "    </tr>\n",
       "    <tr>\n",
       "      <th>4</th>\n",
       "      <td>0280-XJGEX</td>\n",
       "      <td>1</td>\n",
       "      <td>United States</td>\n",
       "      <td>California</td>\n",
       "      <td>Los Angeles</td>\n",
       "      <td>90015</td>\n",
       "      <td>34.039224, -118.266293</td>\n",
       "      <td>34.039224</td>\n",
       "      <td>-118.266293</td>\n",
       "      <td>Male</td>\n",
       "      <td>...</td>\n",
       "      <td>Month-to-month</td>\n",
       "      <td>Yes</td>\n",
       "      <td>Bank transfer (automatic)</td>\n",
       "      <td>103.70</td>\n",
       "      <td>5036.3</td>\n",
       "      <td>Yes</td>\n",
       "      <td>1</td>\n",
       "      <td>89</td>\n",
       "      <td>5340</td>\n",
       "      <td>Competitor had better devices</td>\n",
       "    </tr>\n",
       "  </tbody>\n",
       "</table>\n",
       "<p>5 rows × 33 columns</p>\n",
       "</div>"
      ],
      "text/plain": [
       "   CustomerID  Count        Country       State         City  Zip Code  \\\n",
       "0  3668-QPYBK      1  United States  California  Los Angeles     90003   \n",
       "1  9237-HQITU      1  United States  California  Los Angeles     90005   \n",
       "2  9305-CDSKC      1  United States  California  Los Angeles     90006   \n",
       "3  7892-POOKP      1  United States  California  Los Angeles     90010   \n",
       "4  0280-XJGEX      1  United States  California  Los Angeles     90015   \n",
       "\n",
       "                 Lat Long   Latitude   Longitude  Gender  ...        Contract  \\\n",
       "0  33.964131, -118.272783  33.964131 -118.272783    Male  ...  Month-to-month   \n",
       "1   34.059281, -118.30742  34.059281 -118.307420  Female  ...  Month-to-month   \n",
       "2  34.048013, -118.293953  34.048013 -118.293953  Female  ...  Month-to-month   \n",
       "3  34.062125, -118.315709  34.062125 -118.315709  Female  ...  Month-to-month   \n",
       "4  34.039224, -118.266293  34.039224 -118.266293    Male  ...  Month-to-month   \n",
       "\n",
       "  Paperless Billing             Payment Method  Monthly Charges Total Charges  \\\n",
       "0               Yes               Mailed check            53.85        108.15   \n",
       "1               Yes           Electronic check            70.70        151.65   \n",
       "2               Yes           Electronic check            99.65         820.5   \n",
       "3               Yes           Electronic check           104.80       3046.05   \n",
       "4               Yes  Bank transfer (automatic)           103.70        5036.3   \n",
       "\n",
       "  Churn Label Churn Value Churn Score  CLTV                   Churn Reason  \n",
       "0         Yes           1          86  3239   Competitor made better offer  \n",
       "1         Yes           1          67  2701                          Moved  \n",
       "2         Yes           1          86  5372                          Moved  \n",
       "3         Yes           1          84  5003                          Moved  \n",
       "4         Yes           1          89  5340  Competitor had better devices  \n",
       "\n",
       "[5 rows x 33 columns]"
      ]
     },
     "execution_count": 3,
     "metadata": {},
     "output_type": "execute_result"
    }
   ],
   "source": [
    "df_orig = pd.read_excel(path, sheet_name='Telco_Churn')\n",
    "df_orig.head()"
   ]
  },
  {
   "cell_type": "code",
   "execution_count": 4,
   "metadata": {},
   "outputs": [],
   "source": [
    "# df_orig.info()"
   ]
  },
  {
   "cell_type": "markdown",
   "metadata": {},
   "source": [
    "#### Status"
   ]
  },
  {
   "cell_type": "code",
   "execution_count": 5,
   "metadata": {},
   "outputs": [
    {
     "data": {
      "text/html": [
       "<div>\n",
       "<style scoped>\n",
       "    .dataframe tbody tr th:only-of-type {\n",
       "        vertical-align: middle;\n",
       "    }\n",
       "\n",
       "    .dataframe tbody tr th {\n",
       "        vertical-align: top;\n",
       "    }\n",
       "\n",
       "    .dataframe thead th {\n",
       "        text-align: right;\n",
       "    }\n",
       "</style>\n",
       "<table border=\"1\" class=\"dataframe\">\n",
       "  <thead>\n",
       "    <tr style=\"text-align: right;\">\n",
       "      <th></th>\n",
       "      <th>Customer ID</th>\n",
       "      <th>Count</th>\n",
       "      <th>Quarter</th>\n",
       "      <th>Satisfaction Score</th>\n",
       "      <th>Customer Status</th>\n",
       "      <th>Churn Label</th>\n",
       "      <th>Churn Value</th>\n",
       "      <th>Churn Score</th>\n",
       "      <th>CLTV</th>\n",
       "      <th>Churn Category</th>\n",
       "      <th>Churn Reason</th>\n",
       "    </tr>\n",
       "  </thead>\n",
       "  <tbody>\n",
       "    <tr>\n",
       "      <th>0</th>\n",
       "      <td>8779-QRDMV</td>\n",
       "      <td>1</td>\n",
       "      <td>Q3</td>\n",
       "      <td>3</td>\n",
       "      <td>Churned</td>\n",
       "      <td>Yes</td>\n",
       "      <td>1</td>\n",
       "      <td>91</td>\n",
       "      <td>5433</td>\n",
       "      <td>Competitor</td>\n",
       "      <td>Competitor offered more data</td>\n",
       "    </tr>\n",
       "    <tr>\n",
       "      <th>1</th>\n",
       "      <td>7495-OOKFY</td>\n",
       "      <td>1</td>\n",
       "      <td>Q3</td>\n",
       "      <td>3</td>\n",
       "      <td>Churned</td>\n",
       "      <td>Yes</td>\n",
       "      <td>1</td>\n",
       "      <td>69</td>\n",
       "      <td>5302</td>\n",
       "      <td>Competitor</td>\n",
       "      <td>Competitor made better offer</td>\n",
       "    </tr>\n",
       "    <tr>\n",
       "      <th>2</th>\n",
       "      <td>1658-BYGOY</td>\n",
       "      <td>1</td>\n",
       "      <td>Q3</td>\n",
       "      <td>2</td>\n",
       "      <td>Churned</td>\n",
       "      <td>Yes</td>\n",
       "      <td>1</td>\n",
       "      <td>81</td>\n",
       "      <td>3179</td>\n",
       "      <td>Competitor</td>\n",
       "      <td>Competitor made better offer</td>\n",
       "    </tr>\n",
       "    <tr>\n",
       "      <th>3</th>\n",
       "      <td>4598-XLKNJ</td>\n",
       "      <td>1</td>\n",
       "      <td>Q3</td>\n",
       "      <td>2</td>\n",
       "      <td>Churned</td>\n",
       "      <td>Yes</td>\n",
       "      <td>1</td>\n",
       "      <td>88</td>\n",
       "      <td>5337</td>\n",
       "      <td>Dissatisfaction</td>\n",
       "      <td>Limited range of services</td>\n",
       "    </tr>\n",
       "    <tr>\n",
       "      <th>4</th>\n",
       "      <td>4846-WHAFZ</td>\n",
       "      <td>1</td>\n",
       "      <td>Q3</td>\n",
       "      <td>2</td>\n",
       "      <td>Churned</td>\n",
       "      <td>Yes</td>\n",
       "      <td>1</td>\n",
       "      <td>67</td>\n",
       "      <td>2793</td>\n",
       "      <td>Price</td>\n",
       "      <td>Extra data charges</td>\n",
       "    </tr>\n",
       "  </tbody>\n",
       "</table>\n",
       "</div>"
      ],
      "text/plain": [
       "  Customer ID  Count Quarter  Satisfaction Score Customer Status Churn Label  \\\n",
       "0  8779-QRDMV      1      Q3                   3         Churned         Yes   \n",
       "1  7495-OOKFY      1      Q3                   3         Churned         Yes   \n",
       "2  1658-BYGOY      1      Q3                   2         Churned         Yes   \n",
       "3  4598-XLKNJ      1      Q3                   2         Churned         Yes   \n",
       "4  4846-WHAFZ      1      Q3                   2         Churned         Yes   \n",
       "\n",
       "   Churn Value  Churn Score  CLTV   Churn Category  \\\n",
       "0            1           91  5433       Competitor   \n",
       "1            1           69  5302       Competitor   \n",
       "2            1           81  3179       Competitor   \n",
       "3            1           88  5337  Dissatisfaction   \n",
       "4            1           67  2793            Price   \n",
       "\n",
       "                   Churn Reason  \n",
       "0  Competitor offered more data  \n",
       "1  Competitor made better offer  \n",
       "2  Competitor made better offer  \n",
       "3     Limited range of services  \n",
       "4            Extra data charges  "
      ]
     },
     "execution_count": 5,
     "metadata": {},
     "output_type": "execute_result"
    }
   ],
   "source": [
    "df_status = pd.read_excel(path, sheet_name=\"status\")\n",
    "df_status.head()"
   ]
  },
  {
   "cell_type": "code",
   "execution_count": 6,
   "metadata": {},
   "outputs": [],
   "source": [
    "# df_status.info()"
   ]
  },
  {
   "cell_type": "markdown",
   "metadata": {},
   "source": [
    "#### Services"
   ]
  },
  {
   "cell_type": "code",
   "execution_count": 7,
   "metadata": {},
   "outputs": [
    {
     "data": {
      "text/html": [
       "<div>\n",
       "<style scoped>\n",
       "    .dataframe tbody tr th:only-of-type {\n",
       "        vertical-align: middle;\n",
       "    }\n",
       "\n",
       "    .dataframe tbody tr th {\n",
       "        vertical-align: top;\n",
       "    }\n",
       "\n",
       "    .dataframe thead th {\n",
       "        text-align: right;\n",
       "    }\n",
       "</style>\n",
       "<table border=\"1\" class=\"dataframe\">\n",
       "  <thead>\n",
       "    <tr style=\"text-align: right;\">\n",
       "      <th></th>\n",
       "      <th>Customer ID</th>\n",
       "      <th>Count</th>\n",
       "      <th>Quarter</th>\n",
       "      <th>Referred a Friend</th>\n",
       "      <th>Number of Referrals</th>\n",
       "      <th>Tenure in Months</th>\n",
       "      <th>Offer</th>\n",
       "      <th>Phone Service</th>\n",
       "      <th>Avg Monthly Long Distance Charges</th>\n",
       "      <th>Multiple Lines</th>\n",
       "      <th>...</th>\n",
       "      <th>Unlimited Data</th>\n",
       "      <th>Contract</th>\n",
       "      <th>Paperless Billing</th>\n",
       "      <th>Payment Method</th>\n",
       "      <th>Monthly Charge</th>\n",
       "      <th>Total Charges</th>\n",
       "      <th>Total Refunds</th>\n",
       "      <th>Total Extra Data Charges</th>\n",
       "      <th>Total Long Distance Charges</th>\n",
       "      <th>Total Revenue</th>\n",
       "    </tr>\n",
       "  </thead>\n",
       "  <tbody>\n",
       "    <tr>\n",
       "      <th>0</th>\n",
       "      <td>8779-QRDMV</td>\n",
       "      <td>1</td>\n",
       "      <td>Q3</td>\n",
       "      <td>No</td>\n",
       "      <td>0</td>\n",
       "      <td>1</td>\n",
       "      <td>None</td>\n",
       "      <td>No</td>\n",
       "      <td>0.00</td>\n",
       "      <td>No</td>\n",
       "      <td>...</td>\n",
       "      <td>No</td>\n",
       "      <td>Month-to-Month</td>\n",
       "      <td>Yes</td>\n",
       "      <td>Bank Withdrawal</td>\n",
       "      <td>39.65</td>\n",
       "      <td>39.65</td>\n",
       "      <td>0.00</td>\n",
       "      <td>20</td>\n",
       "      <td>0.00</td>\n",
       "      <td>59.65</td>\n",
       "    </tr>\n",
       "    <tr>\n",
       "      <th>1</th>\n",
       "      <td>7495-OOKFY</td>\n",
       "      <td>1</td>\n",
       "      <td>Q3</td>\n",
       "      <td>Yes</td>\n",
       "      <td>1</td>\n",
       "      <td>8</td>\n",
       "      <td>Offer E</td>\n",
       "      <td>Yes</td>\n",
       "      <td>48.85</td>\n",
       "      <td>Yes</td>\n",
       "      <td>...</td>\n",
       "      <td>Yes</td>\n",
       "      <td>Month-to-Month</td>\n",
       "      <td>Yes</td>\n",
       "      <td>Credit Card</td>\n",
       "      <td>80.65</td>\n",
       "      <td>633.30</td>\n",
       "      <td>0.00</td>\n",
       "      <td>0</td>\n",
       "      <td>390.80</td>\n",
       "      <td>1024.10</td>\n",
       "    </tr>\n",
       "    <tr>\n",
       "      <th>2</th>\n",
       "      <td>1658-BYGOY</td>\n",
       "      <td>1</td>\n",
       "      <td>Q3</td>\n",
       "      <td>No</td>\n",
       "      <td>0</td>\n",
       "      <td>18</td>\n",
       "      <td>Offer D</td>\n",
       "      <td>Yes</td>\n",
       "      <td>11.33</td>\n",
       "      <td>Yes</td>\n",
       "      <td>...</td>\n",
       "      <td>Yes</td>\n",
       "      <td>Month-to-Month</td>\n",
       "      <td>Yes</td>\n",
       "      <td>Bank Withdrawal</td>\n",
       "      <td>95.45</td>\n",
       "      <td>1752.55</td>\n",
       "      <td>45.61</td>\n",
       "      <td>0</td>\n",
       "      <td>203.94</td>\n",
       "      <td>1910.88</td>\n",
       "    </tr>\n",
       "    <tr>\n",
       "      <th>3</th>\n",
       "      <td>4598-XLKNJ</td>\n",
       "      <td>1</td>\n",
       "      <td>Q3</td>\n",
       "      <td>Yes</td>\n",
       "      <td>1</td>\n",
       "      <td>25</td>\n",
       "      <td>Offer C</td>\n",
       "      <td>Yes</td>\n",
       "      <td>19.76</td>\n",
       "      <td>No</td>\n",
       "      <td>...</td>\n",
       "      <td>Yes</td>\n",
       "      <td>Month-to-Month</td>\n",
       "      <td>Yes</td>\n",
       "      <td>Bank Withdrawal</td>\n",
       "      <td>98.50</td>\n",
       "      <td>2514.50</td>\n",
       "      <td>13.43</td>\n",
       "      <td>0</td>\n",
       "      <td>494.00</td>\n",
       "      <td>2995.07</td>\n",
       "    </tr>\n",
       "    <tr>\n",
       "      <th>4</th>\n",
       "      <td>4846-WHAFZ</td>\n",
       "      <td>1</td>\n",
       "      <td>Q3</td>\n",
       "      <td>Yes</td>\n",
       "      <td>1</td>\n",
       "      <td>37</td>\n",
       "      <td>Offer C</td>\n",
       "      <td>Yes</td>\n",
       "      <td>6.33</td>\n",
       "      <td>Yes</td>\n",
       "      <td>...</td>\n",
       "      <td>Yes</td>\n",
       "      <td>Month-to-Month</td>\n",
       "      <td>Yes</td>\n",
       "      <td>Bank Withdrawal</td>\n",
       "      <td>76.50</td>\n",
       "      <td>2868.15</td>\n",
       "      <td>0.00</td>\n",
       "      <td>0</td>\n",
       "      <td>234.21</td>\n",
       "      <td>3102.36</td>\n",
       "    </tr>\n",
       "  </tbody>\n",
       "</table>\n",
       "<p>5 rows × 30 columns</p>\n",
       "</div>"
      ],
      "text/plain": [
       "  Customer ID  Count Quarter Referred a Friend  Number of Referrals  \\\n",
       "0  8779-QRDMV      1      Q3                No                    0   \n",
       "1  7495-OOKFY      1      Q3               Yes                    1   \n",
       "2  1658-BYGOY      1      Q3                No                    0   \n",
       "3  4598-XLKNJ      1      Q3               Yes                    1   \n",
       "4  4846-WHAFZ      1      Q3               Yes                    1   \n",
       "\n",
       "   Tenure in Months    Offer Phone Service  Avg Monthly Long Distance Charges  \\\n",
       "0                 1     None            No                               0.00   \n",
       "1                 8  Offer E           Yes                              48.85   \n",
       "2                18  Offer D           Yes                              11.33   \n",
       "3                25  Offer C           Yes                              19.76   \n",
       "4                37  Offer C           Yes                               6.33   \n",
       "\n",
       "  Multiple Lines  ... Unlimited Data        Contract  Paperless Billing  \\\n",
       "0             No  ...             No  Month-to-Month                Yes   \n",
       "1            Yes  ...            Yes  Month-to-Month                Yes   \n",
       "2            Yes  ...            Yes  Month-to-Month                Yes   \n",
       "3             No  ...            Yes  Month-to-Month                Yes   \n",
       "4            Yes  ...            Yes  Month-to-Month                Yes   \n",
       "\n",
       "    Payment Method Monthly Charge Total Charges Total Refunds  \\\n",
       "0  Bank Withdrawal          39.65         39.65          0.00   \n",
       "1      Credit Card          80.65        633.30          0.00   \n",
       "2  Bank Withdrawal          95.45       1752.55         45.61   \n",
       "3  Bank Withdrawal          98.50       2514.50         13.43   \n",
       "4  Bank Withdrawal          76.50       2868.15          0.00   \n",
       "\n",
       "  Total Extra Data Charges Total Long Distance Charges Total Revenue  \n",
       "0                       20                        0.00         59.65  \n",
       "1                        0                      390.80       1024.10  \n",
       "2                        0                      203.94       1910.88  \n",
       "3                        0                      494.00       2995.07  \n",
       "4                        0                      234.21       3102.36  \n",
       "\n",
       "[5 rows x 30 columns]"
      ]
     },
     "execution_count": 7,
     "metadata": {},
     "output_type": "execute_result"
    }
   ],
   "source": [
    "df_services = pd.read_excel(path, sheet_name=\"services\")\n",
    "df_services.head()"
   ]
  },
  {
   "cell_type": "code",
   "execution_count": 8,
   "metadata": {},
   "outputs": [],
   "source": [
    "# df_services.info()"
   ]
  },
  {
   "cell_type": "markdown",
   "metadata": {},
   "source": [
    "#### Location"
   ]
  },
  {
   "cell_type": "code",
   "execution_count": 9,
   "metadata": {},
   "outputs": [
    {
     "data": {
      "text/html": [
       "<div>\n",
       "<style scoped>\n",
       "    .dataframe tbody tr th:only-of-type {\n",
       "        vertical-align: middle;\n",
       "    }\n",
       "\n",
       "    .dataframe tbody tr th {\n",
       "        vertical-align: top;\n",
       "    }\n",
       "\n",
       "    .dataframe thead th {\n",
       "        text-align: right;\n",
       "    }\n",
       "</style>\n",
       "<table border=\"1\" class=\"dataframe\">\n",
       "  <thead>\n",
       "    <tr style=\"text-align: right;\">\n",
       "      <th></th>\n",
       "      <th>Customer ID</th>\n",
       "      <th>Count</th>\n",
       "      <th>Country</th>\n",
       "      <th>State</th>\n",
       "      <th>City</th>\n",
       "      <th>Zip Code</th>\n",
       "      <th>Lat Long</th>\n",
       "      <th>Latitude</th>\n",
       "      <th>Longitude</th>\n",
       "    </tr>\n",
       "  </thead>\n",
       "  <tbody>\n",
       "    <tr>\n",
       "      <th>0</th>\n",
       "      <td>8779-QRDMV</td>\n",
       "      <td>1</td>\n",
       "      <td>United States</td>\n",
       "      <td>California</td>\n",
       "      <td>Los Angeles</td>\n",
       "      <td>90022</td>\n",
       "      <td>34.02381, -118.156582</td>\n",
       "      <td>34.023810</td>\n",
       "      <td>-118.156582</td>\n",
       "    </tr>\n",
       "    <tr>\n",
       "      <th>1</th>\n",
       "      <td>7495-OOKFY</td>\n",
       "      <td>1</td>\n",
       "      <td>United States</td>\n",
       "      <td>California</td>\n",
       "      <td>Los Angeles</td>\n",
       "      <td>90063</td>\n",
       "      <td>34.044271, -118.185237</td>\n",
       "      <td>34.044271</td>\n",
       "      <td>-118.185237</td>\n",
       "    </tr>\n",
       "    <tr>\n",
       "      <th>2</th>\n",
       "      <td>1658-BYGOY</td>\n",
       "      <td>1</td>\n",
       "      <td>United States</td>\n",
       "      <td>California</td>\n",
       "      <td>Los Angeles</td>\n",
       "      <td>90065</td>\n",
       "      <td>34.108833, -118.229715</td>\n",
       "      <td>34.108833</td>\n",
       "      <td>-118.229715</td>\n",
       "    </tr>\n",
       "    <tr>\n",
       "      <th>3</th>\n",
       "      <td>4598-XLKNJ</td>\n",
       "      <td>1</td>\n",
       "      <td>United States</td>\n",
       "      <td>California</td>\n",
       "      <td>Inglewood</td>\n",
       "      <td>90303</td>\n",
       "      <td>33.936291, -118.332639</td>\n",
       "      <td>33.936291</td>\n",
       "      <td>-118.332639</td>\n",
       "    </tr>\n",
       "    <tr>\n",
       "      <th>4</th>\n",
       "      <td>4846-WHAFZ</td>\n",
       "      <td>1</td>\n",
       "      <td>United States</td>\n",
       "      <td>California</td>\n",
       "      <td>Whittier</td>\n",
       "      <td>90602</td>\n",
       "      <td>33.972119, -118.020188</td>\n",
       "      <td>33.972119</td>\n",
       "      <td>-118.020188</td>\n",
       "    </tr>\n",
       "  </tbody>\n",
       "</table>\n",
       "</div>"
      ],
      "text/plain": [
       "  Customer ID  Count        Country       State         City  Zip Code  \\\n",
       "0  8779-QRDMV      1  United States  California  Los Angeles     90022   \n",
       "1  7495-OOKFY      1  United States  California  Los Angeles     90063   \n",
       "2  1658-BYGOY      1  United States  California  Los Angeles     90065   \n",
       "3  4598-XLKNJ      1  United States  California    Inglewood     90303   \n",
       "4  4846-WHAFZ      1  United States  California     Whittier     90602   \n",
       "\n",
       "                 Lat Long   Latitude   Longitude  \n",
       "0   34.02381, -118.156582  34.023810 -118.156582  \n",
       "1  34.044271, -118.185237  34.044271 -118.185237  \n",
       "2  34.108833, -118.229715  34.108833 -118.229715  \n",
       "3  33.936291, -118.332639  33.936291 -118.332639  \n",
       "4  33.972119, -118.020188  33.972119 -118.020188  "
      ]
     },
     "execution_count": 9,
     "metadata": {},
     "output_type": "execute_result"
    }
   ],
   "source": [
    "df_location = pd.read_excel(path, sheet_name=\"location\")\n",
    "df_location.head()"
   ]
  },
  {
   "cell_type": "code",
   "execution_count": 10,
   "metadata": {},
   "outputs": [],
   "source": [
    "# df_location.info()"
   ]
  },
  {
   "cell_type": "markdown",
   "metadata": {},
   "source": [
    "#### Population"
   ]
  },
  {
   "cell_type": "code",
   "execution_count": 11,
   "metadata": {},
   "outputs": [
    {
     "data": {
      "text/html": [
       "<div>\n",
       "<style scoped>\n",
       "    .dataframe tbody tr th:only-of-type {\n",
       "        vertical-align: middle;\n",
       "    }\n",
       "\n",
       "    .dataframe tbody tr th {\n",
       "        vertical-align: top;\n",
       "    }\n",
       "\n",
       "    .dataframe thead th {\n",
       "        text-align: right;\n",
       "    }\n",
       "</style>\n",
       "<table border=\"1\" class=\"dataframe\">\n",
       "  <thead>\n",
       "    <tr style=\"text-align: right;\">\n",
       "      <th></th>\n",
       "      <th>ID</th>\n",
       "      <th>Zip Code</th>\n",
       "      <th>Population</th>\n",
       "    </tr>\n",
       "  </thead>\n",
       "  <tbody>\n",
       "    <tr>\n",
       "      <th>0</th>\n",
       "      <td>1</td>\n",
       "      <td>90001</td>\n",
       "      <td>54492</td>\n",
       "    </tr>\n",
       "    <tr>\n",
       "      <th>1</th>\n",
       "      <td>2</td>\n",
       "      <td>90002</td>\n",
       "      <td>44586</td>\n",
       "    </tr>\n",
       "    <tr>\n",
       "      <th>2</th>\n",
       "      <td>3</td>\n",
       "      <td>90003</td>\n",
       "      <td>58198</td>\n",
       "    </tr>\n",
       "    <tr>\n",
       "      <th>3</th>\n",
       "      <td>4</td>\n",
       "      <td>90004</td>\n",
       "      <td>67852</td>\n",
       "    </tr>\n",
       "    <tr>\n",
       "      <th>4</th>\n",
       "      <td>5</td>\n",
       "      <td>90005</td>\n",
       "      <td>43019</td>\n",
       "    </tr>\n",
       "  </tbody>\n",
       "</table>\n",
       "</div>"
      ],
      "text/plain": [
       "   ID  Zip Code  Population\n",
       "0   1     90001       54492\n",
       "1   2     90002       44586\n",
       "2   3     90003       58198\n",
       "3   4     90004       67852\n",
       "4   5     90005       43019"
      ]
     },
     "execution_count": 11,
     "metadata": {},
     "output_type": "execute_result"
    }
   ],
   "source": [
    "df_population = pd.read_excel(path, sheet_name=\"population\")\n",
    "df_population.head()"
   ]
  },
  {
   "cell_type": "code",
   "execution_count": 12,
   "metadata": {},
   "outputs": [],
   "source": [
    "# df_population.info()"
   ]
  },
  {
   "cell_type": "markdown",
   "metadata": {},
   "source": [
    "#### Demographics"
   ]
  },
  {
   "cell_type": "code",
   "execution_count": 13,
   "metadata": {},
   "outputs": [
    {
     "data": {
      "text/html": [
       "<div>\n",
       "<style scoped>\n",
       "    .dataframe tbody tr th:only-of-type {\n",
       "        vertical-align: middle;\n",
       "    }\n",
       "\n",
       "    .dataframe tbody tr th {\n",
       "        vertical-align: top;\n",
       "    }\n",
       "\n",
       "    .dataframe thead th {\n",
       "        text-align: right;\n",
       "    }\n",
       "</style>\n",
       "<table border=\"1\" class=\"dataframe\">\n",
       "  <thead>\n",
       "    <tr style=\"text-align: right;\">\n",
       "      <th></th>\n",
       "      <th>Customer ID</th>\n",
       "      <th>Count</th>\n",
       "      <th>Gender</th>\n",
       "      <th>Age</th>\n",
       "      <th>Under 30</th>\n",
       "      <th>Senior Citizen</th>\n",
       "      <th>Married</th>\n",
       "      <th>Dependents</th>\n",
       "      <th>Number of Dependents</th>\n",
       "    </tr>\n",
       "  </thead>\n",
       "  <tbody>\n",
       "    <tr>\n",
       "      <th>0</th>\n",
       "      <td>8779-QRDMV</td>\n",
       "      <td>1</td>\n",
       "      <td>Male</td>\n",
       "      <td>78</td>\n",
       "      <td>No</td>\n",
       "      <td>Yes</td>\n",
       "      <td>No</td>\n",
       "      <td>No</td>\n",
       "      <td>0</td>\n",
       "    </tr>\n",
       "    <tr>\n",
       "      <th>1</th>\n",
       "      <td>7495-OOKFY</td>\n",
       "      <td>1</td>\n",
       "      <td>Female</td>\n",
       "      <td>74</td>\n",
       "      <td>No</td>\n",
       "      <td>Yes</td>\n",
       "      <td>Yes</td>\n",
       "      <td>Yes</td>\n",
       "      <td>1</td>\n",
       "    </tr>\n",
       "    <tr>\n",
       "      <th>2</th>\n",
       "      <td>1658-BYGOY</td>\n",
       "      <td>1</td>\n",
       "      <td>Male</td>\n",
       "      <td>71</td>\n",
       "      <td>No</td>\n",
       "      <td>Yes</td>\n",
       "      <td>No</td>\n",
       "      <td>Yes</td>\n",
       "      <td>3</td>\n",
       "    </tr>\n",
       "    <tr>\n",
       "      <th>3</th>\n",
       "      <td>4598-XLKNJ</td>\n",
       "      <td>1</td>\n",
       "      <td>Female</td>\n",
       "      <td>78</td>\n",
       "      <td>No</td>\n",
       "      <td>Yes</td>\n",
       "      <td>Yes</td>\n",
       "      <td>Yes</td>\n",
       "      <td>1</td>\n",
       "    </tr>\n",
       "    <tr>\n",
       "      <th>4</th>\n",
       "      <td>4846-WHAFZ</td>\n",
       "      <td>1</td>\n",
       "      <td>Female</td>\n",
       "      <td>80</td>\n",
       "      <td>No</td>\n",
       "      <td>Yes</td>\n",
       "      <td>Yes</td>\n",
       "      <td>Yes</td>\n",
       "      <td>1</td>\n",
       "    </tr>\n",
       "  </tbody>\n",
       "</table>\n",
       "</div>"
      ],
      "text/plain": [
       "  Customer ID  Count  Gender  Age Under 30 Senior Citizen Married Dependents  \\\n",
       "0  8779-QRDMV      1    Male   78       No            Yes      No         No   \n",
       "1  7495-OOKFY      1  Female   74       No            Yes     Yes        Yes   \n",
       "2  1658-BYGOY      1    Male   71       No            Yes      No        Yes   \n",
       "3  4598-XLKNJ      1  Female   78       No            Yes     Yes        Yes   \n",
       "4  4846-WHAFZ      1  Female   80       No            Yes     Yes        Yes   \n",
       "\n",
       "   Number of Dependents  \n",
       "0                     0  \n",
       "1                     1  \n",
       "2                     3  \n",
       "3                     1  \n",
       "4                     1  "
      ]
     },
     "execution_count": 13,
     "metadata": {},
     "output_type": "execute_result"
    }
   ],
   "source": [
    "df_demographics = pd.read_excel(path, sheet_name=\"demographics\")\n",
    "df_demographics.head()"
   ]
  },
  {
   "cell_type": "code",
   "execution_count": 14,
   "metadata": {},
   "outputs": [],
   "source": [
    "# df_demographics.info()"
   ]
  },
  {
   "cell_type": "markdown",
   "metadata": {},
   "source": [
    "### Concatenation\n",
    "\n",
    "Let us concatenate the dataframes into a single dataframe as it will be easier to work with. However, we must be careful combining these datasets as we must ensure that the data attributes correspond to the same clients. We also remark that the population dataframe is different from the others as each row does not correspond to a client but an area and an agglomeration of clients. We will see later if/how we can incorporate this into our data. "
   ]
  },
  {
   "cell_type": "markdown",
   "metadata": {},
   "source": [
    "Let us see for the other dataframes (excluding population) whether the customer Id's match in every row so that we can merge the data together. We see that not every dataframe has the same label for Customer ID so we first update them. We also see that all the contents of the original dataframe in contained within the four others (status, services, location and demographics)."
   ]
  },
  {
   "cell_type": "code",
   "execution_count": 15,
   "metadata": {},
   "outputs": [],
   "source": [
    "df_orig.rename(columns={'CustomerID': 'Customer ID'}, inplace=True)"
   ]
  },
  {
   "cell_type": "code",
   "execution_count": 16,
   "metadata": {},
   "outputs": [
    {
     "data": {
      "text/plain": [
       "\"Customer Id's match!\""
      ]
     },
     "execution_count": 16,
     "metadata": {},
     "output_type": "execute_result"
    }
   ],
   "source": [
    "def checkID(dataframes):\n",
    "    assert len(set(len(dataframe) for dataframe in dataframes)) == 1\n",
    "    for i in range(len(dataframes[0])):\n",
    "        for j in range(1, len(dataframes)):\n",
    "            try:\n",
    "                assert dataframes[0].iloc[i][\"Customer ID\"] == dataframes[j].iloc[i][\"Customer ID\"]\n",
    "            except:\n",
    "                print(i, j)\n",
    "    return \"Customer Id's match!\"\n",
    "\n",
    "dataframes = [df_status, df_services, df_location, df_demographics]\n",
    "checkID(dataframes)"
   ]
  },
  {
   "cell_type": "markdown",
   "metadata": {},
   "source": [
    "We see that these four datasets were indeed designed and created together. Therefore, we can safely concatenate them. "
   ]
  },
  {
   "cell_type": "code",
   "execution_count": 17,
   "metadata": {},
   "outputs": [
    {
     "data": {
      "text/html": [
       "<div>\n",
       "<style scoped>\n",
       "    .dataframe tbody tr th:only-of-type {\n",
       "        vertical-align: middle;\n",
       "    }\n",
       "\n",
       "    .dataframe tbody tr th {\n",
       "        vertical-align: top;\n",
       "    }\n",
       "\n",
       "    .dataframe thead th {\n",
       "        text-align: right;\n",
       "    }\n",
       "</style>\n",
       "<table border=\"1\" class=\"dataframe\">\n",
       "  <thead>\n",
       "    <tr style=\"text-align: right;\">\n",
       "      <th></th>\n",
       "      <th>Customer ID</th>\n",
       "      <th>Count</th>\n",
       "      <th>Quarter</th>\n",
       "      <th>Satisfaction Score</th>\n",
       "      <th>Customer Status</th>\n",
       "      <th>Churn Label</th>\n",
       "      <th>Churn Value</th>\n",
       "      <th>Churn Score</th>\n",
       "      <th>CLTV</th>\n",
       "      <th>Churn Category</th>\n",
       "      <th>...</th>\n",
       "      <th>Longitude</th>\n",
       "      <th>Customer ID</th>\n",
       "      <th>Count</th>\n",
       "      <th>Gender</th>\n",
       "      <th>Age</th>\n",
       "      <th>Under 30</th>\n",
       "      <th>Senior Citizen</th>\n",
       "      <th>Married</th>\n",
       "      <th>Dependents</th>\n",
       "      <th>Number of Dependents</th>\n",
       "    </tr>\n",
       "  </thead>\n",
       "  <tbody>\n",
       "    <tr>\n",
       "      <th>0</th>\n",
       "      <td>8779-QRDMV</td>\n",
       "      <td>1</td>\n",
       "      <td>Q3</td>\n",
       "      <td>3</td>\n",
       "      <td>Churned</td>\n",
       "      <td>Yes</td>\n",
       "      <td>1</td>\n",
       "      <td>91</td>\n",
       "      <td>5433</td>\n",
       "      <td>Competitor</td>\n",
       "      <td>...</td>\n",
       "      <td>-118.156582</td>\n",
       "      <td>8779-QRDMV</td>\n",
       "      <td>1</td>\n",
       "      <td>Male</td>\n",
       "      <td>78</td>\n",
       "      <td>No</td>\n",
       "      <td>Yes</td>\n",
       "      <td>No</td>\n",
       "      <td>No</td>\n",
       "      <td>0</td>\n",
       "    </tr>\n",
       "    <tr>\n",
       "      <th>1</th>\n",
       "      <td>7495-OOKFY</td>\n",
       "      <td>1</td>\n",
       "      <td>Q3</td>\n",
       "      <td>3</td>\n",
       "      <td>Churned</td>\n",
       "      <td>Yes</td>\n",
       "      <td>1</td>\n",
       "      <td>69</td>\n",
       "      <td>5302</td>\n",
       "      <td>Competitor</td>\n",
       "      <td>...</td>\n",
       "      <td>-118.185237</td>\n",
       "      <td>7495-OOKFY</td>\n",
       "      <td>1</td>\n",
       "      <td>Female</td>\n",
       "      <td>74</td>\n",
       "      <td>No</td>\n",
       "      <td>Yes</td>\n",
       "      <td>Yes</td>\n",
       "      <td>Yes</td>\n",
       "      <td>1</td>\n",
       "    </tr>\n",
       "    <tr>\n",
       "      <th>2</th>\n",
       "      <td>1658-BYGOY</td>\n",
       "      <td>1</td>\n",
       "      <td>Q3</td>\n",
       "      <td>2</td>\n",
       "      <td>Churned</td>\n",
       "      <td>Yes</td>\n",
       "      <td>1</td>\n",
       "      <td>81</td>\n",
       "      <td>3179</td>\n",
       "      <td>Competitor</td>\n",
       "      <td>...</td>\n",
       "      <td>-118.229715</td>\n",
       "      <td>1658-BYGOY</td>\n",
       "      <td>1</td>\n",
       "      <td>Male</td>\n",
       "      <td>71</td>\n",
       "      <td>No</td>\n",
       "      <td>Yes</td>\n",
       "      <td>No</td>\n",
       "      <td>Yes</td>\n",
       "      <td>3</td>\n",
       "    </tr>\n",
       "    <tr>\n",
       "      <th>3</th>\n",
       "      <td>4598-XLKNJ</td>\n",
       "      <td>1</td>\n",
       "      <td>Q3</td>\n",
       "      <td>2</td>\n",
       "      <td>Churned</td>\n",
       "      <td>Yes</td>\n",
       "      <td>1</td>\n",
       "      <td>88</td>\n",
       "      <td>5337</td>\n",
       "      <td>Dissatisfaction</td>\n",
       "      <td>...</td>\n",
       "      <td>-118.332639</td>\n",
       "      <td>4598-XLKNJ</td>\n",
       "      <td>1</td>\n",
       "      <td>Female</td>\n",
       "      <td>78</td>\n",
       "      <td>No</td>\n",
       "      <td>Yes</td>\n",
       "      <td>Yes</td>\n",
       "      <td>Yes</td>\n",
       "      <td>1</td>\n",
       "    </tr>\n",
       "    <tr>\n",
       "      <th>4</th>\n",
       "      <td>4846-WHAFZ</td>\n",
       "      <td>1</td>\n",
       "      <td>Q3</td>\n",
       "      <td>2</td>\n",
       "      <td>Churned</td>\n",
       "      <td>Yes</td>\n",
       "      <td>1</td>\n",
       "      <td>67</td>\n",
       "      <td>2793</td>\n",
       "      <td>Price</td>\n",
       "      <td>...</td>\n",
       "      <td>-118.020188</td>\n",
       "      <td>4846-WHAFZ</td>\n",
       "      <td>1</td>\n",
       "      <td>Female</td>\n",
       "      <td>80</td>\n",
       "      <td>No</td>\n",
       "      <td>Yes</td>\n",
       "      <td>Yes</td>\n",
       "      <td>Yes</td>\n",
       "      <td>1</td>\n",
       "    </tr>\n",
       "  </tbody>\n",
       "</table>\n",
       "<p>5 rows × 59 columns</p>\n",
       "</div>"
      ],
      "text/plain": [
       "  Customer ID  Count Quarter  Satisfaction Score Customer Status Churn Label  \\\n",
       "0  8779-QRDMV      1      Q3                   3         Churned         Yes   \n",
       "1  7495-OOKFY      1      Q3                   3         Churned         Yes   \n",
       "2  1658-BYGOY      1      Q3                   2         Churned         Yes   \n",
       "3  4598-XLKNJ      1      Q3                   2         Churned         Yes   \n",
       "4  4846-WHAFZ      1      Q3                   2         Churned         Yes   \n",
       "\n",
       "   Churn Value  Churn Score  CLTV   Churn Category  ...   Longitude  \\\n",
       "0            1           91  5433       Competitor  ... -118.156582   \n",
       "1            1           69  5302       Competitor  ... -118.185237   \n",
       "2            1           81  3179       Competitor  ... -118.229715   \n",
       "3            1           88  5337  Dissatisfaction  ... -118.332639   \n",
       "4            1           67  2793            Price  ... -118.020188   \n",
       "\n",
       "  Customer ID  Count  Gender Age  Under 30  Senior Citizen Married Dependents  \\\n",
       "0  8779-QRDMV      1    Male  78        No             Yes      No         No   \n",
       "1  7495-OOKFY      1  Female  74        No             Yes     Yes        Yes   \n",
       "2  1658-BYGOY      1    Male  71        No             Yes      No        Yes   \n",
       "3  4598-XLKNJ      1  Female  78        No             Yes     Yes        Yes   \n",
       "4  4846-WHAFZ      1  Female  80        No             Yes     Yes        Yes   \n",
       "\n",
       "   Number of Dependents  \n",
       "0                     0  \n",
       "1                     1  \n",
       "2                     3  \n",
       "3                     1  \n",
       "4                     1  \n",
       "\n",
       "[5 rows x 59 columns]"
      ]
     },
     "execution_count": 17,
     "metadata": {},
     "output_type": "execute_result"
    }
   ],
   "source": [
    "df = pd.concat([df_status, df_services, df_location, df_demographics], axis=1, join='outer', ignore_index=False, verify_integrity=False)\n",
    "df.head()"
   ]
  },
  {
   "cell_type": "code",
   "execution_count": 18,
   "metadata": {},
   "outputs": [],
   "source": [
    "pop = pd.Series([0] * df.shape[0])\n",
    "for i in range(df.shape[0]):\n",
    "    pop[i] = df_population.loc[df_population[\"Zip Code\"] == df.iloc[i][\"Zip Code\"], \"Population\"]\n",
    "df[\"Population\"] = pop"
   ]
  },
  {
   "cell_type": "markdown",
   "metadata": {},
   "source": [
    "If we set `verify_integrity=True`, we'll find that we have overlapping columns: `Customer ID, Count, Quarter`. Therefore, we remove these duplicate columns from our new dataframe. "
   ]
  },
  {
   "cell_type": "markdown",
   "metadata": {},
   "source": [
    "### Removing Duplicates"
   ]
  },
  {
   "cell_type": "code",
   "execution_count": 19,
   "metadata": {},
   "outputs": [],
   "source": [
    "df = df.loc[:,~df.columns.duplicated()] # Removes duplicates\n",
    "# df.info()"
   ]
  },
  {
   "cell_type": "markdown",
   "metadata": {},
   "source": [
    "Having removed duplicates, we now have 51 variables. "
   ]
  },
  {
   "cell_type": "markdown",
   "metadata": {},
   "source": [
    "We save the new dataset into a new file so that we do not have to rerun the code every time. "
   ]
  },
  {
   "cell_type": "code",
   "execution_count": 20,
   "metadata": {},
   "outputs": [
    {
     "data": {
      "text/plain": [
       "Customer ID                             0\n",
       "Count                                   0\n",
       "Quarter                                 0\n",
       "Satisfaction Score                      0\n",
       "Customer Status                         0\n",
       "Churn Label                             0\n",
       "Churn Value                             0\n",
       "Churn Score                             0\n",
       "CLTV                                    0\n",
       "Churn Category                       5174\n",
       "Churn Reason                         5174\n",
       "Referred a Friend                       0\n",
       "Number of Referrals                     0\n",
       "Tenure in Months                        0\n",
       "Offer                                   0\n",
       "Phone Service                           0\n",
       "Avg Monthly Long Distance Charges       0\n",
       "Multiple Lines                          0\n",
       "Internet Service                        0\n",
       "Internet Type                           0\n",
       "Avg Monthly GB Download                 0\n",
       "Online Security                         0\n",
       "Online Backup                           0\n",
       "Device Protection Plan                  0\n",
       "Premium Tech Support                    0\n",
       "Streaming TV                            0\n",
       "Streaming Movies                        0\n",
       "Streaming Music                         0\n",
       "Unlimited Data                          0\n",
       "Contract                                0\n",
       "Paperless Billing                       0\n",
       "Payment Method                          0\n",
       "Monthly Charge                          0\n",
       "Total Charges                           0\n",
       "Total Refunds                           0\n",
       "Total Extra Data Charges                0\n",
       "Total Long Distance Charges             0\n",
       "Total Revenue                           0\n",
       "Country                                 0\n",
       "State                                   0\n",
       "City                                    0\n",
       "Zip Code                                0\n",
       "Lat Long                                0\n",
       "Latitude                                0\n",
       "Longitude                               0\n",
       "Gender                                  0\n",
       "Age                                     0\n",
       "Under 30                                0\n",
       "Senior Citizen                          0\n",
       "Married                                 0\n",
       "Dependents                              0\n",
       "Number of Dependents                    0\n",
       "Population                              0\n",
       "dtype: int64"
      ]
     },
     "execution_count": 20,
     "metadata": {},
     "output_type": "execute_result"
    }
   ],
   "source": [
    "df.isnull().sum(axis=0)"
   ]
  },
  {
   "cell_type": "code",
   "execution_count": 21,
   "metadata": {},
   "outputs": [],
   "source": [
    "# df.groupby(\"Churn Category\")[\"Customer ID\"].nunique()"
   ]
  },
  {
   "cell_type": "code",
   "execution_count": 22,
   "metadata": {},
   "outputs": [],
   "source": [
    "# df.groupby(\"Churn Reason\")[\"Customer ID\"].nunique()"
   ]
  },
  {
   "cell_type": "code",
   "execution_count": 23,
   "metadata": {},
   "outputs": [],
   "source": [
    "# df.groupby(\"Churn Label\")[\"Customer ID\"].nunique()"
   ]
  },
  {
   "cell_type": "code",
   "execution_count": 24,
   "metadata": {},
   "outputs": [],
   "source": [
    "# df.groupby(\"Customer Status\")[\"Customer ID\"].nunique()"
   ]
  },
  {
   "cell_type": "code",
   "execution_count": 25,
   "metadata": {},
   "outputs": [],
   "source": [
    "# df.groupby(\"Churn Value\")[\"Customer ID\"].nunique()"
   ]
  },
  {
   "cell_type": "markdown",
   "metadata": {},
   "source": [
    "#### Dropping Redundant columns"
   ]
  },
  {
   "cell_type": "markdown",
   "metadata": {},
   "source": [
    "Remarks: Clearly the customers with the status of \"Joined\" have been considered as customers who are not going to churn. Decision to be made: Include or not include? We can try both. I propose leaving it for now and then trying running our algorithms at the end of the project. There is an interesting tradeoff. We would expect that removing the 450 or so customers who have only \"joined\" would make the features of customers who do not churn more precise and increase their importance, improving accuracy. On the other hand we are removing training instances so it may be more difficult to train certain models such as neural networks which require large amounts of data. This is already a medium-sized dataset (not that large) so removing 500 instances is not insignificant.  "
   ]
  },
  {
   "cell_type": "markdown",
   "metadata": {},
   "source": [
    "It is clear that we must drop some columns such as \"Churn Reason\", which would immediately inform our algorithms whether a customer churned or not. \n",
    "\n",
    "Some of the columns we drop:\n",
    "- Count: Every value is equal to 1\n",
    "- Quarter: Every value is equal to Q3\n",
    "- Country: Every value is equal to \"United States\"\n",
    "- State: Every value is equal to \"California\"\n",
    "- Churn Category\n",
    "- Churn Reason\n",
    "- Churn Value\n",
    "- Lat long: Concatenates the Lat and Long columns into one"
   ]
  },
  {
   "cell_type": "code",
   "execution_count": 26,
   "metadata": {},
   "outputs": [],
   "source": [
    "df.drop(columns=[\"Churn Category\", \"Churn Reason\", \"Customer Status\", \"Churn Value\", \"Churn Score\", \"Count\", \"Quarter\", \"Lat Long\", \"State\", \"Country\", \"Satisfaction Score\"], inplace=True, axis=1)"
   ]
  },
  {
   "cell_type": "code",
   "execution_count": 27,
   "metadata": {},
   "outputs": [],
   "source": [
    "df[\"Churn Label\"] = df[\"Churn Label\"].eq('Yes').mul(1)"
   ]
  },
  {
   "cell_type": "code",
   "execution_count": 28,
   "metadata": {},
   "outputs": [
    {
     "data": {
      "text/html": [
       "<div>\n",
       "<style scoped>\n",
       "    .dataframe tbody tr th:only-of-type {\n",
       "        vertical-align: middle;\n",
       "    }\n",
       "\n",
       "    .dataframe tbody tr th {\n",
       "        vertical-align: top;\n",
       "    }\n",
       "\n",
       "    .dataframe thead th {\n",
       "        text-align: right;\n",
       "    }\n",
       "</style>\n",
       "<table border=\"1\" class=\"dataframe\">\n",
       "  <thead>\n",
       "    <tr style=\"text-align: right;\">\n",
       "      <th></th>\n",
       "      <th>0</th>\n",
       "      <th>1</th>\n",
       "      <th>2</th>\n",
       "      <th>3</th>\n",
       "      <th>4</th>\n",
       "    </tr>\n",
       "  </thead>\n",
       "  <tbody>\n",
       "    <tr>\n",
       "      <th>Customer ID</th>\n",
       "      <td>8779-QRDMV</td>\n",
       "      <td>7495-OOKFY</td>\n",
       "      <td>1658-BYGOY</td>\n",
       "      <td>4598-XLKNJ</td>\n",
       "      <td>4846-WHAFZ</td>\n",
       "    </tr>\n",
       "    <tr>\n",
       "      <th>Churn Label</th>\n",
       "      <td>1</td>\n",
       "      <td>1</td>\n",
       "      <td>1</td>\n",
       "      <td>1</td>\n",
       "      <td>1</td>\n",
       "    </tr>\n",
       "    <tr>\n",
       "      <th>CLTV</th>\n",
       "      <td>5433</td>\n",
       "      <td>5302</td>\n",
       "      <td>3179</td>\n",
       "      <td>5337</td>\n",
       "      <td>2793</td>\n",
       "    </tr>\n",
       "    <tr>\n",
       "      <th>Referred a Friend</th>\n",
       "      <td>No</td>\n",
       "      <td>Yes</td>\n",
       "      <td>No</td>\n",
       "      <td>Yes</td>\n",
       "      <td>Yes</td>\n",
       "    </tr>\n",
       "    <tr>\n",
       "      <th>Number of Referrals</th>\n",
       "      <td>0</td>\n",
       "      <td>1</td>\n",
       "      <td>0</td>\n",
       "      <td>1</td>\n",
       "      <td>1</td>\n",
       "    </tr>\n",
       "    <tr>\n",
       "      <th>Tenure in Months</th>\n",
       "      <td>1</td>\n",
       "      <td>8</td>\n",
       "      <td>18</td>\n",
       "      <td>25</td>\n",
       "      <td>37</td>\n",
       "    </tr>\n",
       "    <tr>\n",
       "      <th>Offer</th>\n",
       "      <td>None</td>\n",
       "      <td>Offer E</td>\n",
       "      <td>Offer D</td>\n",
       "      <td>Offer C</td>\n",
       "      <td>Offer C</td>\n",
       "    </tr>\n",
       "    <tr>\n",
       "      <th>Phone Service</th>\n",
       "      <td>No</td>\n",
       "      <td>Yes</td>\n",
       "      <td>Yes</td>\n",
       "      <td>Yes</td>\n",
       "      <td>Yes</td>\n",
       "    </tr>\n",
       "    <tr>\n",
       "      <th>Avg Monthly Long Distance Charges</th>\n",
       "      <td>0</td>\n",
       "      <td>48.85</td>\n",
       "      <td>11.33</td>\n",
       "      <td>19.76</td>\n",
       "      <td>6.33</td>\n",
       "    </tr>\n",
       "    <tr>\n",
       "      <th>Multiple Lines</th>\n",
       "      <td>No</td>\n",
       "      <td>Yes</td>\n",
       "      <td>Yes</td>\n",
       "      <td>No</td>\n",
       "      <td>Yes</td>\n",
       "    </tr>\n",
       "    <tr>\n",
       "      <th>Internet Service</th>\n",
       "      <td>Yes</td>\n",
       "      <td>Yes</td>\n",
       "      <td>Yes</td>\n",
       "      <td>Yes</td>\n",
       "      <td>Yes</td>\n",
       "    </tr>\n",
       "    <tr>\n",
       "      <th>Internet Type</th>\n",
       "      <td>DSL</td>\n",
       "      <td>Fiber Optic</td>\n",
       "      <td>Fiber Optic</td>\n",
       "      <td>Fiber Optic</td>\n",
       "      <td>Fiber Optic</td>\n",
       "    </tr>\n",
       "    <tr>\n",
       "      <th>Avg Monthly GB Download</th>\n",
       "      <td>8</td>\n",
       "      <td>17</td>\n",
       "      <td>52</td>\n",
       "      <td>12</td>\n",
       "      <td>14</td>\n",
       "    </tr>\n",
       "    <tr>\n",
       "      <th>Online Security</th>\n",
       "      <td>No</td>\n",
       "      <td>No</td>\n",
       "      <td>No</td>\n",
       "      <td>No</td>\n",
       "      <td>No</td>\n",
       "    </tr>\n",
       "    <tr>\n",
       "      <th>Online Backup</th>\n",
       "      <td>No</td>\n",
       "      <td>Yes</td>\n",
       "      <td>No</td>\n",
       "      <td>Yes</td>\n",
       "      <td>No</td>\n",
       "    </tr>\n",
       "    <tr>\n",
       "      <th>Device Protection Plan</th>\n",
       "      <td>Yes</td>\n",
       "      <td>No</td>\n",
       "      <td>No</td>\n",
       "      <td>Yes</td>\n",
       "      <td>No</td>\n",
       "    </tr>\n",
       "    <tr>\n",
       "      <th>Premium Tech Support</th>\n",
       "      <td>No</td>\n",
       "      <td>No</td>\n",
       "      <td>No</td>\n",
       "      <td>No</td>\n",
       "      <td>No</td>\n",
       "    </tr>\n",
       "    <tr>\n",
       "      <th>Streaming TV</th>\n",
       "      <td>No</td>\n",
       "      <td>No</td>\n",
       "      <td>Yes</td>\n",
       "      <td>Yes</td>\n",
       "      <td>No</td>\n",
       "    </tr>\n",
       "    <tr>\n",
       "      <th>Streaming Movies</th>\n",
       "      <td>Yes</td>\n",
       "      <td>No</td>\n",
       "      <td>Yes</td>\n",
       "      <td>Yes</td>\n",
       "      <td>No</td>\n",
       "    </tr>\n",
       "    <tr>\n",
       "      <th>Streaming Music</th>\n",
       "      <td>No</td>\n",
       "      <td>No</td>\n",
       "      <td>Yes</td>\n",
       "      <td>No</td>\n",
       "      <td>No</td>\n",
       "    </tr>\n",
       "    <tr>\n",
       "      <th>Unlimited Data</th>\n",
       "      <td>No</td>\n",
       "      <td>Yes</td>\n",
       "      <td>Yes</td>\n",
       "      <td>Yes</td>\n",
       "      <td>Yes</td>\n",
       "    </tr>\n",
       "    <tr>\n",
       "      <th>Contract</th>\n",
       "      <td>Month-to-Month</td>\n",
       "      <td>Month-to-Month</td>\n",
       "      <td>Month-to-Month</td>\n",
       "      <td>Month-to-Month</td>\n",
       "      <td>Month-to-Month</td>\n",
       "    </tr>\n",
       "    <tr>\n",
       "      <th>Paperless Billing</th>\n",
       "      <td>Yes</td>\n",
       "      <td>Yes</td>\n",
       "      <td>Yes</td>\n",
       "      <td>Yes</td>\n",
       "      <td>Yes</td>\n",
       "    </tr>\n",
       "    <tr>\n",
       "      <th>Payment Method</th>\n",
       "      <td>Bank Withdrawal</td>\n",
       "      <td>Credit Card</td>\n",
       "      <td>Bank Withdrawal</td>\n",
       "      <td>Bank Withdrawal</td>\n",
       "      <td>Bank Withdrawal</td>\n",
       "    </tr>\n",
       "    <tr>\n",
       "      <th>Monthly Charge</th>\n",
       "      <td>39.65</td>\n",
       "      <td>80.65</td>\n",
       "      <td>95.45</td>\n",
       "      <td>98.5</td>\n",
       "      <td>76.5</td>\n",
       "    </tr>\n",
       "    <tr>\n",
       "      <th>Total Charges</th>\n",
       "      <td>39.65</td>\n",
       "      <td>633.3</td>\n",
       "      <td>1752.55</td>\n",
       "      <td>2514.5</td>\n",
       "      <td>2868.15</td>\n",
       "    </tr>\n",
       "    <tr>\n",
       "      <th>Total Refunds</th>\n",
       "      <td>0</td>\n",
       "      <td>0</td>\n",
       "      <td>45.61</td>\n",
       "      <td>13.43</td>\n",
       "      <td>0</td>\n",
       "    </tr>\n",
       "    <tr>\n",
       "      <th>Total Extra Data Charges</th>\n",
       "      <td>20</td>\n",
       "      <td>0</td>\n",
       "      <td>0</td>\n",
       "      <td>0</td>\n",
       "      <td>0</td>\n",
       "    </tr>\n",
       "    <tr>\n",
       "      <th>Total Long Distance Charges</th>\n",
       "      <td>0</td>\n",
       "      <td>390.8</td>\n",
       "      <td>203.94</td>\n",
       "      <td>494</td>\n",
       "      <td>234.21</td>\n",
       "    </tr>\n",
       "    <tr>\n",
       "      <th>Total Revenue</th>\n",
       "      <td>59.65</td>\n",
       "      <td>1024.1</td>\n",
       "      <td>1910.88</td>\n",
       "      <td>2995.07</td>\n",
       "      <td>3102.36</td>\n",
       "    </tr>\n",
       "    <tr>\n",
       "      <th>City</th>\n",
       "      <td>Los Angeles</td>\n",
       "      <td>Los Angeles</td>\n",
       "      <td>Los Angeles</td>\n",
       "      <td>Inglewood</td>\n",
       "      <td>Whittier</td>\n",
       "    </tr>\n",
       "    <tr>\n",
       "      <th>Zip Code</th>\n",
       "      <td>90022</td>\n",
       "      <td>90063</td>\n",
       "      <td>90065</td>\n",
       "      <td>90303</td>\n",
       "      <td>90602</td>\n",
       "    </tr>\n",
       "    <tr>\n",
       "      <th>Latitude</th>\n",
       "      <td>34.0238</td>\n",
       "      <td>34.0443</td>\n",
       "      <td>34.1088</td>\n",
       "      <td>33.9363</td>\n",
       "      <td>33.9721</td>\n",
       "    </tr>\n",
       "    <tr>\n",
       "      <th>Longitude</th>\n",
       "      <td>-118.157</td>\n",
       "      <td>-118.185</td>\n",
       "      <td>-118.23</td>\n",
       "      <td>-118.333</td>\n",
       "      <td>-118.02</td>\n",
       "    </tr>\n",
       "    <tr>\n",
       "      <th>Gender</th>\n",
       "      <td>Male</td>\n",
       "      <td>Female</td>\n",
       "      <td>Male</td>\n",
       "      <td>Female</td>\n",
       "      <td>Female</td>\n",
       "    </tr>\n",
       "    <tr>\n",
       "      <th>Age</th>\n",
       "      <td>78</td>\n",
       "      <td>74</td>\n",
       "      <td>71</td>\n",
       "      <td>78</td>\n",
       "      <td>80</td>\n",
       "    </tr>\n",
       "    <tr>\n",
       "      <th>Under 30</th>\n",
       "      <td>No</td>\n",
       "      <td>No</td>\n",
       "      <td>No</td>\n",
       "      <td>No</td>\n",
       "      <td>No</td>\n",
       "    </tr>\n",
       "    <tr>\n",
       "      <th>Senior Citizen</th>\n",
       "      <td>Yes</td>\n",
       "      <td>Yes</td>\n",
       "      <td>Yes</td>\n",
       "      <td>Yes</td>\n",
       "      <td>Yes</td>\n",
       "    </tr>\n",
       "    <tr>\n",
       "      <th>Married</th>\n",
       "      <td>No</td>\n",
       "      <td>Yes</td>\n",
       "      <td>No</td>\n",
       "      <td>Yes</td>\n",
       "      <td>Yes</td>\n",
       "    </tr>\n",
       "    <tr>\n",
       "      <th>Dependents</th>\n",
       "      <td>No</td>\n",
       "      <td>Yes</td>\n",
       "      <td>Yes</td>\n",
       "      <td>Yes</td>\n",
       "      <td>Yes</td>\n",
       "    </tr>\n",
       "    <tr>\n",
       "      <th>Number of Dependents</th>\n",
       "      <td>0</td>\n",
       "      <td>1</td>\n",
       "      <td>3</td>\n",
       "      <td>1</td>\n",
       "      <td>1</td>\n",
       "    </tr>\n",
       "    <tr>\n",
       "      <th>Population</th>\n",
       "      <td>68701</td>\n",
       "      <td>55668</td>\n",
       "      <td>47534</td>\n",
       "      <td>27778</td>\n",
       "      <td>26265</td>\n",
       "    </tr>\n",
       "  </tbody>\n",
       "</table>\n",
       "</div>"
      ],
      "text/plain": [
       "                                                 0               1  \\\n",
       "Customer ID                             8779-QRDMV      7495-OOKFY   \n",
       "Churn Label                                      1               1   \n",
       "CLTV                                          5433            5302   \n",
       "Referred a Friend                               No             Yes   \n",
       "Number of Referrals                              0               1   \n",
       "Tenure in Months                                 1               8   \n",
       "Offer                                         None         Offer E   \n",
       "Phone Service                                   No             Yes   \n",
       "Avg Monthly Long Distance Charges                0           48.85   \n",
       "Multiple Lines                                  No             Yes   \n",
       "Internet Service                               Yes             Yes   \n",
       "Internet Type                                  DSL     Fiber Optic   \n",
       "Avg Monthly GB Download                          8              17   \n",
       "Online Security                                 No              No   \n",
       "Online Backup                                   No             Yes   \n",
       "Device Protection Plan                         Yes              No   \n",
       "Premium Tech Support                            No              No   \n",
       "Streaming TV                                    No              No   \n",
       "Streaming Movies                               Yes              No   \n",
       "Streaming Music                                 No              No   \n",
       "Unlimited Data                                  No             Yes   \n",
       "Contract                            Month-to-Month  Month-to-Month   \n",
       "Paperless Billing                              Yes             Yes   \n",
       "Payment Method                     Bank Withdrawal     Credit Card   \n",
       "Monthly Charge                               39.65           80.65   \n",
       "Total Charges                                39.65           633.3   \n",
       "Total Refunds                                    0               0   \n",
       "Total Extra Data Charges                        20               0   \n",
       "Total Long Distance Charges                      0           390.8   \n",
       "Total Revenue                                59.65          1024.1   \n",
       "City                                   Los Angeles     Los Angeles   \n",
       "Zip Code                                     90022           90063   \n",
       "Latitude                                   34.0238         34.0443   \n",
       "Longitude                                 -118.157        -118.185   \n",
       "Gender                                        Male          Female   \n",
       "Age                                             78              74   \n",
       "Under 30                                        No              No   \n",
       "Senior Citizen                                 Yes             Yes   \n",
       "Married                                         No             Yes   \n",
       "Dependents                                      No             Yes   \n",
       "Number of Dependents                             0               1   \n",
       "Population                                   68701           55668   \n",
       "\n",
       "                                                 2                3  \\\n",
       "Customer ID                             1658-BYGOY       4598-XLKNJ   \n",
       "Churn Label                                      1                1   \n",
       "CLTV                                          3179             5337   \n",
       "Referred a Friend                               No              Yes   \n",
       "Number of Referrals                              0                1   \n",
       "Tenure in Months                                18               25   \n",
       "Offer                                      Offer D          Offer C   \n",
       "Phone Service                                  Yes              Yes   \n",
       "Avg Monthly Long Distance Charges            11.33            19.76   \n",
       "Multiple Lines                                 Yes               No   \n",
       "Internet Service                               Yes              Yes   \n",
       "Internet Type                          Fiber Optic      Fiber Optic   \n",
       "Avg Monthly GB Download                         52               12   \n",
       "Online Security                                 No               No   \n",
       "Online Backup                                   No              Yes   \n",
       "Device Protection Plan                          No              Yes   \n",
       "Premium Tech Support                            No               No   \n",
       "Streaming TV                                   Yes              Yes   \n",
       "Streaming Movies                               Yes              Yes   \n",
       "Streaming Music                                Yes               No   \n",
       "Unlimited Data                                 Yes              Yes   \n",
       "Contract                            Month-to-Month   Month-to-Month   \n",
       "Paperless Billing                              Yes              Yes   \n",
       "Payment Method                     Bank Withdrawal  Bank Withdrawal   \n",
       "Monthly Charge                               95.45             98.5   \n",
       "Total Charges                              1752.55           2514.5   \n",
       "Total Refunds                                45.61            13.43   \n",
       "Total Extra Data Charges                         0                0   \n",
       "Total Long Distance Charges                 203.94              494   \n",
       "Total Revenue                              1910.88          2995.07   \n",
       "City                                   Los Angeles        Inglewood   \n",
       "Zip Code                                     90065            90303   \n",
       "Latitude                                   34.1088          33.9363   \n",
       "Longitude                                  -118.23         -118.333   \n",
       "Gender                                        Male           Female   \n",
       "Age                                             71               78   \n",
       "Under 30                                        No               No   \n",
       "Senior Citizen                                 Yes              Yes   \n",
       "Married                                         No              Yes   \n",
       "Dependents                                     Yes              Yes   \n",
       "Number of Dependents                             3                1   \n",
       "Population                                   47534            27778   \n",
       "\n",
       "                                                 4  \n",
       "Customer ID                             4846-WHAFZ  \n",
       "Churn Label                                      1  \n",
       "CLTV                                          2793  \n",
       "Referred a Friend                              Yes  \n",
       "Number of Referrals                              1  \n",
       "Tenure in Months                                37  \n",
       "Offer                                      Offer C  \n",
       "Phone Service                                  Yes  \n",
       "Avg Monthly Long Distance Charges             6.33  \n",
       "Multiple Lines                                 Yes  \n",
       "Internet Service                               Yes  \n",
       "Internet Type                          Fiber Optic  \n",
       "Avg Monthly GB Download                         14  \n",
       "Online Security                                 No  \n",
       "Online Backup                                   No  \n",
       "Device Protection Plan                          No  \n",
       "Premium Tech Support                            No  \n",
       "Streaming TV                                    No  \n",
       "Streaming Movies                                No  \n",
       "Streaming Music                                 No  \n",
       "Unlimited Data                                 Yes  \n",
       "Contract                            Month-to-Month  \n",
       "Paperless Billing                              Yes  \n",
       "Payment Method                     Bank Withdrawal  \n",
       "Monthly Charge                                76.5  \n",
       "Total Charges                              2868.15  \n",
       "Total Refunds                                    0  \n",
       "Total Extra Data Charges                         0  \n",
       "Total Long Distance Charges                 234.21  \n",
       "Total Revenue                              3102.36  \n",
       "City                                      Whittier  \n",
       "Zip Code                                     90602  \n",
       "Latitude                                   33.9721  \n",
       "Longitude                                  -118.02  \n",
       "Gender                                      Female  \n",
       "Age                                             80  \n",
       "Under 30                                        No  \n",
       "Senior Citizen                                 Yes  \n",
       "Married                                        Yes  \n",
       "Dependents                                     Yes  \n",
       "Number of Dependents                             1  \n",
       "Population                                   26265  "
      ]
     },
     "execution_count": 28,
     "metadata": {},
     "output_type": "execute_result"
    }
   ],
   "source": [
    "df.head().T"
   ]
  },
  {
   "cell_type": "code",
   "execution_count": 29,
   "metadata": {},
   "outputs": [],
   "source": [
    "# df.groupby(\"City\")[\"Customer ID\"].nunique()"
   ]
  },
  {
   "cell_type": "markdown",
   "metadata": {},
   "source": [
    "### Correlation Statistics"
   ]
  },
  {
   "cell_type": "code",
   "execution_count": 30,
   "metadata": {},
   "outputs": [],
   "source": [
    "df_copy = df.copy()"
   ]
  },
  {
   "cell_type": "code",
   "execution_count": 31,
   "metadata": {},
   "outputs": [],
   "source": [
    "df_copy.drop(columns=[\"Zip Code\", \"City\", \"Customer ID\"], axis=1, inplace=True)"
   ]
  },
  {
   "cell_type": "code",
   "execution_count": 32,
   "metadata": {},
   "outputs": [
    {
     "data": {
      "text/html": [
       "<div>\n",
       "<style scoped>\n",
       "    .dataframe tbody tr th:only-of-type {\n",
       "        vertical-align: middle;\n",
       "    }\n",
       "\n",
       "    .dataframe tbody tr th {\n",
       "        vertical-align: top;\n",
       "    }\n",
       "\n",
       "    .dataframe thead th {\n",
       "        text-align: right;\n",
       "    }\n",
       "</style>\n",
       "<table border=\"1\" class=\"dataframe\">\n",
       "  <thead>\n",
       "    <tr style=\"text-align: right;\">\n",
       "      <th></th>\n",
       "      <th>Churn Label</th>\n",
       "      <th>CLTV</th>\n",
       "      <th>Number of Referrals</th>\n",
       "      <th>Tenure in Months</th>\n",
       "      <th>Avg Monthly Long Distance Charges</th>\n",
       "      <th>Avg Monthly GB Download</th>\n",
       "      <th>Monthly Charge</th>\n",
       "      <th>Total Charges</th>\n",
       "      <th>Total Refunds</th>\n",
       "      <th>Total Extra Data Charges</th>\n",
       "      <th>...</th>\n",
       "      <th>Gender_Female</th>\n",
       "      <th>Gender_Male</th>\n",
       "      <th>Under 30_No</th>\n",
       "      <th>Under 30_Yes</th>\n",
       "      <th>Senior Citizen_No</th>\n",
       "      <th>Senior Citizen_Yes</th>\n",
       "      <th>Married_No</th>\n",
       "      <th>Married_Yes</th>\n",
       "      <th>Dependents_No</th>\n",
       "      <th>Dependents_Yes</th>\n",
       "    </tr>\n",
       "  </thead>\n",
       "  <tbody>\n",
       "    <tr>\n",
       "      <th>0</th>\n",
       "      <td>1</td>\n",
       "      <td>5433</td>\n",
       "      <td>0</td>\n",
       "      <td>1</td>\n",
       "      <td>0.00</td>\n",
       "      <td>8</td>\n",
       "      <td>39.65</td>\n",
       "      <td>39.65</td>\n",
       "      <td>0.00</td>\n",
       "      <td>20</td>\n",
       "      <td>...</td>\n",
       "      <td>0</td>\n",
       "      <td>1</td>\n",
       "      <td>1</td>\n",
       "      <td>0</td>\n",
       "      <td>0</td>\n",
       "      <td>1</td>\n",
       "      <td>1</td>\n",
       "      <td>0</td>\n",
       "      <td>1</td>\n",
       "      <td>0</td>\n",
       "    </tr>\n",
       "    <tr>\n",
       "      <th>1</th>\n",
       "      <td>1</td>\n",
       "      <td>5302</td>\n",
       "      <td>1</td>\n",
       "      <td>8</td>\n",
       "      <td>48.85</td>\n",
       "      <td>17</td>\n",
       "      <td>80.65</td>\n",
       "      <td>633.30</td>\n",
       "      <td>0.00</td>\n",
       "      <td>0</td>\n",
       "      <td>...</td>\n",
       "      <td>1</td>\n",
       "      <td>0</td>\n",
       "      <td>1</td>\n",
       "      <td>0</td>\n",
       "      <td>0</td>\n",
       "      <td>1</td>\n",
       "      <td>0</td>\n",
       "      <td>1</td>\n",
       "      <td>0</td>\n",
       "      <td>1</td>\n",
       "    </tr>\n",
       "    <tr>\n",
       "      <th>2</th>\n",
       "      <td>1</td>\n",
       "      <td>3179</td>\n",
       "      <td>0</td>\n",
       "      <td>18</td>\n",
       "      <td>11.33</td>\n",
       "      <td>52</td>\n",
       "      <td>95.45</td>\n",
       "      <td>1752.55</td>\n",
       "      <td>45.61</td>\n",
       "      <td>0</td>\n",
       "      <td>...</td>\n",
       "      <td>0</td>\n",
       "      <td>1</td>\n",
       "      <td>1</td>\n",
       "      <td>0</td>\n",
       "      <td>0</td>\n",
       "      <td>1</td>\n",
       "      <td>1</td>\n",
       "      <td>0</td>\n",
       "      <td>0</td>\n",
       "      <td>1</td>\n",
       "    </tr>\n",
       "    <tr>\n",
       "      <th>3</th>\n",
       "      <td>1</td>\n",
       "      <td>5337</td>\n",
       "      <td>1</td>\n",
       "      <td>25</td>\n",
       "      <td>19.76</td>\n",
       "      <td>12</td>\n",
       "      <td>98.50</td>\n",
       "      <td>2514.50</td>\n",
       "      <td>13.43</td>\n",
       "      <td>0</td>\n",
       "      <td>...</td>\n",
       "      <td>1</td>\n",
       "      <td>0</td>\n",
       "      <td>1</td>\n",
       "      <td>0</td>\n",
       "      <td>0</td>\n",
       "      <td>1</td>\n",
       "      <td>0</td>\n",
       "      <td>1</td>\n",
       "      <td>0</td>\n",
       "      <td>1</td>\n",
       "    </tr>\n",
       "    <tr>\n",
       "      <th>4</th>\n",
       "      <td>1</td>\n",
       "      <td>2793</td>\n",
       "      <td>1</td>\n",
       "      <td>37</td>\n",
       "      <td>6.33</td>\n",
       "      <td>14</td>\n",
       "      <td>76.50</td>\n",
       "      <td>2868.15</td>\n",
       "      <td>0.00</td>\n",
       "      <td>0</td>\n",
       "      <td>...</td>\n",
       "      <td>1</td>\n",
       "      <td>0</td>\n",
       "      <td>1</td>\n",
       "      <td>0</td>\n",
       "      <td>0</td>\n",
       "      <td>1</td>\n",
       "      <td>0</td>\n",
       "      <td>1</td>\n",
       "      <td>0</td>\n",
       "      <td>1</td>\n",
       "    </tr>\n",
       "    <tr>\n",
       "      <th>...</th>\n",
       "      <td>...</td>\n",
       "      <td>...</td>\n",
       "      <td>...</td>\n",
       "      <td>...</td>\n",
       "      <td>...</td>\n",
       "      <td>...</td>\n",
       "      <td>...</td>\n",
       "      <td>...</td>\n",
       "      <td>...</td>\n",
       "      <td>...</td>\n",
       "      <td>...</td>\n",
       "      <td>...</td>\n",
       "      <td>...</td>\n",
       "      <td>...</td>\n",
       "      <td>...</td>\n",
       "      <td>...</td>\n",
       "      <td>...</td>\n",
       "      <td>...</td>\n",
       "      <td>...</td>\n",
       "      <td>...</td>\n",
       "      <td>...</td>\n",
       "    </tr>\n",
       "    <tr>\n",
       "      <th>7038</th>\n",
       "      <td>0</td>\n",
       "      <td>5306</td>\n",
       "      <td>0</td>\n",
       "      <td>72</td>\n",
       "      <td>22.77</td>\n",
       "      <td>0</td>\n",
       "      <td>21.15</td>\n",
       "      <td>1419.40</td>\n",
       "      <td>19.31</td>\n",
       "      <td>0</td>\n",
       "      <td>...</td>\n",
       "      <td>1</td>\n",
       "      <td>0</td>\n",
       "      <td>1</td>\n",
       "      <td>0</td>\n",
       "      <td>1</td>\n",
       "      <td>0</td>\n",
       "      <td>1</td>\n",
       "      <td>0</td>\n",
       "      <td>1</td>\n",
       "      <td>0</td>\n",
       "    </tr>\n",
       "    <tr>\n",
       "      <th>7039</th>\n",
       "      <td>0</td>\n",
       "      <td>2140</td>\n",
       "      <td>1</td>\n",
       "      <td>24</td>\n",
       "      <td>36.05</td>\n",
       "      <td>24</td>\n",
       "      <td>84.80</td>\n",
       "      <td>1990.50</td>\n",
       "      <td>48.23</td>\n",
       "      <td>0</td>\n",
       "      <td>...</td>\n",
       "      <td>0</td>\n",
       "      <td>1</td>\n",
       "      <td>1</td>\n",
       "      <td>0</td>\n",
       "      <td>1</td>\n",
       "      <td>0</td>\n",
       "      <td>0</td>\n",
       "      <td>1</td>\n",
       "      <td>0</td>\n",
       "      <td>1</td>\n",
       "    </tr>\n",
       "    <tr>\n",
       "      <th>7040</th>\n",
       "      <td>0</td>\n",
       "      <td>5560</td>\n",
       "      <td>4</td>\n",
       "      <td>72</td>\n",
       "      <td>29.66</td>\n",
       "      <td>59</td>\n",
       "      <td>103.20</td>\n",
       "      <td>7362.90</td>\n",
       "      <td>45.38</td>\n",
       "      <td>0</td>\n",
       "      <td>...</td>\n",
       "      <td>1</td>\n",
       "      <td>0</td>\n",
       "      <td>1</td>\n",
       "      <td>0</td>\n",
       "      <td>1</td>\n",
       "      <td>0</td>\n",
       "      <td>0</td>\n",
       "      <td>1</td>\n",
       "      <td>0</td>\n",
       "      <td>1</td>\n",
       "    </tr>\n",
       "    <tr>\n",
       "      <th>7041</th>\n",
       "      <td>0</td>\n",
       "      <td>2793</td>\n",
       "      <td>1</td>\n",
       "      <td>11</td>\n",
       "      <td>0.00</td>\n",
       "      <td>17</td>\n",
       "      <td>29.60</td>\n",
       "      <td>346.45</td>\n",
       "      <td>27.24</td>\n",
       "      <td>0</td>\n",
       "      <td>...</td>\n",
       "      <td>1</td>\n",
       "      <td>0</td>\n",
       "      <td>1</td>\n",
       "      <td>0</td>\n",
       "      <td>1</td>\n",
       "      <td>0</td>\n",
       "      <td>0</td>\n",
       "      <td>1</td>\n",
       "      <td>0</td>\n",
       "      <td>1</td>\n",
       "    </tr>\n",
       "    <tr>\n",
       "      <th>7042</th>\n",
       "      <td>0</td>\n",
       "      <td>5097</td>\n",
       "      <td>0</td>\n",
       "      <td>66</td>\n",
       "      <td>30.96</td>\n",
       "      <td>11</td>\n",
       "      <td>105.65</td>\n",
       "      <td>6844.50</td>\n",
       "      <td>0.00</td>\n",
       "      <td>0</td>\n",
       "      <td>...</td>\n",
       "      <td>0</td>\n",
       "      <td>1</td>\n",
       "      <td>1</td>\n",
       "      <td>0</td>\n",
       "      <td>1</td>\n",
       "      <td>0</td>\n",
       "      <td>1</td>\n",
       "      <td>0</td>\n",
       "      <td>1</td>\n",
       "      <td>0</td>\n",
       "    </tr>\n",
       "  </tbody>\n",
       "</table>\n",
       "<p>7043 rows × 69 columns</p>\n",
       "</div>"
      ],
      "text/plain": [
       "      Churn Label  CLTV  Number of Referrals  Tenure in Months  \\\n",
       "0               1  5433                    0                 1   \n",
       "1               1  5302                    1                 8   \n",
       "2               1  3179                    0                18   \n",
       "3               1  5337                    1                25   \n",
       "4               1  2793                    1                37   \n",
       "...           ...   ...                  ...               ...   \n",
       "7038            0  5306                    0                72   \n",
       "7039            0  2140                    1                24   \n",
       "7040            0  5560                    4                72   \n",
       "7041            0  2793                    1                11   \n",
       "7042            0  5097                    0                66   \n",
       "\n",
       "      Avg Monthly Long Distance Charges  Avg Monthly GB Download  \\\n",
       "0                                  0.00                        8   \n",
       "1                                 48.85                       17   \n",
       "2                                 11.33                       52   \n",
       "3                                 19.76                       12   \n",
       "4                                  6.33                       14   \n",
       "...                                 ...                      ...   \n",
       "7038                              22.77                        0   \n",
       "7039                              36.05                       24   \n",
       "7040                              29.66                       59   \n",
       "7041                               0.00                       17   \n",
       "7042                              30.96                       11   \n",
       "\n",
       "      Monthly Charge  Total Charges  Total Refunds  Total Extra Data Charges  \\\n",
       "0              39.65          39.65           0.00                        20   \n",
       "1              80.65         633.30           0.00                         0   \n",
       "2              95.45        1752.55          45.61                         0   \n",
       "3              98.50        2514.50          13.43                         0   \n",
       "4              76.50        2868.15           0.00                         0   \n",
       "...              ...            ...            ...                       ...   \n",
       "7038           21.15        1419.40          19.31                         0   \n",
       "7039           84.80        1990.50          48.23                         0   \n",
       "7040          103.20        7362.90          45.38                         0   \n",
       "7041           29.60         346.45          27.24                         0   \n",
       "7042          105.65        6844.50           0.00                         0   \n",
       "\n",
       "      ...  Gender_Female  Gender_Male  Under 30_No  Under 30_Yes  \\\n",
       "0     ...              0            1            1             0   \n",
       "1     ...              1            0            1             0   \n",
       "2     ...              0            1            1             0   \n",
       "3     ...              1            0            1             0   \n",
       "4     ...              1            0            1             0   \n",
       "...   ...            ...          ...          ...           ...   \n",
       "7038  ...              1            0            1             0   \n",
       "7039  ...              0            1            1             0   \n",
       "7040  ...              1            0            1             0   \n",
       "7041  ...              1            0            1             0   \n",
       "7042  ...              0            1            1             0   \n",
       "\n",
       "      Senior Citizen_No  Senior Citizen_Yes  Married_No  Married_Yes  \\\n",
       "0                     0                   1           1            0   \n",
       "1                     0                   1           0            1   \n",
       "2                     0                   1           1            0   \n",
       "3                     0                   1           0            1   \n",
       "4                     0                   1           0            1   \n",
       "...                 ...                 ...         ...          ...   \n",
       "7038                  1                   0           1            0   \n",
       "7039                  1                   0           0            1   \n",
       "7040                  1                   0           0            1   \n",
       "7041                  1                   0           0            1   \n",
       "7042                  1                   0           1            0   \n",
       "\n",
       "      Dependents_No  Dependents_Yes  \n",
       "0                 1               0  \n",
       "1                 0               1  \n",
       "2                 0               1  \n",
       "3                 0               1  \n",
       "4                 0               1  \n",
       "...             ...             ...  \n",
       "7038              1               0  \n",
       "7039              0               1  \n",
       "7040              0               1  \n",
       "7041              0               1  \n",
       "7042              1               0  \n",
       "\n",
       "[7043 rows x 69 columns]"
      ]
     },
     "execution_count": 32,
     "metadata": {},
     "output_type": "execute_result"
    }
   ],
   "source": [
    "df_dummies = pd.get_dummies(df_copy)\n",
    "df_dummies"
   ]
  },
  {
   "cell_type": "code",
   "execution_count": 33,
   "metadata": {},
   "outputs": [
    {
     "data": {
      "image/png": "[encoded data removed]",
      "text/plain": [
       "<Figure size 1440x720 with 1 Axes>"
      ]
     },
     "metadata": {
      "needs_background": "light"
     },
     "output_type": "display_data"
    }
   ],
   "source": [
    "plt.figure(figsize=(20, 10))\n",
    "correlations = df_dummies.corr()['Churn Label'].sort_values(ascending = False)[1:]\n",
    "\n",
    "correlations.plot(kind='bar', grid=\"True\", fontsize=15, color=[\n",
    "    'SteelBlue', 'DarkOrange', 'DarkCyan', 'Chocolate', 'SeaGreen', 'Crimson', 'Coral', 'DarkGreen'])\n",
    "plt.title(\"Correlation with Churn\", fontsize=15)\n",
    "plt.show()"
   ]
  },
  {
   "cell_type": "code",
   "execution_count": 34,
   "metadata": {},
   "outputs": [],
   "source": [
    "correlations_dropped = correlations[abs(correlations) > 0.04]"
   ]
  },
  {
   "cell_type": "code",
   "execution_count": 35,
   "metadata": {},
   "outputs": [
    {
     "data": {
      "text/plain": [
       "Longitude                            0.024052\n",
       "Offer_None                           0.014326\n",
       "Phone Service_Yes                    0.011942\n",
       "Gender_Female                        0.008612\n",
       "Avg Monthly Long Distance Charges    0.008120\n",
       "Total Extra Data Charges             0.007139\n",
       "Offer_Offer D                        0.001435\n",
       "Internet Type_Cable                 -0.007238\n",
       "Gender_Male                         -0.008612\n",
       "Phone Service_No                    -0.011942\n",
       "Offer_Offer C                       -0.020660\n",
       "Total Refunds                       -0.033709\n",
       "Name: Churn Label, dtype: float64"
      ]
     },
     "execution_count": 35,
     "metadata": {},
     "output_type": "execute_result"
    }
   ],
   "source": [
    "correlations_small_corr = correlations[abs(correlations) < 0.04]\n",
    "correlations_small_corr"
   ]
  },
  {
   "cell_type": "markdown",
   "metadata": {},
   "source": [
    "Get rid of the ones with correlation less than 0.04 in absolute value."
   ]
  },
  {
   "cell_type": "code",
   "execution_count": 36,
   "metadata": {},
   "outputs": [
    {
     "data": {
      "image/png": "[encoded data removed]",
      "text/plain": [
       "<Figure size 1440x720 with 1 Axes>"
      ]
     },
     "metadata": {
      "needs_background": "light"
     },
     "output_type": "display_data"
    }
   ],
   "source": [
    "plt.figure(figsize=(20, 10))\n",
    "\n",
    "correlations_dropped.plot(kind='bar', grid=\"True\", fontsize=15, color=[\n",
    "    'SteelBlue', 'DarkOrange', 'DarkCyan', 'Chocolate', 'SeaGreen', 'Crimson', 'Coral', 'DarkGreen'])\n",
    "plt.title(\"Correlation with Churn\", fontsize=15)\n",
    "plt.show()"
   ]
  },
  {
   "cell_type": "markdown",
   "metadata": {},
   "source": [
    "## Outliers detection"
   ]
  },
  {
   "cell_type": "markdown",
   "metadata": {},
   "source": [
    "We would like to identify potential outliers in our dataset using box plots and fill missing values in our numerical variables."
   ]
  },
  {
   "cell_type": "code",
   "execution_count": 37,
   "metadata": {},
   "outputs": [],
   "source": [
    "def plotBox(variable):\n",
    "    fig, axes = plt.subplots(figsize=(9, 3))\n",
    "    axes = sns.boxplot(x=df[variable], orient=\"h\", ax=axes, whis=1.5, width= 0.6)\n",
    "    plt.title(variable + ' distribution', fontsize=14)\n",
    "    plt.xlabel('')\n",
    "    plt.show()"
   ]
  },
  {
   "cell_type": "code",
   "execution_count": 38,
   "metadata": {},
   "outputs": [
    {
     "data": {
      "image/png": "[encoded data removed]",
      "text/plain": [
       "<Figure size 648x216 with 1 Axes>"
      ]
     },
     "metadata": {
      "needs_background": "light"
     },
     "output_type": "display_data"
    }
   ],
   "source": [
    "plotBox(\"Monthly Charge\")"
   ]
  },
  {
   "cell_type": "code",
   "execution_count": 39,
   "metadata": {},
   "outputs": [],
   "source": [
    "def plot_all_boxes(df):\n",
    "    for column in list(df.columns):\n",
    "        if df[column].dtype in ['float64', 'int64']:\n",
    "            plotBox(column)"
   ]
  },
  {
   "cell_type": "code",
   "execution_count": 40,
   "metadata": {},
   "outputs": [
    {
     "data": {
      "image/png": "[encoded data removed]",
      "text/plain": [
       "<Figure size 648x216 with 1 Axes>"
      ]
     },
     "metadata": {
      "needs_background": "light"
     },
     "output_type": "display_data"
    },
    {
     "data": {
      "image/png": "[encoded data removed]",
      "text/plain": [
       "<Figure size 648x216 with 1 Axes>"
      ]
     },
     "metadata": {
      "needs_background": "light"
     },
     "output_type": "display_data"
    },
    {
     "data": {
      "image/png": "[encoded data removed]",
      "text/plain": [
       "<Figure size 648x216 with 1 Axes>"
      ]
     },
     "metadata": {
      "needs_background": "light"
     },
     "output_type": "display_data"
    },
    {
     "data": {
      "image/png": "[encoded data removed]",
      "text/plain": [
       "<Figure size 648x216 with 1 Axes>"
      ]
     },
     "metadata": {
      "needs_background": "light"
     },
     "output_type": "display_data"
    },
    {
     "data": {
      "image/png": "[encoded data removed]",
      "text/plain": [
       "<Figure size 648x216 with 1 Axes>"
      ]
     },
     "metadata": {
      "needs_background": "light"
     },
     "output_type": "display_data"
    },
    {
     "data": {
      "image/png": "[encoded data removed]",
      "text/plain": [
       "<Figure size 648x216 with 1 Axes>"
      ]
     },
     "metadata": {
      "needs_background": "light"
     },
     "output_type": "display_data"
    },
    {
     "data": {
      "image/png": "[encoded data removed]",
      "text/plain": [
       "<Figure size 648x216 with 1 Axes>"
      ]
     },
     "metadata": {
      "needs_background": "light"
     },
     "output_type": "display_data"
    },
    {
     "data": {
      "image/png": "[encoded data removed]",
      "text/plain": [
       "<Figure size 648x216 with 1 Axes>"
      ]
     },
     "metadata": {
      "needs_background": "light"
     },
     "output_type": "display_data"
    },
    {
     "data": {
      "image/png": "[encoded data removed]",
      "text/plain": [
       "<Figure size 648x216 with 1 Axes>"
      ]
     },
     "metadata": {
      "needs_background": "light"
     },
     "output_type": "display_data"
    },
    {
     "data": {
      "image/png": "[encoded data removed]",
      "text/plain": [
       "<Figure size 648x216 with 1 Axes>"
      ]
     },
     "metadata": {
      "needs_background": "light"
     },
     "output_type": "display_data"
    },
    {
     "data": {
      "image/png": "[encoded data removed]",
      "text/plain": [
       "<Figure size 648x216 with 1 Axes>"
      ]
     },
     "metadata": {
      "needs_background": "light"
     },
     "output_type": "display_data"
    },
    {
     "data": {
      "image/png": "[encoded data removed]",
      "text/plain": [
       "<Figure size 648x216 with 1 Axes>"
      ]
     },
     "metadata": {
      "needs_background": "light"
     },
     "output_type": "display_data"
    },
    {
     "data": {
      "image/png": "[encoded data removed]",
      "text/plain": [
       "<Figure size 648x216 with 1 Axes>"
      ]
     },
     "metadata": {
      "needs_background": "light"
     },
     "output_type": "display_data"
    },
    {
     "data": {
      "image/png": "[encoded data removed]",
      "text/plain": [
       "<Figure size 648x216 with 1 Axes>"
      ]
     },
     "metadata": {
      "needs_background": "light"
     },
     "output_type": "display_data"
    },
    {
     "data": {
      "image/png": "[encoded data removed]",
      "text/plain": [
       "<Figure size 648x216 with 1 Axes>"
      ]
     },
     "metadata": {
      "needs_background": "light"
     },
     "output_type": "display_data"
    },
    {
     "data": {
      "image/png": "[encoded data removed]",
      "text/plain": [
       "<Figure size 648x216 with 1 Axes>"
      ]
     },
     "metadata": {
      "needs_background": "light"
     },
     "output_type": "display_data"
    },
    {
     "data": {
      "image/png": "[encoded data removed]",
      "text/plain": [
       "<Figure size 648x216 with 1 Axes>"
      ]
     },
     "metadata": {
      "needs_background": "light"
     },
     "output_type": "display_data"
    }
   ],
   "source": [
    "plot_all_boxes(df)"
   ]
  },
  {
   "cell_type": "markdown",
   "metadata": {},
   "source": [
    "## Bivariate analysis"
   ]
  },
  {
   "cell_type": "markdown",
   "metadata": {},
   "source": [
    "At this part, we would like to find the relationship between two variables, to be more specific, we will look for the correlation between target and predictor variables. Since our target, `churn`, is a categorical variable, we will do bivariate analysis between categorical and numerical variables and between categorical and categorical variables.\n",
    "\n",
    "Hence, we will apply to different methods to perform bivariate analysis and find correlation between variables:\n",
    "    \n",
    "   1. Numerical and Categorical variables: Point-Biserial correlation (which we can apply since our target is of binary type)\n",
    "    \n",
    "   2. Categorical and Categorical variables: Chi-square test "
   ]
  },
  {
   "cell_type": "markdown",
   "metadata": {},
   "source": [
    "### Numerical and Categorical variables"
   ]
  },
  {
   "cell_type": "code",
   "execution_count": 41,
   "metadata": {},
   "outputs": [],
   "source": [
    "def boxPlot(numerical, categorical=\"Churn Label\"):\n",
    "    fig, axes = plt.subplots(figsize=(5, 6))\n",
    "    axes = sns.boxplot(x=categorical, y=numerical, data=df[[categorical, numerical]], orient=\"v\", width=0.6 ,ax=axes)\n",
    "    plt.tick_params(axis='both', which='major', labelsize=12)\n",
    "    plt.xlabel(categorical, fontsize=14)\n",
    "    plt.ylabel(numerical, fontsize=14)\n",
    "    \n",
    "    # Point-Biserial correlation\n",
    "    corr, p_val = stats.pointbiserialr(df[numerical], df[categorical])\n",
    "    corr = corr.round(2)\n",
    "    p_val = p_val.round(4)\n",
    "    \n",
    "    plt.title(\"Correlation between \" + numerical +\" and \" + categorical + \": corr = \" + str(corr) + \n",
    "              \" and p-value = \" + str(p_val), fontsize=14)\n",
    "    plt.show()\n",
    "    \n",
    "def plotHistogram(numerical, categorical=\"Churn Label\", bins=40):\n",
    "    ax = df.loc[df[categorical] == 0, numerical].hist(bins=bins, color=\"blue\", alpha=0.5, label=\"Stay\", \n",
    "                                                        figsize=(10, 6), grid=False)\n",
    "    df.loc[df[categorical] == 1, numerical].hist(bins=bins, color=\"red\", ax=ax, alpha=0.5, label=\"Churn\", grid=False)\n",
    "    ax.legend(fontsize=12);\n",
    "    \n",
    "def plotMeans(numerical, categorical=\"Churn Label\"):\n",
    "    means = df[numerical].groupby(df[categorical]).mean()\n",
    "    \n",
    "    fig = plt.figure(figsize=(6, 4))    \n",
    "    plt.bar(means.index, means, color=['SteelBlue', 'DarkOrange', 'DarkCyan'])\n",
    "    plt.xticks(np.arange(0, len(means.index)))\n",
    "    plt.tick_params(axis='both', which='major', labelsize=12)\n",
    "    plt.ylabel(\"Mean of \" + numerical , fontsize=14)\n",
    "    plt.xlabel(categorical, fontsize=14)\n",
    "    plt.title(\"Mean of \" + numerical + \" w.r.t \" + categorical, fontsize=14)\n",
    "    plt.show()"
   ]
  },
  {
   "cell_type": "code",
   "execution_count": 42,
   "metadata": {},
   "outputs": [],
   "source": [
    "def get_corr(numerical, categorical=\"Churn Label\"):\n",
    "    corr, p_val = stats.pointbiserialr(df[numerical], df[categorical])\n",
    "    corr = corr.round(2)\n",
    "    p_val = p_val.round(4)\n",
    "    print(f\"Correlation between {numerical} and {categorical}: corr = {str(corr)} and p-value = {str(p_val)}\")\n",
    "    return corr, p_val"
   ]
  },
  {
   "cell_type": "code",
   "execution_count": 43,
   "metadata": {},
   "outputs": [],
   "source": [
    "def corr_columns(df):\n",
    "    columns = []\n",
    "    for column in list(df.columns):\n",
    "        if df[column].dtype in ['float64', 'int64']:\n",
    "            corr, p_val = get_corr(column)\n",
    "            if p_val > 0.05:\n",
    "                columns.append(column)\n",
    "    return columns"
   ]
  },
  {
   "cell_type": "code",
   "execution_count": 44,
   "metadata": {},
   "outputs": [
    {
     "name": "stdout",
     "output_type": "stream",
     "text": [
      "Correlation between CLTV and Churn Label: corr = -0.13 and p-value = 0.0\n",
      "Correlation between Number of Referrals and Churn Label: corr = -0.29 and p-value = 0.0\n",
      "Correlation between Tenure in Months and Churn Label: corr = -0.35 and p-value = 0.0\n",
      "Correlation between Avg Monthly Long Distance Charges and Churn Label: corr = 0.01 and p-value = 0.4957\n",
      "Correlation between Avg Monthly GB Download and Churn Label: corr = 0.05 and p-value = 0.0\n",
      "Correlation between Monthly Charge and Churn Label: corr = 0.19 and p-value = 0.0\n",
      "Correlation between Total Charges and Churn Label: corr = -0.2 and p-value = 0.0\n",
      "Correlation between Total Refunds and Churn Label: corr = -0.03 and p-value = 0.0047\n",
      "Correlation between Total Extra Data Charges and Churn Label: corr = 0.01 and p-value = 0.5491\n",
      "Correlation between Total Long Distance Charges and Churn Label: corr = -0.22 and p-value = 0.0\n",
      "Correlation between Total Revenue and Churn Label: corr = -0.22 and p-value = 0.0\n",
      "Correlation between Zip Code and Churn Label: corr = -0.02 and p-value = 0.1717\n",
      "Correlation between Latitude and Churn Label: corr = -0.04 and p-value = 0.0005\n",
      "Correlation between Longitude and Churn Label: corr = 0.02 and p-value = 0.0435\n",
      "Correlation between Age and Churn Label: corr = 0.12 and p-value = 0.0\n",
      "Correlation between Number of Dependents and Churn Label: corr = -0.22 and p-value = 0.0\n",
      "Correlation between Population and Churn Label: corr = 0.05 and p-value = 0.0\n"
     ]
    },
    {
     "data": {
      "text/plain": [
       "['Avg Monthly Long Distance Charges', 'Total Extra Data Charges', 'Zip Code']"
      ]
     },
     "execution_count": 44,
     "metadata": {},
     "output_type": "execute_result"
    }
   ],
   "source": [
    "columns = corr_columns(df)\n",
    "columns"
   ]
  },
  {
   "cell_type": "markdown",
   "metadata": {},
   "source": [
    "**Tenure and Churn**"
   ]
  },
  {
   "cell_type": "code",
   "execution_count": 45,
   "metadata": {},
   "outputs": [
    {
     "data": {
      "image/png": "[encoded data removed]",
      "text/plain": [
       "<Figure size 360x432 with 1 Axes>"
      ]
     },
     "metadata": {
      "needs_background": "light"
     },
     "output_type": "display_data"
    }
   ],
   "source": [
    "boxPlot(\"Tenure in Months\")"
   ]
  },
  {
   "cell_type": "code",
   "execution_count": 46,
   "metadata": {},
   "outputs": [
    {
     "data": {
      "image/png": "[encoded data removed]",
      "text/plain": [
       "<Figure size 720x432 with 1 Axes>"
      ]
     },
     "metadata": {
      "needs_background": "light"
     },
     "output_type": "display_data"
    }
   ],
   "source": [
    "plotHistogram(\"Tenure in Months\")"
   ]
  },
  {
   "cell_type": "markdown",
   "metadata": {},
   "source": [
    "### Categorical Variables"
   ]
  },
  {
   "cell_type": "code",
   "execution_count": 47,
   "metadata": {},
   "outputs": [],
   "source": [
    "def plotBar(categorical1, categorical2=\"Churn Label\"):\n",
    "    fig, axes = plt.subplots(figsize=(7, 6))\n",
    "    axes = sns.countplot(x=categorical1, hue=categorical2, data=df, ax=axes)\n",
    "    plt.tick_params(axis='both', which='major', labelsize=12)\n",
    "    plt.xlabel(categorical1, fontsize=14)\n",
    "    plt.title(\"Absolute count of \" + categorical2 + \" by \" + categorical1, fontsize=15)\n",
    "    plt.legend(fontsize=13)\n",
    "    \n",
    "    fig, axes = plt.subplots(figsize=(7, 6))\n",
    "    axes = sns.barplot(x=categorical1, y=categorical2, data=df, ax=axes)\n",
    "    plt.tick_params(axis='both', which='major', labelsize=12)\n",
    "    plt.xlabel(categorical1, fontsize=14)\n",
    "    plt.ylabel(categorical2 + \" probability\", fontsize=14)\n",
    "    \n",
    "def compute_chiSquare(categorical1, categorical2=\"Churn Label\", prob=0.95):\n",
    "    stat, p, dof, expected = stats.chi2_contingency(pd.crosstab(\n",
    "        index=df[categorical1], columns=df[categorical2]))\n",
    "    print(\"Chi-Squared Test result between \" + categorical1 + \" and \" + categorical2 + \": \", stat, p, dof, expected)\n",
    "    \n",
    "    critical = stats.chi2.ppf(prob, dof)\n",
    "    if abs(stat) >= critical:\n",
    "        print(\"Dependent (reject H0)\")\n",
    "    else:\n",
    "        print(\"Independent (fail to reject H0)\")\n",
    "    \n",
    "    alpha = 1 - prob\n",
    "    if p <= alpha:\n",
    "        print(\"Dependent (reject H0)\")\n",
    "    else:\n",
    "        print(\"Independent (fail to reject H0)\")\n",
    "    \n",
    "def Bonferroni_correction(categorical1, categorical2=\"Churn Label\", prob=0.95):\n",
    "    alpha = (1 - prob) / 3\n",
    "    encoded = pd.get_dummies(df[categorical1])\n",
    "    \n",
    "    for column in encoded.columns:\n",
    "        stat, p, dof, expected = stats.chi2_contingency(pd.crosstab(\n",
    "            index=encoded[column], columns=df[categorical2]))\n",
    "        \n",
    "        print(\"Bonferroni correction result between \" + categorical1 + \"(\" + str(column) + \") and \" + categorical2 \n",
    "              + \":\", stat, p, dof, expected)\n",
    "        \n",
    "        if p <= alpha:\n",
    "            print(\"Dependent (reject H0)\")\n",
    "        else:\n",
    "            print(\"Independent (fail to reject H0)\")\n",
    "    "
   ]
  },
  {
   "cell_type": "code",
   "execution_count": 48,
   "metadata": {},
   "outputs": [],
   "source": [
    "def categorical_corr(df):\n",
    "    for column in list(df.columns):\n",
    "        if df[column].dtype == 'object' and column not in ['Customer ID', 'Churn Label']:\n",
    "            compute_chiSquare(column)\n",
    "            print('\\n')"
   ]
  },
  {
   "cell_type": "code",
   "execution_count": 49,
   "metadata": {},
   "outputs": [
    {
     "name": "stdout",
     "output_type": "stream",
     "text": [
      "Chi-Squared Test result between Referred a Friend and Churn Label:  155.9403419629973 8.723767916604251e-36 1 [[2807.0217237 1013.9782763]\n",
      " [2366.9782763  855.0217237]]\n",
      "Dependent (reject H0)\n",
      "Dependent (reject H0)\n",
      "\n",
      "\n",
      "Chi-Squared Test result between Offer and Churn Label:  481.7254889632278 7.020357379958891e-102 5 [[2848.16101093 1028.83898907]\n",
      " [ 382.00766719  137.99233281]\n",
      " [ 605.33522647  218.66477353]\n",
      " [ 304.87150362  110.12849638]\n",
      " [ 442.24733778  159.75266222]\n",
      " [ 591.37725401  213.62274599]]\n",
      "Dependent (reject H0)\n",
      "Dependent (reject H0)\n",
      "\n",
      "\n",
      "Chi-Squared Test result between Phone Service and Churn Label:  0.9150329892546948 0.3387825358066928 1 [[ 501.01774812  180.98225188]\n",
      " [4672.98225188 1688.01774812]]\n",
      "Independent (fail to reject H0)\n",
      "Independent (fail to reject H0)\n",
      "\n",
      "\n",
      "Chi-Squared Test result between Multiple Lines and Churn Label:  11.143251001456251 0.0008433795342472428 1 [[2991.41388613 1080.58611387]\n",
      " [2182.58611387  788.41388613]]\n",
      "Dependent (reject H0)\n",
      "Dependent (reject H0)\n",
      "\n",
      "\n",
      "Chi-Squared Test result between Internet Service and Churn Label:  364.51979899428943 2.9203003727695145e-81 1 [[1121.04557717  404.95442283]\n",
      " [4052.95442283 1464.04557717]]\n",
      "Dependent (reject H0)\n",
      "Dependent (reject H0)\n",
      "\n",
      "\n",
      "Chi-Squared Test result between Internet Type and Churn Label:  653.8320544960781 2.1503502231295044e-141 3 [[ 609.74300724  220.25699276]\n",
      " [1213.60897345  438.39102655]\n",
      " [2229.60244214  805.39755786]\n",
      " [1121.04557717  404.95442283]]\n",
      "Dependent (reject H0)\n",
      "Dependent (reject H0)\n",
      "\n",
      "\n",
      "Chi-Squared Test result between Online Security and Churn Label:  205.63310416062058 1.2320984831180024e-46 1 [[3690.78176913 1333.21823087]\n",
      " [1483.21823087  535.78176913]]\n",
      "Dependent (reject H0)\n",
      "Dependent (reject H0)\n",
      "\n",
      "\n",
      "Chi-Squared Test result between Online Backup and Churn Label:  47.260854003612764 6.214092807254819e-12 1 [[3389.58341616 1224.41658384]\n",
      " [1784.41658384  644.58341616]]\n",
      "Dependent (reject H0)\n",
      "Dependent (reject H0)\n",
      "\n",
      "\n",
      "Chi-Squared Test result between Device Protection Plan and Churn Label:  30.513394539261306 3.315693222362861e-08 1 [[3394.72582706 1226.27417294]\n",
      " [1779.27417294  642.72582706]]\n",
      "Dependent (reject H0)\n",
      "Dependent (reject H0)\n",
      "\n",
      "\n",
      "Chi-Squared Test result between Premium Tech Support and Churn Label:  190.16684201526067 2.9235674453140758e-43 1 [[3672.4160159 1326.5839841]\n",
      " [1501.5839841  542.4160159]]\n",
      "Dependent (reject H0)\n",
      "Dependent (reject H0)\n",
      "\n",
      "\n",
      "Chi-Squared Test result between Streaming TV and Churn Label:  27.862522274233417 1.3024835736732686e-07 1 [[3185.35624024 1150.64375976]\n",
      " [1988.64375976  718.35624024]]\n",
      "Dependent (reject H0)\n",
      "Dependent (reject H0)\n",
      "\n",
      "\n",
      "Chi-Squared Test result between Streaming Movies and Churn Label:  26.25133601003847 2.9974738476267514e-07 1 [[3166.99048701 1144.00951299]\n",
      " [2007.00951299  724.99048701]]\n",
      "Dependent (reject H0)\n",
      "Dependent (reject H0)\n",
      "\n",
      "\n",
      "Chi-Squared Test result between Streaming Music and Churn Label:  14.421459930501182 0.00014612756977856083 1 [[3346.24023853 1208.75976147]\n",
      " [1827.75976147  660.24023853]]\n",
      "Dependent (reject H0)\n",
      "Dependent (reject H0)\n",
      "\n",
      "\n",
      "Chi-Squared Test result between Unlimited Data and Churn Label:  194.5492167239403 3.2314344412572294e-44 1 [[1688.18003692  609.81996308]\n",
      " [3485.81996308 1259.18003692]]\n",
      "Dependent (reject H0)\n",
      "Dependent (reject H0)\n",
      "\n",
      "\n",
      "Chi-Squared Test result between Contract and Churn Label:  1445.2932428377585 0.0 2 [[2652.01476643  957.98523357]\n",
      " [1138.67670027  411.32329973]\n",
      " [1383.3085333   499.6914667 ]]\n",
      "Dependent (reject H0)\n",
      "Dependent (reject H0)\n",
      "\n",
      "\n",
      "Chi-Squared Test result between Paperless Billing and Churn Label:  258.27764906707307 4.073354668665985e-58 1 [[2109.85773108  762.14226892]\n",
      " [3064.14226892 1106.85773108]]\n",
      "Dependent (reject H0)\n",
      "Dependent (reject H0)\n",
      "\n",
      "\n",
      "Chi-Squared Test result between Payment Method and Churn Label:  337.8311612029035 4.374167780467117e-74 2 [[2871.66917507 1037.33082493]\n",
      " [2019.49822519  729.50177481]\n",
      " [ 282.83259974  102.16740026]]\n",
      "Dependent (reject H0)\n",
      "Dependent (reject H0)\n",
      "\n",
      "\n",
      "Chi-Squared Test result between City and Churn Label:  1382.6932700346551 2.0326292920341723e-08 1105 [[2.93852052 1.06147948]\n",
      " [2.93852052 1.06147948]\n",
      " [3.67315065 1.32684935]\n",
      " ...\n",
      " [2.93852052 1.06147948]\n",
      " [3.67315065 1.32684935]\n",
      " [2.93852052 1.06147948]]\n",
      "Dependent (reject H0)\n",
      "Dependent (reject H0)\n",
      "\n",
      "\n",
      "Chi-Squared Test result between Gender and Churn Label:  0.4840828822091383 0.48657873605618596 1 [[2562.38989067  925.61010933]\n",
      " [2611.61010933  943.38989067]]\n",
      "Independent (fail to reject H0)\n",
      "Independent (fail to reject H0)\n",
      "\n",
      "\n",
      "Chi-Squared Test result between Under 30 and Churn Label:  20.690894050453192 5.397206022838446e-06 1 [[4144.78318898 1497.21681102]\n",
      " [1029.21681102  371.78318898]]\n",
      "Dependent (reject H0)\n",
      "Dependent (reject H0)\n",
      "\n",
      "\n",
      "Chi-Squared Test result between Senior Citizen and Churn Label:  159.42630036838742 1.510066805092378e-36 1 [[4335.05239245 1565.94760755]\n",
      " [ 838.94760755  303.05239245]]\n",
      "Dependent (reject H0)\n",
      "Dependent (reject H0)\n",
      "\n",
      "\n",
      "Chi-Squared Test result between Married and Churn Label:  158.7333820309922 2.1399113440759935e-36 1 [[2674.78830044  966.21169956]\n",
      " [2499.21169956  902.78830044]]\n",
      "Dependent (reject H0)\n",
      "Dependent (reject H0)\n",
      "\n",
      "\n",
      "Chi-Squared Test result between Dependents and Churn Label:  433.7343787644573 2.5009723998553557e-96 1 [[3978.75677978 1437.24322022]\n",
      " [1195.24322022  431.75677978]]\n",
      "Dependent (reject H0)\n",
      "Dependent (reject H0)\n",
      "\n",
      "\n"
     ]
    }
   ],
   "source": [
    "categorical_corr(df)"
   ]
  },
  {
   "cell_type": "code",
   "execution_count": 50,
   "metadata": {},
   "outputs": [],
   "source": [
    "def categorical_corr_bonf(df):\n",
    "    for column in list(df.columns):\n",
    "        if df[column].dtype == 'object' and column in ['Internet Type', 'Offer', 'Contract', 'Payment Method']:\n",
    "            if len(df.groupby(column).nunique()) > 2:\n",
    "                Bonferroni_correction(column)\n",
    "            print('\\n')"
   ]
  },
  {
   "cell_type": "code",
   "execution_count": 51,
   "metadata": {},
   "outputs": [
    {
     "name": "stdout",
     "output_type": "stream",
     "text": [
      "Bonferroni correction result between Offer(None) and Churn Label: 1.3809821687293247 0.23993391911921183 1 [[2325.83898907  840.16101093]\n",
      " [2848.16101093 1028.83898907]]\n",
      "Independent (fail to reject H0)\n",
      "Bonferroni correction result between Offer(Offer A) and Churn Label: 111.88435783732746 3.787714727588396e-26 1 [[4791.99233281 1731.00766719]\n",
      " [ 382.00766719  137.99233281]]\n",
      "Dependent (reject H0)\n",
      "Bonferroni correction result between Offer(Offer B) and Churn Label: 96.77956946073624 7.749160916533143e-23 1 [[4568.66477353 1650.33522647]\n",
      " [ 605.33522647  218.66477353]]\n",
      "Dependent (reject H0)\n",
      "Bonferroni correction result between Offer(Offer C) and Churn Label: 2.8106458075764342 0.0936406722528919 1 [[4869.12849638 1758.87150362]\n",
      " [ 304.87150362  110.12849638]]\n",
      "Independent (fail to reject H0)\n",
      "Bonferroni correction result between Offer(Offer D) and Churn Label: 0.0052038099450785694 0.9424925326947038 1 [[4731.75266222 1709.24733778]\n",
      " [ 442.24733778  159.75266222]]\n",
      "Independent (fail to reject H0)\n",
      "Bonferroni correction result between Offer(Offer E) and Churn Label: 322.9719161069841 3.262591986711776e-72 1 [[4582.62274599 1655.37725401]\n",
      " [ 591.37725401  213.62274599]]\n",
      "Dependent (reject H0)\n",
      "\n",
      "\n",
      "Bonferroni correction result between Internet Type(Cable) and Churn Label: 0.3198635849825201 0.5716896369091764 1 [[4564.25699276 1648.74300724]\n",
      " [ 609.74300724  220.25699276]]\n",
      "Independent (fail to reject H0)\n",
      "Bonferroni correction result between Internet Type(DSL) and Churn Label: 69.49886501765926 7.645849719313156e-17 1 [[3960.39102655 1430.60897345]\n",
      " [1213.60897345  438.39102655]]\n",
      "Dependent (reject H0)\n",
      "Bonferroni correction result between Internet Type(Fiber Optic) and Churn Label: 549.4077080357301 1.6937051862374577e-121 1 [[2944.39755786 1063.60244214]\n",
      " [2229.60244214  805.39755786]]\n",
      "Dependent (reject H0)\n",
      "Bonferroni correction result between Internet Type(None) and Churn Label: 364.51979899428943 2.9203003727695145e-81 1 [[4052.95442283 1464.04557717]\n",
      " [1121.04557717  404.95442283]]\n",
      "Dependent (reject H0)\n",
      "\n",
      "\n",
      "Bonferroni correction result between Contract(Month-to-Month) and Churn Label: 1414.2200505182627 1.70762674304195e-309 1 [[2521.98523357  911.01476643]\n",
      " [2652.01476643  957.98523357]]\n",
      "Dependent (reject H0)\n",
      "Bonferroni correction result between Contract(One Year) and Churn Label: 254.3323103185944 2.951132468636086e-57 1 [[4035.32329973 1457.67670027]\n",
      " [1138.67670027  411.32329973]]\n",
      "Dependent (reject H0)\n",
      "Bonferroni correction result between Contract(Two Year) and Churn Label: 756.9358458961167 1.2453979340235551e-166 1 [[3790.6914667 1369.3085333]\n",
      " [1383.3085333  499.6914667]]\n",
      "Dependent (reject H0)\n",
      "\n",
      "\n",
      "Bonferroni correction result between Payment Method(Bank Withdrawal) and Churn Label: 250.01350516499554 2.5792618370455234e-56 1 [[2302.33082493  831.66917507]\n",
      " [2871.66917507 1037.33082493]]\n",
      "Dependent (reject H0)\n",
      "Bonferroni correction result between Payment Method(Credit Card) and Churn Label: 335.3213487688091 6.665275420616957e-75 1 [[3154.50177481 1139.49822519]\n",
      " [2019.49822519  729.50177481]]\n",
      "Dependent (reject H0)\n",
      "Bonferroni correction result between Payment Method(Mailed Check) and Churn Label: 21.804097955264382 3.0195451888677637e-06 1 [[4891.16740026 1766.83259974]\n",
      " [ 282.83259974  102.16740026]]\n",
      "Dependent (reject H0)\n",
      "\n",
      "\n"
     ]
    }
   ],
   "source": [
    "categorical_corr_bonf(df)"
   ]
  },
  {
   "cell_type": "code",
   "execution_count": 52,
   "metadata": {},
   "outputs": [
    {
     "data": {
      "text/plain": [
       "80"
      ]
     },
     "execution_count": 52,
     "metadata": {},
     "output_type": "execute_result"
    }
   ],
   "source": [
    "sum(df['City'].value_counts() > 10)"
   ]
  },
  {
   "cell_type": "code",
   "execution_count": 53,
   "metadata": {},
   "outputs": [
    {
     "data": {
      "text/plain": [
       "Customer ID                           object\n",
       "Churn Label                            int32\n",
       "CLTV                                   int64\n",
       "Referred a Friend                     object\n",
       "Number of Referrals                    int64\n",
       "Tenure in Months                       int64\n",
       "Offer                                 object\n",
       "Phone Service                         object\n",
       "Avg Monthly Long Distance Charges    float64\n",
       "Multiple Lines                        object\n",
       "Internet Service                      object\n",
       "Internet Type                         object\n",
       "Avg Monthly GB Download                int64\n",
       "Online Security                       object\n",
       "Online Backup                         object\n",
       "Device Protection Plan                object\n",
       "Premium Tech Support                  object\n",
       "Streaming TV                          object\n",
       "Streaming Movies                      object\n",
       "Streaming Music                       object\n",
       "Unlimited Data                        object\n",
       "Contract                              object\n",
       "Paperless Billing                     object\n",
       "Payment Method                        object\n",
       "Monthly Charge                       float64\n",
       "Total Charges                        float64\n",
       "Total Refunds                        float64\n",
       "Total Extra Data Charges               int64\n",
       "Total Long Distance Charges          float64\n",
       "Total Revenue                        float64\n",
       "City                                  object\n",
       "Zip Code                               int64\n",
       "Latitude                             float64\n",
       "Longitude                            float64\n",
       "Gender                                object\n",
       "Age                                    int64\n",
       "Under 30                              object\n",
       "Senior Citizen                        object\n",
       "Married                               object\n",
       "Dependents                            object\n",
       "Number of Dependents                   int64\n",
       "Population                             int64\n",
       "dtype: object"
      ]
     },
     "execution_count": 53,
     "metadata": {},
     "output_type": "execute_result"
    }
   ],
   "source": [
    "df.dtypes"
   ]
  },
  {
   "cell_type": "markdown",
   "metadata": {},
   "source": [
    "### Binning"
   ]
  },
  {
   "cell_type": "markdown",
   "metadata": {},
   "source": [
    "Categories to bin:\n",
    "- Total refunds\n",
    "- CLTV\n",
    "- Tenure (We may also just standardise)\n",
    "- Age "
   ]
  },
  {
   "cell_type": "markdown",
   "metadata": {},
   "source": [
    "### Age"
   ]
  },
  {
   "cell_type": "code",
   "execution_count": 54,
   "metadata": {},
   "outputs": [
    {
     "data": {
      "image/png": "[encoded data removed]",
      "text/plain": [
       "<Figure size 720x432 with 1 Axes>"
      ]
     },
     "metadata": {
      "needs_background": "light"
     },
     "output_type": "display_data"
    }
   ],
   "source": [
    "plotHistogram('Age')"
   ]
  },
  {
   "cell_type": "code",
   "execution_count": 55,
   "metadata": {},
   "outputs": [],
   "source": [
    "age_bins = ['youngAdult', 'Adult', 'Senior']\n",
    "\n",
    "age_ranges = [18, 29, 65, 80]\n",
    "\n",
    "df['ageBinned'] = pd.cut(df['Age'], age_ranges, labels=age_bins)"
   ]
  },
  {
   "cell_type": "code",
   "execution_count": 56,
   "metadata": {},
   "outputs": [
    {
     "data": {
      "text/html": [
       "<div>\n",
       "<style scoped>\n",
       "    .dataframe tbody tr th:only-of-type {\n",
       "        vertical-align: middle;\n",
       "    }\n",
       "\n",
       "    .dataframe tbody tr th {\n",
       "        vertical-align: top;\n",
       "    }\n",
       "\n",
       "    .dataframe thead th {\n",
       "        text-align: right;\n",
       "    }\n",
       "</style>\n",
       "<table border=\"1\" class=\"dataframe\">\n",
       "  <thead>\n",
       "    <tr style=\"text-align: right;\">\n",
       "      <th></th>\n",
       "      <th>ageBinned</th>\n",
       "      <th>Age</th>\n",
       "    </tr>\n",
       "  </thead>\n",
       "  <tbody>\n",
       "    <tr>\n",
       "      <th>0</th>\n",
       "      <td>Senior</td>\n",
       "      <td>78</td>\n",
       "    </tr>\n",
       "    <tr>\n",
       "      <th>1</th>\n",
       "      <td>Senior</td>\n",
       "      <td>74</td>\n",
       "    </tr>\n",
       "    <tr>\n",
       "      <th>2</th>\n",
       "      <td>Senior</td>\n",
       "      <td>71</td>\n",
       "    </tr>\n",
       "    <tr>\n",
       "      <th>3</th>\n",
       "      <td>Senior</td>\n",
       "      <td>78</td>\n",
       "    </tr>\n",
       "    <tr>\n",
       "      <th>4</th>\n",
       "      <td>Senior</td>\n",
       "      <td>80</td>\n",
       "    </tr>\n",
       "    <tr>\n",
       "      <th>...</th>\n",
       "      <td>...</td>\n",
       "      <td>...</td>\n",
       "    </tr>\n",
       "    <tr>\n",
       "      <th>7038</th>\n",
       "      <td>Adult</td>\n",
       "      <td>30</td>\n",
       "    </tr>\n",
       "    <tr>\n",
       "      <th>7039</th>\n",
       "      <td>Adult</td>\n",
       "      <td>38</td>\n",
       "    </tr>\n",
       "    <tr>\n",
       "      <th>7040</th>\n",
       "      <td>Adult</td>\n",
       "      <td>30</td>\n",
       "    </tr>\n",
       "    <tr>\n",
       "      <th>7041</th>\n",
       "      <td>Adult</td>\n",
       "      <td>32</td>\n",
       "    </tr>\n",
       "    <tr>\n",
       "      <th>7042</th>\n",
       "      <td>Adult</td>\n",
       "      <td>44</td>\n",
       "    </tr>\n",
       "  </tbody>\n",
       "</table>\n",
       "<p>7043 rows × 2 columns</p>\n",
       "</div>"
      ],
      "text/plain": [
       "     ageBinned  Age\n",
       "0       Senior   78\n",
       "1       Senior   74\n",
       "2       Senior   71\n",
       "3       Senior   78\n",
       "4       Senior   80\n",
       "...        ...  ...\n",
       "7038     Adult   30\n",
       "7039     Adult   38\n",
       "7040     Adult   30\n",
       "7041     Adult   32\n",
       "7042     Adult   44\n",
       "\n",
       "[7043 rows x 2 columns]"
      ]
     },
     "execution_count": 56,
     "metadata": {},
     "output_type": "execute_result"
    }
   ],
   "source": [
    "df[['ageBinned', 'Age']]"
   ]
  },
  {
   "cell_type": "code",
   "execution_count": 57,
   "metadata": {},
   "outputs": [
    {
     "name": "stdout",
     "output_type": "stream",
     "text": [
      "Correlation between Age and Churn Label: corr = 0.12 and p-value = 0.0\n"
     ]
    },
    {
     "data": {
      "text/plain": [
       "(0.12, 0.0)"
      ]
     },
     "execution_count": 57,
     "metadata": {},
     "output_type": "execute_result"
    }
   ],
   "source": [
    "get_corr('Age')"
   ]
  },
  {
   "cell_type": "code",
   "execution_count": 58,
   "metadata": {},
   "outputs": [
    {
     "name": "stdout",
     "output_type": "stream",
     "text": [
      "Chi-Squared Test result between ageBinned and Churn Label:  155.0310623145405 2.1648736609391475e-34 2 [[1029.21681102  371.78318898]\n",
      " [3363.87136164 1215.12863836]\n",
      " [ 780.91182735  282.08817265]]\n",
      "Dependent (reject H0)\n",
      "Dependent (reject H0)\n"
     ]
    }
   ],
   "source": [
    "compute_chiSquare('ageBinned')"
   ]
  },
  {
   "cell_type": "code",
   "execution_count": 59,
   "metadata": {},
   "outputs": [
    {
     "data": {
      "text/plain": [
       "0"
      ]
     },
     "execution_count": 59,
     "metadata": {},
     "output_type": "execute_result"
    }
   ],
   "source": [
    "sum(df['ageBinned'].isnull())"
   ]
  },
  {
   "cell_type": "markdown",
   "metadata": {},
   "source": [
    "### Total Refunds"
   ]
  },
  {
   "cell_type": "code",
   "execution_count": 60,
   "metadata": {},
   "outputs": [
    {
     "data": {
      "image/png": "[encoded data removed]",
      "text/plain": [
       "<Figure size 720x432 with 1 Axes>"
      ]
     },
     "metadata": {
      "needs_background": "light"
     },
     "output_type": "display_data"
    }
   ],
   "source": [
    "plotHistogram('Total Refunds')"
   ]
  },
  {
   "cell_type": "code",
   "execution_count": 61,
   "metadata": {},
   "outputs": [
    {
     "data": {
      "text/html": [
       "<div>\n",
       "<style scoped>\n",
       "    .dataframe tbody tr th:only-of-type {\n",
       "        vertical-align: middle;\n",
       "    }\n",
       "\n",
       "    .dataframe tbody tr th {\n",
       "        vertical-align: top;\n",
       "    }\n",
       "\n",
       "    .dataframe thead th {\n",
       "        text-align: right;\n",
       "    }\n",
       "</style>\n",
       "<table border=\"1\" class=\"dataframe\">\n",
       "  <thead>\n",
       "    <tr style=\"text-align: right;\">\n",
       "      <th></th>\n",
       "      <th>refundBinned</th>\n",
       "      <th>Total Refunds</th>\n",
       "    </tr>\n",
       "  </thead>\n",
       "  <tbody>\n",
       "    <tr>\n",
       "      <th>0</th>\n",
       "      <td>No Refund</td>\n",
       "      <td>0.00</td>\n",
       "    </tr>\n",
       "    <tr>\n",
       "      <th>1</th>\n",
       "      <td>No Refund</td>\n",
       "      <td>0.00</td>\n",
       "    </tr>\n",
       "    <tr>\n",
       "      <th>2</th>\n",
       "      <td>Refund</td>\n",
       "      <td>45.61</td>\n",
       "    </tr>\n",
       "    <tr>\n",
       "      <th>3</th>\n",
       "      <td>Refund</td>\n",
       "      <td>13.43</td>\n",
       "    </tr>\n",
       "    <tr>\n",
       "      <th>4</th>\n",
       "      <td>No Refund</td>\n",
       "      <td>0.00</td>\n",
       "    </tr>\n",
       "    <tr>\n",
       "      <th>...</th>\n",
       "      <td>...</td>\n",
       "      <td>...</td>\n",
       "    </tr>\n",
       "    <tr>\n",
       "      <th>7038</th>\n",
       "      <td>Refund</td>\n",
       "      <td>19.31</td>\n",
       "    </tr>\n",
       "    <tr>\n",
       "      <th>7039</th>\n",
       "      <td>Refund</td>\n",
       "      <td>48.23</td>\n",
       "    </tr>\n",
       "    <tr>\n",
       "      <th>7040</th>\n",
       "      <td>Refund</td>\n",
       "      <td>45.38</td>\n",
       "    </tr>\n",
       "    <tr>\n",
       "      <th>7041</th>\n",
       "      <td>Refund</td>\n",
       "      <td>27.24</td>\n",
       "    </tr>\n",
       "    <tr>\n",
       "      <th>7042</th>\n",
       "      <td>No Refund</td>\n",
       "      <td>0.00</td>\n",
       "    </tr>\n",
       "  </tbody>\n",
       "</table>\n",
       "<p>7043 rows × 2 columns</p>\n",
       "</div>"
      ],
      "text/plain": [
       "     refundBinned  Total Refunds\n",
       "0       No Refund           0.00\n",
       "1       No Refund           0.00\n",
       "2          Refund          45.61\n",
       "3          Refund          13.43\n",
       "4       No Refund           0.00\n",
       "...           ...            ...\n",
       "7038       Refund          19.31\n",
       "7039       Refund          48.23\n",
       "7040       Refund          45.38\n",
       "7041       Refund          27.24\n",
       "7042    No Refund           0.00\n",
       "\n",
       "[7043 rows x 2 columns]"
      ]
     },
     "execution_count": 61,
     "metadata": {},
     "output_type": "execute_result"
    }
   ],
   "source": [
    "refund_binned = pd.Series(np.where(df['Total Refunds'] == 0, 'No Refund', 'Refund'))\n",
    "\n",
    "df['refundBinned'] = refund_binned\n",
    "\n",
    "df[['refundBinned', 'Total Refunds']]"
   ]
  },
  {
   "cell_type": "code",
   "execution_count": 62,
   "metadata": {},
   "outputs": [
    {
     "data": {
      "text/plain": [
       "0"
      ]
     },
     "execution_count": 62,
     "metadata": {},
     "output_type": "execute_result"
    }
   ],
   "source": [
    "sum(df['refundBinned'].isnull())"
   ]
  },
  {
   "cell_type": "code",
   "execution_count": 63,
   "metadata": {},
   "outputs": [
    {
     "name": "stdout",
     "output_type": "stream",
     "text": [
      "Correlation between Total Refunds and Churn Label: corr = -0.03 and p-value = 0.0047\n"
     ]
    },
    {
     "data": {
      "text/plain": [
       "(-0.03, 0.0047)"
      ]
     },
     "execution_count": 63,
     "metadata": {},
     "output_type": "execute_result"
    }
   ],
   "source": [
    "get_corr('Total Refunds')"
   ]
  },
  {
   "cell_type": "code",
   "execution_count": 64,
   "metadata": {},
   "outputs": [
    {
     "name": "stdout",
     "output_type": "stream",
     "text": [
      "Chi-Squared Test result between refundBinned and Churn Label:  10.689113925942477 0.001077678111411673 1 [[4788.31918217 1729.68081783]\n",
      " [ 385.68081783  139.31918217]]\n",
      "Dependent (reject H0)\n",
      "Dependent (reject H0)\n"
     ]
    }
   ],
   "source": [
    "compute_chiSquare('refundBinned')"
   ]
  },
  {
   "cell_type": "markdown",
   "metadata": {},
   "source": [
    "### CLTV"
   ]
  },
  {
   "cell_type": "code",
   "execution_count": 65,
   "metadata": {},
   "outputs": [
    {
     "data": {
      "image/png": "[encoded data removed]",
      "text/plain": [
       "<Figure size 720x432 with 1 Axes>"
      ]
     },
     "metadata": {
      "needs_background": "light"
     },
     "output_type": "display_data"
    }
   ],
   "source": [
    "plotHistogram('CLTV')"
   ]
  },
  {
   "cell_type": "code",
   "execution_count": 66,
   "metadata": {},
   "outputs": [
    {
     "data": {
      "text/plain": [
       "6500"
      ]
     },
     "execution_count": 66,
     "metadata": {},
     "output_type": "execute_result"
    }
   ],
   "source": [
    "df['CLTV'].max()"
   ]
  },
  {
   "cell_type": "code",
   "execution_count": 67,
   "metadata": {},
   "outputs": [],
   "source": [
    "cltv_bins = ['2000-3000', '3000-4000', '4000-5000', '5000-6000', '6000-6500']\n",
    "\n",
    "cltv_ranges = [2000, 3000, 4000, 5000, 6000, 6500]\n",
    "\n",
    "df['cltvBinned'] = pd.cut(df['CLTV'], cltv_ranges, labels=cltv_bins)"
   ]
  },
  {
   "cell_type": "code",
   "execution_count": 68,
   "metadata": {},
   "outputs": [
    {
     "data": {
      "text/html": [
       "<div>\n",
       "<style scoped>\n",
       "    .dataframe tbody tr th:only-of-type {\n",
       "        vertical-align: middle;\n",
       "    }\n",
       "\n",
       "    .dataframe tbody tr th {\n",
       "        vertical-align: top;\n",
       "    }\n",
       "\n",
       "    .dataframe thead th {\n",
       "        text-align: right;\n",
       "    }\n",
       "</style>\n",
       "<table border=\"1\" class=\"dataframe\">\n",
       "  <thead>\n",
       "    <tr style=\"text-align: right;\">\n",
       "      <th></th>\n",
       "      <th>cltvBinned</th>\n",
       "      <th>CLTV</th>\n",
       "    </tr>\n",
       "  </thead>\n",
       "  <tbody>\n",
       "    <tr>\n",
       "      <th>0</th>\n",
       "      <td>5000-6000</td>\n",
       "      <td>5433</td>\n",
       "    </tr>\n",
       "    <tr>\n",
       "      <th>1</th>\n",
       "      <td>5000-6000</td>\n",
       "      <td>5302</td>\n",
       "    </tr>\n",
       "    <tr>\n",
       "      <th>2</th>\n",
       "      <td>3000-4000</td>\n",
       "      <td>3179</td>\n",
       "    </tr>\n",
       "    <tr>\n",
       "      <th>3</th>\n",
       "      <td>5000-6000</td>\n",
       "      <td>5337</td>\n",
       "    </tr>\n",
       "    <tr>\n",
       "      <th>4</th>\n",
       "      <td>2000-3000</td>\n",
       "      <td>2793</td>\n",
       "    </tr>\n",
       "    <tr>\n",
       "      <th>...</th>\n",
       "      <td>...</td>\n",
       "      <td>...</td>\n",
       "    </tr>\n",
       "    <tr>\n",
       "      <th>7038</th>\n",
       "      <td>5000-6000</td>\n",
       "      <td>5306</td>\n",
       "    </tr>\n",
       "    <tr>\n",
       "      <th>7039</th>\n",
       "      <td>2000-3000</td>\n",
       "      <td>2140</td>\n",
       "    </tr>\n",
       "    <tr>\n",
       "      <th>7040</th>\n",
       "      <td>5000-6000</td>\n",
       "      <td>5560</td>\n",
       "    </tr>\n",
       "    <tr>\n",
       "      <th>7041</th>\n",
       "      <td>2000-3000</td>\n",
       "      <td>2793</td>\n",
       "    </tr>\n",
       "    <tr>\n",
       "      <th>7042</th>\n",
       "      <td>5000-6000</td>\n",
       "      <td>5097</td>\n",
       "    </tr>\n",
       "  </tbody>\n",
       "</table>\n",
       "<p>7043 rows × 2 columns</p>\n",
       "</div>"
      ],
      "text/plain": [
       "     cltvBinned  CLTV\n",
       "0     5000-6000  5433\n",
       "1     5000-6000  5302\n",
       "2     3000-4000  3179\n",
       "3     5000-6000  5337\n",
       "4     2000-3000  2793\n",
       "...         ...   ...\n",
       "7038  5000-6000  5306\n",
       "7039  2000-3000  2140\n",
       "7040  5000-6000  5560\n",
       "7041  2000-3000  2793\n",
       "7042  5000-6000  5097\n",
       "\n",
       "[7043 rows x 2 columns]"
      ]
     },
     "execution_count": 68,
     "metadata": {},
     "output_type": "execute_result"
    }
   ],
   "source": [
    "df[['cltvBinned', 'CLTV']]"
   ]
  },
  {
   "cell_type": "code",
   "execution_count": 69,
   "metadata": {},
   "outputs": [
    {
     "data": {
      "text/plain": [
       "0"
      ]
     },
     "execution_count": 69,
     "metadata": {},
     "output_type": "execute_result"
    }
   ],
   "source": [
    "sum(df['cltvBinned'].isnull())"
   ]
  },
  {
   "cell_type": "code",
   "execution_count": 70,
   "metadata": {},
   "outputs": [
    {
     "name": "stdout",
     "output_type": "stream",
     "text": [
      "Chi-Squared Test result between cltvBinned and Churn Label:  157.5222225841129 4.9690706727656406e-33 4 [[ 868.33281272  313.66718728]\n",
      " [ 872.00596337  314.99403663]\n",
      " [1544.19253159  557.80746841]\n",
      " [1576.51625728  569.48374272]\n",
      " [ 312.95243504  113.04756496]]\n",
      "Dependent (reject H0)\n",
      "Dependent (reject H0)\n"
     ]
    }
   ],
   "source": [
    "compute_chiSquare('cltvBinned')"
   ]
  },
  {
   "cell_type": "code",
   "execution_count": 71,
   "metadata": {},
   "outputs": [
    {
     "name": "stdout",
     "output_type": "stream",
     "text": [
      "Correlation between CLTV and Churn Label: corr = -0.13 and p-value = 0.0\n"
     ]
    },
    {
     "data": {
      "text/plain": [
       "(-0.13, 0.0)"
      ]
     },
     "execution_count": 71,
     "metadata": {},
     "output_type": "execute_result"
    }
   ],
   "source": [
    "get_corr('CLTV')"
   ]
  },
  {
   "cell_type": "markdown",
   "metadata": {},
   "source": [
    "### Tenure"
   ]
  },
  {
   "cell_type": "code",
   "execution_count": 72,
   "metadata": {},
   "outputs": [
    {
     "data": {
      "image/png": "[encoded data removed]",
      "text/plain": [
       "<Figure size 720x432 with 1 Axes>"
      ]
     },
     "metadata": {
      "needs_background": "light"
     },
     "output_type": "display_data"
    }
   ],
   "source": [
    "plotHistogram('Tenure in Months')"
   ]
  },
  {
   "cell_type": "code",
   "execution_count": 73,
   "metadata": {},
   "outputs": [],
   "source": [
    "tenure_bins = ['1', '2-5', '6-10', '11-20', '20-30', '30-40', '40-60', '60-70', '71-72']\n",
    "\n",
    "tenure_ranges = [0, 1, 5, 10, 20, 30, 40, 60, 70, 72]\n",
    "\n",
    "df['tenureBinned'] = pd.cut(df['Tenure in Months'], tenure_ranges, labels=tenure_bins)"
   ]
  },
  {
   "cell_type": "code",
   "execution_count": 74,
   "metadata": {},
   "outputs": [
    {
     "data": {
      "text/html": [
       "<div>\n",
       "<style scoped>\n",
       "    .dataframe tbody tr th:only-of-type {\n",
       "        vertical-align: middle;\n",
       "    }\n",
       "\n",
       "    .dataframe tbody tr th {\n",
       "        vertical-align: top;\n",
       "    }\n",
       "\n",
       "    .dataframe thead th {\n",
       "        text-align: right;\n",
       "    }\n",
       "</style>\n",
       "<table border=\"1\" class=\"dataframe\">\n",
       "  <thead>\n",
       "    <tr style=\"text-align: right;\">\n",
       "      <th></th>\n",
       "      <th>tenureBinned</th>\n",
       "      <th>Tenure in Months</th>\n",
       "    </tr>\n",
       "  </thead>\n",
       "  <tbody>\n",
       "    <tr>\n",
       "      <th>0</th>\n",
       "      <td>1</td>\n",
       "      <td>1</td>\n",
       "    </tr>\n",
       "    <tr>\n",
       "      <th>1</th>\n",
       "      <td>6-10</td>\n",
       "      <td>8</td>\n",
       "    </tr>\n",
       "    <tr>\n",
       "      <th>2</th>\n",
       "      <td>11-20</td>\n",
       "      <td>18</td>\n",
       "    </tr>\n",
       "    <tr>\n",
       "      <th>3</th>\n",
       "      <td>20-30</td>\n",
       "      <td>25</td>\n",
       "    </tr>\n",
       "    <tr>\n",
       "      <th>4</th>\n",
       "      <td>30-40</td>\n",
       "      <td>37</td>\n",
       "    </tr>\n",
       "    <tr>\n",
       "      <th>...</th>\n",
       "      <td>...</td>\n",
       "      <td>...</td>\n",
       "    </tr>\n",
       "    <tr>\n",
       "      <th>7038</th>\n",
       "      <td>71-72</td>\n",
       "      <td>72</td>\n",
       "    </tr>\n",
       "    <tr>\n",
       "      <th>7039</th>\n",
       "      <td>20-30</td>\n",
       "      <td>24</td>\n",
       "    </tr>\n",
       "    <tr>\n",
       "      <th>7040</th>\n",
       "      <td>71-72</td>\n",
       "      <td>72</td>\n",
       "    </tr>\n",
       "    <tr>\n",
       "      <th>7041</th>\n",
       "      <td>11-20</td>\n",
       "      <td>11</td>\n",
       "    </tr>\n",
       "    <tr>\n",
       "      <th>7042</th>\n",
       "      <td>60-70</td>\n",
       "      <td>66</td>\n",
       "    </tr>\n",
       "  </tbody>\n",
       "</table>\n",
       "<p>7043 rows × 2 columns</p>\n",
       "</div>"
      ],
      "text/plain": [
       "     tenureBinned  Tenure in Months\n",
       "0               1                 1\n",
       "1            6-10                 8\n",
       "2           11-20                18\n",
       "3           20-30                25\n",
       "4           30-40                37\n",
       "...           ...               ...\n",
       "7038        71-72                72\n",
       "7039        20-30                24\n",
       "7040        71-72                72\n",
       "7041        11-20                11\n",
       "7042        60-70                66\n",
       "\n",
       "[7043 rows x 2 columns]"
      ]
     },
     "execution_count": 74,
     "metadata": {},
     "output_type": "execute_result"
    }
   ],
   "source": [
    "df[['tenureBinned', 'Tenure in Months']]"
   ]
  },
  {
   "cell_type": "code",
   "execution_count": 75,
   "metadata": {},
   "outputs": [
    {
     "data": {
      "text/plain": [
       "0"
      ]
     },
     "execution_count": 75,
     "metadata": {},
     "output_type": "execute_result"
    }
   ],
   "source": [
    "sum(df['tenureBinned'].isnull())"
   ]
  },
  {
   "cell_type": "code",
   "execution_count": 76,
   "metadata": {},
   "outputs": [
    {
     "name": "stdout",
     "output_type": "stream",
     "text": [
      "Chi-Squared Test result between tenureBinned and Churn Label:  1017.4774606386027 2.520422575009352e-214 8 [[450.3282692  162.6717308 ]\n",
      " [548.76870652 198.23129348]\n",
      " [448.12437882 161.87562118]\n",
      " [667.04415732 240.95584268]\n",
      " [560.52278858 202.47721142]\n",
      " [473.83643334 171.16356666]\n",
      " [991.75067443 358.24932557]\n",
      " [642.80136306 232.19863694]\n",
      " [390.82322874 141.17677126]]\n",
      "Dependent (reject H0)\n",
      "Dependent (reject H0)\n"
     ]
    }
   ],
   "source": [
    "compute_chiSquare('tenureBinned')"
   ]
  },
  {
   "cell_type": "code",
   "execution_count": 77,
   "metadata": {},
   "outputs": [
    {
     "name": "stdout",
     "output_type": "stream",
     "text": [
      "Correlation between Tenure in Months and Churn Label: corr = -0.35 and p-value = 0.0\n"
     ]
    },
    {
     "data": {
      "text/plain": [
       "(-0.35, 0.0)"
      ]
     },
     "execution_count": 77,
     "metadata": {},
     "output_type": "execute_result"
    }
   ],
   "source": [
    "get_corr('Tenure in Months')"
   ]
  },
  {
   "cell_type": "code",
   "execution_count": 78,
   "metadata": {},
   "outputs": [],
   "source": [
    "def plotBar(categorical1, categorical2=\"Churn Label\"):\n",
    "    fig, axes = plt.subplots(figsize=(7, 6))\n",
    "    axes = sns.countplot(x=categorical1, hue=categorical2, data=df, ax=axes)\n",
    "    plt.tick_params(axis='both', which='major', labelsize=12)\n",
    "    plt.xlabel(categorical1, fontsize=14)\n",
    "    plt.title(\"Absolute count of \" + categorical2 + \" by \" + categorical1, fontsize=15)\n",
    "    plt.legend(fontsize=13)\n",
    "    \n",
    "    fig, axes = plt.subplots(figsize=(7, 6))\n",
    "    axes = sns.barplot(x=categorical1, y=categorical2, data=df, ax=axes)\n",
    "    plt.tick_params(axis='both', which='major', labelsize=12)\n",
    "    plt.xlabel(categorical1, fontsize=14)\n",
    "    plt.ylabel(categorical2 + \" probability\", fontsize=14)"
   ]
  },
  {
   "cell_type": "markdown",
   "metadata": {},
   "source": [
    "### City"
   ]
  },
  {
   "cell_type": "code",
   "execution_count": 79,
   "metadata": {},
   "outputs": [],
   "source": [
    "from sklearn import preprocessing\n",
    "le = preprocessing.LabelEncoder()\n",
    "df['cityEncoded'] = le.fit_transform(df['City'])"
   ]
  },
  {
   "cell_type": "code",
   "execution_count": 80,
   "metadata": {},
   "outputs": [
    {
     "name": "stdout",
     "output_type": "stream",
     "text": [
      "Correlation between cityEncoded and Churn Label: corr = 0.04 and p-value = 0.0018\n"
     ]
    },
    {
     "data": {
      "text/plain": [
       "(0.04, 0.0018)"
      ]
     },
     "execution_count": 80,
     "metadata": {},
     "output_type": "execute_result"
    }
   ],
   "source": [
    "get_corr('cityEncoded')"
   ]
  },
  {
   "cell_type": "code",
   "execution_count": 81,
   "metadata": {},
   "outputs": [
    {
     "data": {
      "text/html": [
       "<div>\n",
       "<style scoped>\n",
       "    .dataframe tbody tr th:only-of-type {\n",
       "        vertical-align: middle;\n",
       "    }\n",
       "\n",
       "    .dataframe tbody tr th {\n",
       "        vertical-align: top;\n",
       "    }\n",
       "\n",
       "    .dataframe thead th {\n",
       "        text-align: right;\n",
       "    }\n",
       "</style>\n",
       "<table border=\"1\" class=\"dataframe\">\n",
       "  <thead>\n",
       "    <tr style=\"text-align: right;\">\n",
       "      <th></th>\n",
       "      <th>City</th>\n",
       "      <th>cityEncoded</th>\n",
       "    </tr>\n",
       "  </thead>\n",
       "  <tbody>\n",
       "    <tr>\n",
       "      <th>0</th>\n",
       "      <td>Los Angeles</td>\n",
       "      <td>554</td>\n",
       "    </tr>\n",
       "    <tr>\n",
       "      <th>1</th>\n",
       "      <td>Los Angeles</td>\n",
       "      <td>554</td>\n",
       "    </tr>\n",
       "    <tr>\n",
       "      <th>2</th>\n",
       "      <td>Los Angeles</td>\n",
       "      <td>554</td>\n",
       "    </tr>\n",
       "    <tr>\n",
       "      <th>3</th>\n",
       "      <td>Inglewood</td>\n",
       "      <td>448</td>\n",
       "    </tr>\n",
       "    <tr>\n",
       "      <th>4</th>\n",
       "      <td>Whittier</td>\n",
       "      <td>1072</td>\n",
       "    </tr>\n",
       "    <tr>\n",
       "      <th>...</th>\n",
       "      <td>...</td>\n",
       "      <td>...</td>\n",
       "    </tr>\n",
       "    <tr>\n",
       "      <th>7038</th>\n",
       "      <td>Landers</td>\n",
       "      <td>514</td>\n",
       "    </tr>\n",
       "    <tr>\n",
       "      <th>7039</th>\n",
       "      <td>Adelanto</td>\n",
       "      <td>2</td>\n",
       "    </tr>\n",
       "    <tr>\n",
       "      <th>7040</th>\n",
       "      <td>Amboy</td>\n",
       "      <td>22</td>\n",
       "    </tr>\n",
       "    <tr>\n",
       "      <th>7041</th>\n",
       "      <td>Angelus Oaks</td>\n",
       "      <td>26</td>\n",
       "    </tr>\n",
       "    <tr>\n",
       "      <th>7042</th>\n",
       "      <td>Apple Valley</td>\n",
       "      <td>32</td>\n",
       "    </tr>\n",
       "  </tbody>\n",
       "</table>\n",
       "<p>7043 rows × 2 columns</p>\n",
       "</div>"
      ],
      "text/plain": [
       "              City  cityEncoded\n",
       "0      Los Angeles          554\n",
       "1      Los Angeles          554\n",
       "2      Los Angeles          554\n",
       "3        Inglewood          448\n",
       "4         Whittier         1072\n",
       "...            ...          ...\n",
       "7038       Landers          514\n",
       "7039      Adelanto            2\n",
       "7040         Amboy           22\n",
       "7041  Angelus Oaks           26\n",
       "7042  Apple Valley           32\n",
       "\n",
       "[7043 rows x 2 columns]"
      ]
     },
     "execution_count": 81,
     "metadata": {},
     "output_type": "execute_result"
    }
   ],
   "source": [
    "df[['City', 'cityEncoded']]"
   ]
  },
  {
   "cell_type": "code",
   "execution_count": 82,
   "metadata": {},
   "outputs": [
    {
     "name": "stdout",
     "output_type": "stream",
     "text": [
      "Chi-Squared Test result between City and Churn Label:  1382.6932700346551 2.0326292920341723e-08 1105 [[2.93852052 1.06147948]\n",
      " [2.93852052 1.06147948]\n",
      " [3.67315065 1.32684935]\n",
      " ...\n",
      " [2.93852052 1.06147948]\n",
      " [3.67315065 1.32684935]\n",
      " [2.93852052 1.06147948]]\n",
      "Dependent (reject H0)\n",
      "Dependent (reject H0)\n"
     ]
    }
   ],
   "source": [
    "compute_chiSquare(\"City\")"
   ]
  },
  {
   "cell_type": "code",
   "execution_count": 83,
   "metadata": {},
   "outputs": [
    {
     "name": "stdout",
     "output_type": "stream",
     "text": [
      "Chi-Squared Test result between CityNormalized and Churn Label:  1382.6932700346551 2.0326292920341723e-08 1105 [[2.93852052 1.06147948]\n",
      " [2.93852052 1.06147948]\n",
      " [3.67315065 1.32684935]\n",
      " ...\n",
      " [2.93852052 1.06147948]\n",
      " [3.67315065 1.32684935]\n",
      " [2.93852052 1.06147948]]\n",
      "Dependent (reject H0)\n",
      "Dependent (reject H0)\n"
     ]
    }
   ],
   "source": [
    "df[\"CityNormalized\"] = (df[\"cityEncoded\"] - df[\"cityEncoded\"].mean()) / df[\"cityEncoded\"].std()\n",
    "compute_chiSquare(\"CityNormalized\")"
   ]
  },
  {
   "cell_type": "code",
   "execution_count": 84,
   "metadata": {},
   "outputs": [
    {
     "name": "stdout",
     "output_type": "stream",
     "text": [
      "Correlation between CityNormalized and Churn Label: corr = 0.04 and p-value = 0.0018\n"
     ]
    },
    {
     "data": {
      "text/plain": [
       "(0.04, 0.0018)"
      ]
     },
     "execution_count": 84,
     "metadata": {},
     "output_type": "execute_result"
    }
   ],
   "source": [
    "get_corr('CityNormalized')"
   ]
  },
  {
   "cell_type": "code",
   "execution_count": 85,
   "metadata": {},
   "outputs": [
    {
     "data": {
      "text/plain": [
       "Los Angeles         293\n",
       "San Diego           285\n",
       "San Jose            112\n",
       "Sacramento          108\n",
       "San Francisco       104\n",
       "                   ... \n",
       "South Lake Tahoe      2\n",
       "Jacumba               2\n",
       "Johannesburg          2\n",
       "Holtville             2\n",
       "Eldridge              2\n",
       "Name: City, Length: 1106, dtype: int64"
      ]
     },
     "execution_count": 85,
     "metadata": {},
     "output_type": "execute_result"
    }
   ],
   "source": [
    "city_counts = df[\"City\"].value_counts()\n",
    "city_counts.sort_values(ascending=False)"
   ]
  },
  {
   "cell_type": "code",
   "execution_count": 86,
   "metadata": {},
   "outputs": [],
   "source": [
    "d = {}\n",
    "for i, s in enumerate(city_counts.index):\n",
    "    d[s] = i"
   ]
  },
  {
   "cell_type": "code",
   "execution_count": 87,
   "metadata": {},
   "outputs": [
    {
     "data": {
      "text/plain": [
       "0         0\n",
       "1         0\n",
       "2         0\n",
       "3        25\n",
       "4        17\n",
       "       ... \n",
       "7038    732\n",
       "7039    234\n",
       "7040    249\n",
       "7041    822\n",
       "7042    431\n",
       "Length: 7043, dtype: int64"
      ]
     },
     "execution_count": 87,
     "metadata": {},
     "output_type": "execute_result"
    }
   ],
   "source": [
    "city_cat = pd.Series([0] * df.shape[0])\n",
    "for i in range(df.shape[0]):\n",
    "    city_cat[i] = d[df[\"City\"][i]]\n",
    "    \n",
    "city_cat"
   ]
  },
  {
   "cell_type": "code",
   "execution_count": 88,
   "metadata": {},
   "outputs": [
    {
     "name": "stdout",
     "output_type": "stream",
     "text": [
      "Chi-Squared Test result between CityEncodedSort and Churn Label:  1382.6932700346551 2.0326292920341723e-08 1105 [[215.24662786  77.75337214]\n",
      " [209.36958682  75.63041318]\n",
      " [ 82.27857447  29.72142553]\n",
      " ...\n",
      " [  1.46926026   0.53073974]\n",
      " [  1.46926026   0.53073974]\n",
      " [  1.46926026   0.53073974]]\n",
      "Dependent (reject H0)\n",
      "Dependent (reject H0)\n"
     ]
    }
   ],
   "source": [
    "df[\"CityEncodedSort\"] = city_cat\n",
    "compute_chiSquare(\"CityEncodedSort\")"
   ]
  },
  {
   "cell_type": "code",
   "execution_count": 89,
   "metadata": {},
   "outputs": [
    {
     "name": "stdout",
     "output_type": "stream",
     "text": [
      "Correlation between CityEncodedSort and Churn Label: corr = -0.05 and p-value = 0.0001\n"
     ]
    },
    {
     "data": {
      "text/plain": [
       "(-0.05, 0.0001)"
      ]
     },
     "execution_count": 89,
     "metadata": {},
     "output_type": "execute_result"
    }
   ],
   "source": [
    "get_corr('CityEncodedSort')"
   ]
  },
  {
   "cell_type": "code",
   "execution_count": 90,
   "metadata": {},
   "outputs": [
    {
     "data": {
      "image/png": "[encoded data removed]",
      "text/plain": [
       "<Figure size 720x432 with 1 Axes>"
      ]
     },
     "metadata": {
      "needs_background": "light"
     },
     "output_type": "display_data"
    }
   ],
   "source": [
    "plotHistogram('CityEncodedSort')"
   ]
  },
  {
   "cell_type": "code",
   "execution_count": 91,
   "metadata": {},
   "outputs": [],
   "source": [
    "city_bins = ['0-1', '1-50', '50-200', '200+']\n",
    "\n",
    "city_ranges = [-1, 0.5, 50, 200, 2000]\n",
    "\n",
    "df['cityBinned'] = pd.cut(df['CityEncodedSort'], city_ranges, labels=city_bins)"
   ]
  },
  {
   "cell_type": "code",
   "execution_count": 92,
   "metadata": {},
   "outputs": [
    {
     "data": {
      "text/html": [
       "<div>\n",
       "<style scoped>\n",
       "    .dataframe tbody tr th:only-of-type {\n",
       "        vertical-align: middle;\n",
       "    }\n",
       "\n",
       "    .dataframe tbody tr th {\n",
       "        vertical-align: top;\n",
       "    }\n",
       "\n",
       "    .dataframe thead th {\n",
       "        text-align: right;\n",
       "    }\n",
       "</style>\n",
       "<table border=\"1\" class=\"dataframe\">\n",
       "  <thead>\n",
       "    <tr style=\"text-align: right;\">\n",
       "      <th></th>\n",
       "      <th>CityEncodedSort</th>\n",
       "      <th>cityBinned</th>\n",
       "    </tr>\n",
       "  </thead>\n",
       "  <tbody>\n",
       "    <tr>\n",
       "      <th>0</th>\n",
       "      <td>0</td>\n",
       "      <td>0-1</td>\n",
       "    </tr>\n",
       "    <tr>\n",
       "      <th>1</th>\n",
       "      <td>0</td>\n",
       "      <td>0-1</td>\n",
       "    </tr>\n",
       "    <tr>\n",
       "      <th>2</th>\n",
       "      <td>0</td>\n",
       "      <td>0-1</td>\n",
       "    </tr>\n",
       "    <tr>\n",
       "      <th>3</th>\n",
       "      <td>25</td>\n",
       "      <td>1-50</td>\n",
       "    </tr>\n",
       "    <tr>\n",
       "      <th>4</th>\n",
       "      <td>17</td>\n",
       "      <td>1-50</td>\n",
       "    </tr>\n",
       "    <tr>\n",
       "      <th>...</th>\n",
       "      <td>...</td>\n",
       "      <td>...</td>\n",
       "    </tr>\n",
       "    <tr>\n",
       "      <th>7038</th>\n",
       "      <td>732</td>\n",
       "      <td>200+</td>\n",
       "    </tr>\n",
       "    <tr>\n",
       "      <th>7039</th>\n",
       "      <td>234</td>\n",
       "      <td>200+</td>\n",
       "    </tr>\n",
       "    <tr>\n",
       "      <th>7040</th>\n",
       "      <td>249</td>\n",
       "      <td>200+</td>\n",
       "    </tr>\n",
       "    <tr>\n",
       "      <th>7041</th>\n",
       "      <td>822</td>\n",
       "      <td>200+</td>\n",
       "    </tr>\n",
       "    <tr>\n",
       "      <th>7042</th>\n",
       "      <td>431</td>\n",
       "      <td>200+</td>\n",
       "    </tr>\n",
       "  </tbody>\n",
       "</table>\n",
       "<p>7043 rows × 2 columns</p>\n",
       "</div>"
      ],
      "text/plain": [
       "      CityEncodedSort cityBinned\n",
       "0                   0        0-1\n",
       "1                   0        0-1\n",
       "2                   0        0-1\n",
       "3                  25       1-50\n",
       "4                  17       1-50\n",
       "...               ...        ...\n",
       "7038              732       200+\n",
       "7039              234       200+\n",
       "7040              249       200+\n",
       "7041              822       200+\n",
       "7042              431       200+\n",
       "\n",
       "[7043 rows x 2 columns]"
      ]
     },
     "execution_count": 92,
     "metadata": {},
     "output_type": "execute_result"
    }
   ],
   "source": [
    "df[['CityEncodedSort', 'cityBinned']]"
   ]
  },
  {
   "cell_type": "code",
   "execution_count": 93,
   "metadata": {},
   "outputs": [
    {
     "name": "stdout",
     "output_type": "stream",
     "text": [
      "Chi-Squared Test result between cityBinned and Churn Label:  63.88736764272478 8.676147002325845e-14 3 [[ 215.24662786   77.75337214]\n",
      " [1348.78091722  487.21908278]\n",
      " [ 920.4915519   332.5084481 ]\n",
      " [2689.48090302  971.51909698]]\n",
      "Dependent (reject H0)\n",
      "Dependent (reject H0)\n"
     ]
    }
   ],
   "source": [
    "compute_chiSquare(\"cityBinned\")"
   ]
  },
  {
   "cell_type": "code",
   "execution_count": 94,
   "metadata": {},
   "outputs": [],
   "source": [
    "df[\"CityEncodedSortNormal\"] = (df[\"CityEncodedSort\"] - df[\"CityEncodedSort\"].mean()) / df[\"CityEncodedSort\"].std()"
   ]
  },
  {
   "cell_type": "code",
   "execution_count": 95,
   "metadata": {},
   "outputs": [
    {
     "name": "stdout",
     "output_type": "stream",
     "text": [
      "Chi-Squared Test result between CityNormalized and Churn Label:  1382.6932700346551 2.0326292920341723e-08 1105 [[2.93852052 1.06147948]\n",
      " [2.93852052 1.06147948]\n",
      " [3.67315065 1.32684935]\n",
      " ...\n",
      " [2.93852052 1.06147948]\n",
      " [3.67315065 1.32684935]\n",
      " [2.93852052 1.06147948]]\n",
      "Dependent (reject H0)\n",
      "Dependent (reject H0)\n"
     ]
    }
   ],
   "source": [
    "compute_chiSquare(\"CityNormalized\")"
   ]
  },
  {
   "cell_type": "markdown",
   "metadata": {},
   "source": [
    "### Standardisation and Normalisation"
   ]
  },
  {
   "cell_type": "markdown",
   "metadata": {},
   "source": [
    "### Total Charges"
   ]
  },
  {
   "cell_type": "code",
   "execution_count": 96,
   "metadata": {},
   "outputs": [
    {
     "data": {
      "image/png": "[encoded data removed]",
      "text/plain": [
       "<Figure size 720x432 with 1 Axes>"
      ]
     },
     "metadata": {
      "needs_background": "light"
     },
     "output_type": "display_data"
    }
   ],
   "source": [
    "plotHistogram('Total Charges')"
   ]
  },
  {
   "cell_type": "code",
   "execution_count": 97,
   "metadata": {},
   "outputs": [],
   "source": [
    "# pt = preprocessing.PowerTransformer(method='box-cox', standardize=False)\n",
    "# X_lognormal = df['Total Charges'].lognormal(size=(3, 3))\n",
    "# X_lognormal\n",
    "\n",
    "\n",
    "\n",
    "# pt.fit_transform(X_lognormal)\n",
    "\n",
    "df['Total Charges'] = (df['Total Charges'] - df['Total Charges'].mean()) / df['Total Charges'].std()"
   ]
  },
  {
   "cell_type": "code",
   "execution_count": 98,
   "metadata": {},
   "outputs": [
    {
     "data": {
      "image/png": "[encoded data removed]",
      "text/plain": [
       "<Figure size 720x432 with 1 Axes>"
      ]
     },
     "metadata": {
      "needs_background": "light"
     },
     "output_type": "display_data"
    }
   ],
   "source": [
    "plotHistogram('Total Charges')"
   ]
  },
  {
   "cell_type": "markdown",
   "metadata": {},
   "source": [
    "### Longitude and Latitude"
   ]
  },
  {
   "cell_type": "code",
   "execution_count": 99,
   "metadata": {},
   "outputs": [],
   "source": [
    "df['Longitude'] = (df['Longitude'] - df['Longitude'].mean()) / df['Longitude'].std()\n",
    "df['Latitude'] = (df['Latitude'] - df['Latitude'].mean()) / df['Latitude'].std()"
   ]
  },
  {
   "cell_type": "markdown",
   "metadata": {},
   "source": [
    "### Monthly Charge"
   ]
  },
  {
   "cell_type": "code",
   "execution_count": 100,
   "metadata": {},
   "outputs": [
    {
     "data": {
      "image/png": "[encoded data removed]",
      "text/plain": [
       "<Figure size 720x432 with 1 Axes>"
      ]
     },
     "metadata": {
      "needs_background": "light"
     },
     "output_type": "display_data"
    }
   ],
   "source": [
    "plotHistogram('Monthly Charge')"
   ]
  },
  {
   "cell_type": "code",
   "execution_count": 101,
   "metadata": {},
   "outputs": [],
   "source": [
    "df['Monthly Charge'] = (df['Monthly Charge'] - df['Monthly Charge'].mean()) / df['Monthly Charge'].std()"
   ]
  },
  {
   "cell_type": "code",
   "execution_count": 102,
   "metadata": {},
   "outputs": [
    {
     "name": "stdout",
     "output_type": "stream",
     "text": [
      "Correlation between Monthly Charge and Churn Label: corr = 0.19 and p-value = 0.0\n"
     ]
    },
    {
     "data": {
      "text/plain": [
       "(0.19, 0.0)"
      ]
     },
     "execution_count": 102,
     "metadata": {},
     "output_type": "execute_result"
    }
   ],
   "source": [
    "get_corr('Monthly Charge')"
   ]
  },
  {
   "cell_type": "markdown",
   "metadata": {},
   "source": [
    "### Total Long Distance Charges"
   ]
  },
  {
   "cell_type": "code",
   "execution_count": 103,
   "metadata": {},
   "outputs": [
    {
     "data": {
      "image/png": "[encoded data removed]",
      "text/plain": [
       "<Figure size 720x432 with 1 Axes>"
      ]
     },
     "metadata": {
      "needs_background": "light"
     },
     "output_type": "display_data"
    }
   ],
   "source": [
    "plotHistogram('Total Long Distance Charges')"
   ]
  },
  {
   "cell_type": "code",
   "execution_count": 104,
   "metadata": {},
   "outputs": [
    {
     "name": "stdout",
     "output_type": "stream",
     "text": [
      "Correlation between Total Long Distance Charges and Churn Label: corr = -0.22 and p-value = 0.0\n"
     ]
    },
    {
     "data": {
      "text/plain": [
       "(-0.22, 0.0)"
      ]
     },
     "execution_count": 104,
     "metadata": {},
     "output_type": "execute_result"
    }
   ],
   "source": [
    "df['Total Long Distance Charges'] = (df['Total Long Distance Charges'] - df['Total Long Distance Charges'].mean()) / df['Total Long Distance Charges'].std()\n",
    "get_corr('Total Long Distance Charges')"
   ]
  },
  {
   "cell_type": "markdown",
   "metadata": {},
   "source": [
    "### Total Revenue"
   ]
  },
  {
   "cell_type": "code",
   "execution_count": 105,
   "metadata": {},
   "outputs": [
    {
     "data": {
      "image/png": "[encoded data removed]",
      "text/plain": [
       "<Figure size 720x432 with 1 Axes>"
      ]
     },
     "metadata": {
      "needs_background": "light"
     },
     "output_type": "display_data"
    }
   ],
   "source": [
    "plotHistogram('Total Revenue')"
   ]
  },
  {
   "cell_type": "code",
   "execution_count": 106,
   "metadata": {},
   "outputs": [
    {
     "name": "stdout",
     "output_type": "stream",
     "text": [
      "Correlation between Total Revenue and Churn Label: corr = -0.22 and p-value = 0.0\n"
     ]
    },
    {
     "data": {
      "text/plain": [
       "(-0.22, 0.0)"
      ]
     },
     "execution_count": 106,
     "metadata": {},
     "output_type": "execute_result"
    }
   ],
   "source": [
    "df['Total Revenue'] = (df['Total Revenue'] - df['Total Revenue'].mean()) / df['Total Revenue'].std()\n",
    "get_corr('Total Revenue')"
   ]
  },
  {
   "cell_type": "markdown",
   "metadata": {},
   "source": [
    "### Population"
   ]
  },
  {
   "cell_type": "code",
   "execution_count": 107,
   "metadata": {},
   "outputs": [
    {
     "data": {
      "image/png": "[encoded data removed]",
      "text/plain": [
       "<Figure size 720x432 with 1 Axes>"
      ]
     },
     "metadata": {
      "needs_background": "light"
     },
     "output_type": "display_data"
    }
   ],
   "source": [
    "plotHistogram('Population')"
   ]
  },
  {
   "cell_type": "code",
   "execution_count": 108,
   "metadata": {},
   "outputs": [
    {
     "name": "stdout",
     "output_type": "stream",
     "text": [
      "Correlation between Population and Churn Label: corr = 0.05 and p-value = 0.0\n"
     ]
    },
    {
     "data": {
      "text/plain": [
       "(0.05, 0.0)"
      ]
     },
     "execution_count": 108,
     "metadata": {},
     "output_type": "execute_result"
    }
   ],
   "source": [
    "df['Population'] = (df['Population'] - df['Population'].mean()) / df['Population'].std()\n",
    "get_corr('Population')"
   ]
  },
  {
   "cell_type": "markdown",
   "metadata": {},
   "source": [
    "### Age"
   ]
  },
  {
   "cell_type": "code",
   "execution_count": 109,
   "metadata": {},
   "outputs": [
    {
     "name": "stdout",
     "output_type": "stream",
     "text": [
      "Correlation between Age and Churn Label: corr = 0.12 and p-value = 0.0\n"
     ]
    },
    {
     "data": {
      "text/plain": [
       "(0.12, 0.0)"
      ]
     },
     "execution_count": 109,
     "metadata": {},
     "output_type": "execute_result"
    },
    {
     "data": {
      "image/png": "[encoded data removed]",
      "text/plain": [
       "<Figure size 720x432 with 1 Axes>"
      ]
     },
     "metadata": {
      "needs_background": "light"
     },
     "output_type": "display_data"
    }
   ],
   "source": [
    "plotHistogram('Age')\n",
    "get_corr('Age')"
   ]
  },
  {
   "cell_type": "code",
   "execution_count": 110,
   "metadata": {},
   "outputs": [
    {
     "name": "stdout",
     "output_type": "stream",
     "text": [
      "Correlation between Age and Churn Label: corr = 0.12 and p-value = 0.0\n"
     ]
    },
    {
     "data": {
      "text/plain": [
       "(0.12, 0.0)"
      ]
     },
     "execution_count": 110,
     "metadata": {},
     "output_type": "execute_result"
    }
   ],
   "source": [
    "df['Age'] = (df['Age'] - df['Age'].mean()) / df['Age'].std()\n",
    "get_corr('Age')"
   ]
  },
  {
   "cell_type": "markdown",
   "metadata": {},
   "source": [
    "### CLTV"
   ]
  },
  {
   "cell_type": "code",
   "execution_count": 111,
   "metadata": {},
   "outputs": [
    {
     "name": "stdout",
     "output_type": "stream",
     "text": [
      "Correlation between CLTV and Churn Label: corr = -0.13 and p-value = 0.0\n"
     ]
    },
    {
     "data": {
      "image/png": "[encoded data removed]",
      "text/plain": [
       "<Figure size 720x432 with 1 Axes>"
      ]
     },
     "metadata": {
      "needs_background": "light"
     },
     "output_type": "display_data"
    }
   ],
   "source": [
    "get_corr('CLTV')\n",
    "plotHistogram('CLTV')"
   ]
  },
  {
   "cell_type": "code",
   "execution_count": 112,
   "metadata": {},
   "outputs": [
    {
     "name": "stdout",
     "output_type": "stream",
     "text": [
      "Correlation between CLTV and Churn Label: corr = -0.13 and p-value = 0.0\n"
     ]
    },
    {
     "data": {
      "text/plain": [
       "(-0.13, 0.0)"
      ]
     },
     "execution_count": 112,
     "metadata": {},
     "output_type": "execute_result"
    }
   ],
   "source": [
    "df['CLTV'] = (df['CLTV'] - df['CLTV'].mean()) / df['CLTV'].std()\n",
    "get_corr('CLTV')"
   ]
  },
  {
   "cell_type": "markdown",
   "metadata": {},
   "source": [
    "### Tenure in Months"
   ]
  },
  {
   "cell_type": "code",
   "execution_count": 113,
   "metadata": {},
   "outputs": [
    {
     "name": "stdout",
     "output_type": "stream",
     "text": [
      "Correlation between Tenure in Months and Churn Label: corr = -0.35 and p-value = 0.0\n"
     ]
    },
    {
     "data": {
      "image/png": "[encoded data removed]",
      "text/plain": [
       "<Figure size 720x432 with 1 Axes>"
      ]
     },
     "metadata": {
      "needs_background": "light"
     },
     "output_type": "display_data"
    }
   ],
   "source": [
    "get_corr('Tenure in Months')\n",
    "plotHistogram('Tenure in Months')"
   ]
  },
  {
   "cell_type": "code",
   "execution_count": 114,
   "metadata": {},
   "outputs": [
    {
     "name": "stdout",
     "output_type": "stream",
     "text": [
      "Correlation between Tenure in Months and Churn Label: corr = -0.35 and p-value = 0.0\n"
     ]
    },
    {
     "data": {
      "text/plain": [
       "(-0.35, 0.0)"
      ]
     },
     "execution_count": 114,
     "metadata": {},
     "output_type": "execute_result"
    }
   ],
   "source": [
    "df['Tenure in Months'] = (df['Tenure in Months'] - df['Tenure in Months'].mean()) / df['Tenure in Months'].std()\n",
    "get_corr('Tenure in Months')"
   ]
  },
  {
   "cell_type": "markdown",
   "metadata": {},
   "source": [
    "### Number of Referrals"
   ]
  },
  {
   "cell_type": "code",
   "execution_count": 115,
   "metadata": {},
   "outputs": [
    {
     "name": "stdout",
     "output_type": "stream",
     "text": [
      "Correlation between Number of Referrals and Churn Label: corr = -0.29 and p-value = 0.0\n"
     ]
    },
    {
     "data": {
      "text/plain": [
       "(-0.29, 0.0)"
      ]
     },
     "execution_count": 115,
     "metadata": {},
     "output_type": "execute_result"
    }
   ],
   "source": [
    "get_corr('Number of Referrals')"
   ]
  },
  {
   "cell_type": "code",
   "execution_count": 116,
   "metadata": {},
   "outputs": [
    {
     "data": {
      "image/png": "[encoded data removed]",
      "text/plain": [
       "<Figure size 720x432 with 1 Axes>"
      ]
     },
     "metadata": {
      "needs_background": "light"
     },
     "output_type": "display_data"
    }
   ],
   "source": [
    "plotHistogram('Number of Referrals')"
   ]
  },
  {
   "cell_type": "code",
   "execution_count": 117,
   "metadata": {},
   "outputs": [],
   "source": [
    "df['Number of Referrals'] = (df['Number of Referrals'] - df['Number of Referrals'].mean()) / df['Number of Referrals'].std()"
   ]
  },
  {
   "cell_type": "markdown",
   "metadata": {},
   "source": [
    "### Number of Dependents"
   ]
  },
  {
   "cell_type": "code",
   "execution_count": 118,
   "metadata": {},
   "outputs": [
    {
     "name": "stdout",
     "output_type": "stream",
     "text": [
      "Correlation between Number of Dependents and Churn Label: corr = -0.22 and p-value = 0.0\n"
     ]
    },
    {
     "data": {
      "text/plain": [
       "(-0.22, 0.0)"
      ]
     },
     "execution_count": 118,
     "metadata": {},
     "output_type": "execute_result"
    },
    {
     "data": {
      "image/png": "[encoded data removed]",
      "text/plain": [
       "<Figure size 720x432 with 1 Axes>"
      ]
     },
     "metadata": {
      "needs_background": "light"
     },
     "output_type": "display_data"
    }
   ],
   "source": [
    "plotHistogram('Number of Dependents')\n",
    "get_corr('Number of Dependents')"
   ]
  },
  {
   "cell_type": "code",
   "execution_count": 119,
   "metadata": {},
   "outputs": [
    {
     "name": "stdout",
     "output_type": "stream",
     "text": [
      "Correlation between Number of Dependents and Churn Label: corr = -0.22 and p-value = 0.0\n"
     ]
    },
    {
     "data": {
      "text/plain": [
       "(-0.22, 0.0)"
      ]
     },
     "execution_count": 119,
     "metadata": {},
     "output_type": "execute_result"
    }
   ],
   "source": [
    "df['Number of Dependents'] = (df['Number of Dependents'] - df['Number of Dependents'].mean()) / df['Number of Dependents'].std()\n",
    "get_corr('Number of Dependents')"
   ]
  },
  {
   "cell_type": "markdown",
   "metadata": {},
   "source": [
    "### Avg Monthly GB Download"
   ]
  },
  {
   "cell_type": "code",
   "execution_count": 120,
   "metadata": {
    "scrolled": false
   },
   "outputs": [
    {
     "data": {
      "text/plain": [
       "0        8\n",
       "1       17\n",
       "2       52\n",
       "3       12\n",
       "4       14\n",
       "        ..\n",
       "7038     0\n",
       "7039    24\n",
       "7040    59\n",
       "7041    17\n",
       "7042    11\n",
       "Name: Avg Monthly GB Download, Length: 7043, dtype: int64"
      ]
     },
     "execution_count": 120,
     "metadata": {},
     "output_type": "execute_result"
    }
   ],
   "source": [
    "df['Avg Monthly GB Download']"
   ]
  },
  {
   "cell_type": "code",
   "execution_count": 121,
   "metadata": {
    "scrolled": false
   },
   "outputs": [
    {
     "data": {
      "image/png": "[encoded data removed]",
      "text/plain": [
       "<Figure size 720x432 with 1 Axes>"
      ]
     },
     "metadata": {
      "needs_background": "light"
     },
     "output_type": "display_data"
    }
   ],
   "source": [
    "plotHistogram('Avg Monthly GB Download')"
   ]
  },
  {
   "cell_type": "code",
   "execution_count": 122,
   "metadata": {},
   "outputs": [],
   "source": [
    "df['Avg Monthly GB Download'] = (df['Avg Monthly GB Download'] - df['Avg Monthly GB Download'].mean()) / df['Avg Monthly GB Download'].std()"
   ]
  },
  {
   "cell_type": "code",
   "execution_count": 123,
   "metadata": {
    "scrolled": false
   },
   "outputs": [
    {
     "name": "stdout",
     "output_type": "stream",
     "text": [
      "Correlation between Avg Monthly GB Download and Churn Label: corr = 0.05 and p-value = 0.0\n"
     ]
    },
    {
     "data": {
      "text/plain": [
       "(0.05, 0.0)"
      ]
     },
     "execution_count": 123,
     "metadata": {},
     "output_type": "execute_result"
    }
   ],
   "source": [
    "get_corr('Avg Monthly GB Download')"
   ]
  },
  {
   "cell_type": "markdown",
   "metadata": {},
   "source": [
    "### One Hot Encoding"
   ]
  },
  {
   "cell_type": "code",
   "execution_count": 124,
   "metadata": {},
   "outputs": [],
   "source": [
    "#df = pd.get_dummies(df, columns=['Internet Type', 'Offer', 'Contract', 'Payment Method', 'ageBinned', 'refundBinned', 'cltvBinned', 'tenureBinned'])\n",
    "df = pd.get_dummies(df, columns=['Internet Type', 'Offer', 'Contract', 'Payment Method', 'refundBinned'])"
   ]
  },
  {
   "cell_type": "markdown",
   "metadata": {},
   "source": [
    "One hot encoding\n",
    "\n",
    "- Internet Type\n",
    "- Offer\n",
    "- Contract\n",
    "- Payment Method"
   ]
  },
  {
   "cell_type": "markdown",
   "metadata": {},
   "source": [
    "Do not one-hot encode ordinal values such as reffer a friend and number of dependents. Standardise and renormalise. "
   ]
  },
  {
   "cell_type": "markdown",
   "metadata": {},
   "source": [
    "### Numerical encoding of the features"
   ]
  },
  {
   "cell_type": "code",
   "execution_count": 125,
   "metadata": {
    "scrolled": true
   },
   "outputs": [
    {
     "data": {
      "text/plain": [
       "['Customer ID',\n",
       " 'Referred a Friend',\n",
       " 'Phone Service',\n",
       " 'Multiple Lines',\n",
       " 'Internet Service',\n",
       " 'Online Security',\n",
       " 'Online Backup',\n",
       " 'Device Protection Plan',\n",
       " 'Premium Tech Support',\n",
       " 'Streaming TV',\n",
       " 'Streaming Movies',\n",
       " 'Streaming Music',\n",
       " 'Unlimited Data',\n",
       " 'Paperless Billing',\n",
       " 'City',\n",
       " 'Gender',\n",
       " 'Under 30',\n",
       " 'Senior Citizen',\n",
       " 'Married',\n",
       " 'Dependents']"
      ]
     },
     "execution_count": 125,
     "metadata": {},
     "output_type": "execute_result"
    }
   ],
   "source": [
    "objects = df.dtypes == 'O'\n",
    "objects_columns = list(objects[objects == True].index)\n",
    "objects_columns"
   ]
  },
  {
   "cell_type": "code",
   "execution_count": 126,
   "metadata": {},
   "outputs": [],
   "source": [
    "objcetsBinarize = [ 'Referred a Friend',\n",
    " 'Phone Service',\n",
    " 'Multiple Lines',\n",
    " 'Internet Service',\n",
    " 'Online Security',\n",
    " 'Online Backup',\n",
    " 'Device Protection Plan',\n",
    " 'Premium Tech Support',\n",
    " 'Streaming TV',\n",
    " 'Streaming Movies',\n",
    " 'Streaming Music',\n",
    " 'Unlimited Data',\n",
    " 'Paperless Billing',\n",
    " 'Gender',\n",
    " 'Under 30',\n",
    " 'Senior Citizen',\n",
    " 'Married',\n",
    " 'Dependents']"
   ]
  },
  {
   "cell_type": "code",
   "execution_count": 127,
   "metadata": {},
   "outputs": [],
   "source": [
    "'''def object_to_int(df):\n",
    "    if df.dtype=='object':\n",
    "        df = LabelEncoder().fit_transform(df)\n",
    "    return df'''\n",
    "\n",
    "for col in objcetsBinarize:\n",
    "    df[col].replace({\"No\": 0, \"Yes\": 1}, inplace=True)"
   ]
  },
  {
   "cell_type": "code",
   "execution_count": 128,
   "metadata": {
    "scrolled": true
   },
   "outputs": [
    {
     "data": {
      "text/html": [
       "<div>\n",
       "<style scoped>\n",
       "    .dataframe tbody tr th:only-of-type {\n",
       "        vertical-align: middle;\n",
       "    }\n",
       "\n",
       "    .dataframe tbody tr th {\n",
       "        vertical-align: top;\n",
       "    }\n",
       "\n",
       "    .dataframe thead th {\n",
       "        text-align: right;\n",
       "    }\n",
       "</style>\n",
       "<table border=\"1\" class=\"dataframe\">\n",
       "  <thead>\n",
       "    <tr style=\"text-align: right;\">\n",
       "      <th></th>\n",
       "      <th>Customer ID</th>\n",
       "      <th>Churn Label</th>\n",
       "      <th>CLTV</th>\n",
       "      <th>Referred a Friend</th>\n",
       "      <th>Number of Referrals</th>\n",
       "      <th>Tenure in Months</th>\n",
       "      <th>Phone Service</th>\n",
       "      <th>Avg Monthly Long Distance Charges</th>\n",
       "      <th>Multiple Lines</th>\n",
       "      <th>Internet Service</th>\n",
       "      <th>...</th>\n",
       "      <th>Offer_Offer D</th>\n",
       "      <th>Offer_Offer E</th>\n",
       "      <th>Contract_Month-to-Month</th>\n",
       "      <th>Contract_One Year</th>\n",
       "      <th>Contract_Two Year</th>\n",
       "      <th>Payment Method_Bank Withdrawal</th>\n",
       "      <th>Payment Method_Credit Card</th>\n",
       "      <th>Payment Method_Mailed Check</th>\n",
       "      <th>refundBinned_No Refund</th>\n",
       "      <th>refundBinned_Refund</th>\n",
       "    </tr>\n",
       "  </thead>\n",
       "  <tbody>\n",
       "    <tr>\n",
       "      <th>0</th>\n",
       "      <td>8779-QRDMV</td>\n",
       "      <td>1</td>\n",
       "      <td>0.872912</td>\n",
       "      <td>0</td>\n",
       "      <td>-0.650362</td>\n",
       "      <td>-1.278897</td>\n",
       "      <td>0</td>\n",
       "      <td>0.00</td>\n",
       "      <td>0</td>\n",
       "      <td>1</td>\n",
       "      <td>...</td>\n",
       "      <td>0</td>\n",
       "      <td>0</td>\n",
       "      <td>1</td>\n",
       "      <td>0</td>\n",
       "      <td>0</td>\n",
       "      <td>1</td>\n",
       "      <td>0</td>\n",
       "      <td>0</td>\n",
       "      <td>1</td>\n",
       "      <td>0</td>\n",
       "    </tr>\n",
       "    <tr>\n",
       "      <th>1</th>\n",
       "      <td>7495-OOKFY</td>\n",
       "      <td>1</td>\n",
       "      <td>0.762181</td>\n",
       "      <td>1</td>\n",
       "      <td>-0.317162</td>\n",
       "      <td>-0.993672</td>\n",
       "      <td>1</td>\n",
       "      <td>48.85</td>\n",
       "      <td>1</td>\n",
       "      <td>1</td>\n",
       "      <td>...</td>\n",
       "      <td>0</td>\n",
       "      <td>1</td>\n",
       "      <td>1</td>\n",
       "      <td>0</td>\n",
       "      <td>0</td>\n",
       "      <td>0</td>\n",
       "      <td>1</td>\n",
       "      <td>0</td>\n",
       "      <td>1</td>\n",
       "      <td>0</td>\n",
       "    </tr>\n",
       "    <tr>\n",
       "      <th>2</th>\n",
       "      <td>1658-BYGOY</td>\n",
       "      <td>1</td>\n",
       "      <td>-1.032322</td>\n",
       "      <td>0</td>\n",
       "      <td>-0.650362</td>\n",
       "      <td>-0.586209</td>\n",
       "      <td>1</td>\n",
       "      <td>11.33</td>\n",
       "      <td>1</td>\n",
       "      <td>1</td>\n",
       "      <td>...</td>\n",
       "      <td>1</td>\n",
       "      <td>0</td>\n",
       "      <td>1</td>\n",
       "      <td>0</td>\n",
       "      <td>0</td>\n",
       "      <td>1</td>\n",
       "      <td>0</td>\n",
       "      <td>0</td>\n",
       "      <td>0</td>\n",
       "      <td>1</td>\n",
       "    </tr>\n",
       "    <tr>\n",
       "      <th>3</th>\n",
       "      <td>4598-XLKNJ</td>\n",
       "      <td>1</td>\n",
       "      <td>0.791766</td>\n",
       "      <td>1</td>\n",
       "      <td>-0.317162</td>\n",
       "      <td>-0.300984</td>\n",
       "      <td>1</td>\n",
       "      <td>19.76</td>\n",
       "      <td>0</td>\n",
       "      <td>1</td>\n",
       "      <td>...</td>\n",
       "      <td>0</td>\n",
       "      <td>0</td>\n",
       "      <td>1</td>\n",
       "      <td>0</td>\n",
       "      <td>0</td>\n",
       "      <td>1</td>\n",
       "      <td>0</td>\n",
       "      <td>0</td>\n",
       "      <td>0</td>\n",
       "      <td>1</td>\n",
       "    </tr>\n",
       "    <tr>\n",
       "      <th>4</th>\n",
       "      <td>4846-WHAFZ</td>\n",
       "      <td>1</td>\n",
       "      <td>-1.358595</td>\n",
       "      <td>1</td>\n",
       "      <td>-0.317162</td>\n",
       "      <td>0.187973</td>\n",
       "      <td>1</td>\n",
       "      <td>6.33</td>\n",
       "      <td>1</td>\n",
       "      <td>1</td>\n",
       "      <td>...</td>\n",
       "      <td>0</td>\n",
       "      <td>0</td>\n",
       "      <td>1</td>\n",
       "      <td>0</td>\n",
       "      <td>0</td>\n",
       "      <td>1</td>\n",
       "      <td>0</td>\n",
       "      <td>0</td>\n",
       "      <td>1</td>\n",
       "      <td>0</td>\n",
       "    </tr>\n",
       "  </tbody>\n",
       "</table>\n",
       "<p>5 rows × 64 columns</p>\n",
       "</div>"
      ],
      "text/plain": [
       "  Customer ID  Churn Label      CLTV  Referred a Friend  Number of Referrals  \\\n",
       "0  8779-QRDMV            1  0.872912                  0            -0.650362   \n",
       "1  7495-OOKFY            1  0.762181                  1            -0.317162   \n",
       "2  1658-BYGOY            1 -1.032322                  0            -0.650362   \n",
       "3  4598-XLKNJ            1  0.791766                  1            -0.317162   \n",
       "4  4846-WHAFZ            1 -1.358595                  1            -0.317162   \n",
       "\n",
       "   Tenure in Months  Phone Service  Avg Monthly Long Distance Charges  \\\n",
       "0         -1.278897              0                               0.00   \n",
       "1         -0.993672              1                              48.85   \n",
       "2         -0.586209              1                              11.33   \n",
       "3         -0.300984              1                              19.76   \n",
       "4          0.187973              1                               6.33   \n",
       "\n",
       "   Multiple Lines  Internet Service  ...  Offer_Offer D  Offer_Offer E  \\\n",
       "0               0                 1  ...              0              0   \n",
       "1               1                 1  ...              0              1   \n",
       "2               1                 1  ...              1              0   \n",
       "3               0                 1  ...              0              0   \n",
       "4               1                 1  ...              0              0   \n",
       "\n",
       "   Contract_Month-to-Month  Contract_One Year  Contract_Two Year  \\\n",
       "0                        1                  0                  0   \n",
       "1                        1                  0                  0   \n",
       "2                        1                  0                  0   \n",
       "3                        1                  0                  0   \n",
       "4                        1                  0                  0   \n",
       "\n",
       "   Payment Method_Bank Withdrawal  Payment Method_Credit Card  \\\n",
       "0                               1                           0   \n",
       "1                               0                           1   \n",
       "2                               1                           0   \n",
       "3                               1                           0   \n",
       "4                               1                           0   \n",
       "\n",
       "   Payment Method_Mailed Check  refundBinned_No Refund  refundBinned_Refund  \n",
       "0                            0                       1                    0  \n",
       "1                            0                       1                    0  \n",
       "2                            0                       0                    1  \n",
       "3                            0                       0                    1  \n",
       "4                            0                       1                    0  \n",
       "\n",
       "[5 rows x 64 columns]"
      ]
     },
     "execution_count": 128,
     "metadata": {},
     "output_type": "execute_result"
    }
   ],
   "source": [
    "#df = df.apply(lambda x: object_to_int(x))\n",
    "df.head()"
   ]
  },
  {
   "cell_type": "code",
   "execution_count": 129,
   "metadata": {},
   "outputs": [
    {
     "data": {
      "text/html": [
       "<div>\n",
       "<style scoped>\n",
       "    .dataframe tbody tr th:only-of-type {\n",
       "        vertical-align: middle;\n",
       "    }\n",
       "\n",
       "    .dataframe tbody tr th {\n",
       "        vertical-align: top;\n",
       "    }\n",
       "\n",
       "    .dataframe thead th {\n",
       "        text-align: right;\n",
       "    }\n",
       "</style>\n",
       "<table border=\"1\" class=\"dataframe\">\n",
       "  <thead>\n",
       "    <tr style=\"text-align: right;\">\n",
       "      <th></th>\n",
       "      <th>0</th>\n",
       "      <th>1</th>\n",
       "      <th>2</th>\n",
       "      <th>3</th>\n",
       "      <th>4</th>\n",
       "    </tr>\n",
       "  </thead>\n",
       "  <tbody>\n",
       "    <tr>\n",
       "      <th>Customer ID</th>\n",
       "      <td>8779-QRDMV</td>\n",
       "      <td>7495-OOKFY</td>\n",
       "      <td>1658-BYGOY</td>\n",
       "      <td>4598-XLKNJ</td>\n",
       "      <td>4846-WHAFZ</td>\n",
       "    </tr>\n",
       "    <tr>\n",
       "      <th>Churn Label</th>\n",
       "      <td>1</td>\n",
       "      <td>1</td>\n",
       "      <td>1</td>\n",
       "      <td>1</td>\n",
       "      <td>1</td>\n",
       "    </tr>\n",
       "    <tr>\n",
       "      <th>CLTV</th>\n",
       "      <td>0.872912</td>\n",
       "      <td>0.762181</td>\n",
       "      <td>-1.03232</td>\n",
       "      <td>0.791766</td>\n",
       "      <td>-1.3586</td>\n",
       "    </tr>\n",
       "    <tr>\n",
       "      <th>Referred a Friend</th>\n",
       "      <td>0</td>\n",
       "      <td>1</td>\n",
       "      <td>0</td>\n",
       "      <td>1</td>\n",
       "      <td>1</td>\n",
       "    </tr>\n",
       "    <tr>\n",
       "      <th>Number of Referrals</th>\n",
       "      <td>-0.650362</td>\n",
       "      <td>-0.317162</td>\n",
       "      <td>-0.650362</td>\n",
       "      <td>-0.317162</td>\n",
       "      <td>-0.317162</td>\n",
       "    </tr>\n",
       "    <tr>\n",
       "      <th>...</th>\n",
       "      <td>...</td>\n",
       "      <td>...</td>\n",
       "      <td>...</td>\n",
       "      <td>...</td>\n",
       "      <td>...</td>\n",
       "    </tr>\n",
       "    <tr>\n",
       "      <th>Payment Method_Bank Withdrawal</th>\n",
       "      <td>1</td>\n",
       "      <td>0</td>\n",
       "      <td>1</td>\n",
       "      <td>1</td>\n",
       "      <td>1</td>\n",
       "    </tr>\n",
       "    <tr>\n",
       "      <th>Payment Method_Credit Card</th>\n",
       "      <td>0</td>\n",
       "      <td>1</td>\n",
       "      <td>0</td>\n",
       "      <td>0</td>\n",
       "      <td>0</td>\n",
       "    </tr>\n",
       "    <tr>\n",
       "      <th>Payment Method_Mailed Check</th>\n",
       "      <td>0</td>\n",
       "      <td>0</td>\n",
       "      <td>0</td>\n",
       "      <td>0</td>\n",
       "      <td>0</td>\n",
       "    </tr>\n",
       "    <tr>\n",
       "      <th>refundBinned_No Refund</th>\n",
       "      <td>1</td>\n",
       "      <td>1</td>\n",
       "      <td>0</td>\n",
       "      <td>0</td>\n",
       "      <td>1</td>\n",
       "    </tr>\n",
       "    <tr>\n",
       "      <th>refundBinned_Refund</th>\n",
       "      <td>0</td>\n",
       "      <td>0</td>\n",
       "      <td>1</td>\n",
       "      <td>1</td>\n",
       "      <td>0</td>\n",
       "    </tr>\n",
       "  </tbody>\n",
       "</table>\n",
       "<p>64 rows × 5 columns</p>\n",
       "</div>"
      ],
      "text/plain": [
       "                                         0           1           2  \\\n",
       "Customer ID                     8779-QRDMV  7495-OOKFY  1658-BYGOY   \n",
       "Churn Label                              1           1           1   \n",
       "CLTV                              0.872912    0.762181    -1.03232   \n",
       "Referred a Friend                        0           1           0   \n",
       "Number of Referrals              -0.650362   -0.317162   -0.650362   \n",
       "...                                    ...         ...         ...   \n",
       "Payment Method_Bank Withdrawal           1           0           1   \n",
       "Payment Method_Credit Card               0           1           0   \n",
       "Payment Method_Mailed Check              0           0           0   \n",
       "refundBinned_No Refund                   1           1           0   \n",
       "refundBinned_Refund                      0           0           1   \n",
       "\n",
       "                                         3           4  \n",
       "Customer ID                     4598-XLKNJ  4846-WHAFZ  \n",
       "Churn Label                              1           1  \n",
       "CLTV                              0.791766     -1.3586  \n",
       "Referred a Friend                        1           1  \n",
       "Number of Referrals              -0.317162   -0.317162  \n",
       "...                                    ...         ...  \n",
       "Payment Method_Bank Withdrawal           1           1  \n",
       "Payment Method_Credit Card               0           0  \n",
       "Payment Method_Mailed Check              0           0  \n",
       "refundBinned_No Refund                   0           1  \n",
       "refundBinned_Refund                      1           0  \n",
       "\n",
       "[64 rows x 5 columns]"
      ]
     },
     "execution_count": 129,
     "metadata": {},
     "output_type": "execute_result"
    }
   ],
   "source": [
    "df.head(5).T"
   ]
  },
  {
   "cell_type": "code",
   "execution_count": 130,
   "metadata": {},
   "outputs": [],
   "source": [
    "# def convert_binary(columns: list):\n",
    "#     for column in columns:\n",
    "#         df[column] = df[column].eq('Yes').mul(1)"
   ]
  },
  {
   "cell_type": "code",
   "execution_count": 131,
   "metadata": {},
   "outputs": [
    {
     "data": {
      "text/plain": [
       "Phone Service\n",
       "0     682\n",
       "1    6361\n",
       "Name: Customer ID, dtype: int64"
      ]
     },
     "execution_count": 131,
     "metadata": {},
     "output_type": "execute_result"
    }
   ],
   "source": [
    "df.groupby(\"Phone Service\")[\"Customer ID\"].nunique()"
   ]
  },
  {
   "cell_type": "code",
   "execution_count": 132,
   "metadata": {},
   "outputs": [],
   "source": [
    "# binary_columns = [\"Referred a Friend\", \"Churn Label\", \"Under 30\", \"Senior Citizen\", \"Married\", \"Dependents\", \"Phone Service\", \"Multiple Lines\"]\n",
    "# convert_binary(binary_columns)"
   ]
  },
  {
   "cell_type": "code",
   "execution_count": 133,
   "metadata": {
    "scrolled": true
   },
   "outputs": [
    {
     "data": {
      "text/html": [
       "<div>\n",
       "<style scoped>\n",
       "    .dataframe tbody tr th:only-of-type {\n",
       "        vertical-align: middle;\n",
       "    }\n",
       "\n",
       "    .dataframe tbody tr th {\n",
       "        vertical-align: top;\n",
       "    }\n",
       "\n",
       "    .dataframe thead th {\n",
       "        text-align: right;\n",
       "    }\n",
       "</style>\n",
       "<table border=\"1\" class=\"dataframe\">\n",
       "  <thead>\n",
       "    <tr style=\"text-align: right;\">\n",
       "      <th></th>\n",
       "      <th>0</th>\n",
       "      <th>1</th>\n",
       "      <th>2</th>\n",
       "      <th>3</th>\n",
       "      <th>4</th>\n",
       "    </tr>\n",
       "  </thead>\n",
       "  <tbody>\n",
       "    <tr>\n",
       "      <th>Customer ID</th>\n",
       "      <td>8779-QRDMV</td>\n",
       "      <td>7495-OOKFY</td>\n",
       "      <td>1658-BYGOY</td>\n",
       "      <td>4598-XLKNJ</td>\n",
       "      <td>4846-WHAFZ</td>\n",
       "    </tr>\n",
       "    <tr>\n",
       "      <th>Churn Label</th>\n",
       "      <td>1</td>\n",
       "      <td>1</td>\n",
       "      <td>1</td>\n",
       "      <td>1</td>\n",
       "      <td>1</td>\n",
       "    </tr>\n",
       "    <tr>\n",
       "      <th>CLTV</th>\n",
       "      <td>0.872912</td>\n",
       "      <td>0.762181</td>\n",
       "      <td>-1.03232</td>\n",
       "      <td>0.791766</td>\n",
       "      <td>-1.3586</td>\n",
       "    </tr>\n",
       "    <tr>\n",
       "      <th>Referred a Friend</th>\n",
       "      <td>0</td>\n",
       "      <td>1</td>\n",
       "      <td>0</td>\n",
       "      <td>1</td>\n",
       "      <td>1</td>\n",
       "    </tr>\n",
       "    <tr>\n",
       "      <th>Number of Referrals</th>\n",
       "      <td>-0.650362</td>\n",
       "      <td>-0.317162</td>\n",
       "      <td>-0.650362</td>\n",
       "      <td>-0.317162</td>\n",
       "      <td>-0.317162</td>\n",
       "    </tr>\n",
       "    <tr>\n",
       "      <th>...</th>\n",
       "      <td>...</td>\n",
       "      <td>...</td>\n",
       "      <td>...</td>\n",
       "      <td>...</td>\n",
       "      <td>...</td>\n",
       "    </tr>\n",
       "    <tr>\n",
       "      <th>Payment Method_Bank Withdrawal</th>\n",
       "      <td>1</td>\n",
       "      <td>0</td>\n",
       "      <td>1</td>\n",
       "      <td>1</td>\n",
       "      <td>1</td>\n",
       "    </tr>\n",
       "    <tr>\n",
       "      <th>Payment Method_Credit Card</th>\n",
       "      <td>0</td>\n",
       "      <td>1</td>\n",
       "      <td>0</td>\n",
       "      <td>0</td>\n",
       "      <td>0</td>\n",
       "    </tr>\n",
       "    <tr>\n",
       "      <th>Payment Method_Mailed Check</th>\n",
       "      <td>0</td>\n",
       "      <td>0</td>\n",
       "      <td>0</td>\n",
       "      <td>0</td>\n",
       "      <td>0</td>\n",
       "    </tr>\n",
       "    <tr>\n",
       "      <th>refundBinned_No Refund</th>\n",
       "      <td>1</td>\n",
       "      <td>1</td>\n",
       "      <td>0</td>\n",
       "      <td>0</td>\n",
       "      <td>1</td>\n",
       "    </tr>\n",
       "    <tr>\n",
       "      <th>refundBinned_Refund</th>\n",
       "      <td>0</td>\n",
       "      <td>0</td>\n",
       "      <td>1</td>\n",
       "      <td>1</td>\n",
       "      <td>0</td>\n",
       "    </tr>\n",
       "  </tbody>\n",
       "</table>\n",
       "<p>64 rows × 5 columns</p>\n",
       "</div>"
      ],
      "text/plain": [
       "                                         0           1           2  \\\n",
       "Customer ID                     8779-QRDMV  7495-OOKFY  1658-BYGOY   \n",
       "Churn Label                              1           1           1   \n",
       "CLTV                              0.872912    0.762181    -1.03232   \n",
       "Referred a Friend                        0           1           0   \n",
       "Number of Referrals              -0.650362   -0.317162   -0.650362   \n",
       "...                                    ...         ...         ...   \n",
       "Payment Method_Bank Withdrawal           1           0           1   \n",
       "Payment Method_Credit Card               0           1           0   \n",
       "Payment Method_Mailed Check              0           0           0   \n",
       "refundBinned_No Refund                   1           1           0   \n",
       "refundBinned_Refund                      0           0           1   \n",
       "\n",
       "                                         3           4  \n",
       "Customer ID                     4598-XLKNJ  4846-WHAFZ  \n",
       "Churn Label                              1           1  \n",
       "CLTV                              0.791766     -1.3586  \n",
       "Referred a Friend                        1           1  \n",
       "Number of Referrals              -0.317162   -0.317162  \n",
       "...                                    ...         ...  \n",
       "Payment Method_Bank Withdrawal           1           1  \n",
       "Payment Method_Credit Card               0           0  \n",
       "Payment Method_Mailed Check              0           0  \n",
       "refundBinned_No Refund                   0           1  \n",
       "refundBinned_Refund                      1           0  \n",
       "\n",
       "[64 rows x 5 columns]"
      ]
     },
     "execution_count": 133,
     "metadata": {},
     "output_type": "execute_result"
    }
   ],
   "source": [
    "df.head().T"
   ]
  },
  {
   "cell_type": "code",
   "execution_count": 134,
   "metadata": {},
   "outputs": [
    {
     "name": "stdout",
     "output_type": "stream",
     "text": [
      "<class 'pandas.core.frame.DataFrame'>\n",
      "RangeIndex: 7043 entries, 0 to 7042\n",
      "Data columns (total 64 columns):\n",
      " #   Column                             Non-Null Count  Dtype   \n",
      "---  ------                             --------------  -----   \n",
      " 0   Customer ID                        7043 non-null   object  \n",
      " 1   Churn Label                        7043 non-null   int32   \n",
      " 2   CLTV                               7043 non-null   float64 \n",
      " 3   Referred a Friend                  7043 non-null   int64   \n",
      " 4   Number of Referrals                7043 non-null   float64 \n",
      " 5   Tenure in Months                   7043 non-null   float64 \n",
      " 6   Phone Service                      7043 non-null   int64   \n",
      " 7   Avg Monthly Long Distance Charges  7043 non-null   float64 \n",
      " 8   Multiple Lines                     7043 non-null   int64   \n",
      " 9   Internet Service                   7043 non-null   int64   \n",
      " 10  Avg Monthly GB Download            7043 non-null   float64 \n",
      " 11  Online Security                    7043 non-null   int64   \n",
      " 12  Online Backup                      7043 non-null   int64   \n",
      " 13  Device Protection Plan             7043 non-null   int64   \n",
      " 14  Premium Tech Support               7043 non-null   int64   \n",
      " 15  Streaming TV                       7043 non-null   int64   \n",
      " 16  Streaming Movies                   7043 non-null   int64   \n",
      " 17  Streaming Music                    7043 non-null   int64   \n",
      " 18  Unlimited Data                     7043 non-null   int64   \n",
      " 19  Paperless Billing                  7043 non-null   int64   \n",
      " 20  Monthly Charge                     7043 non-null   float64 \n",
      " 21  Total Charges                      7043 non-null   float64 \n",
      " 22  Total Refunds                      7043 non-null   float64 \n",
      " 23  Total Extra Data Charges           7043 non-null   int64   \n",
      " 24  Total Long Distance Charges        7043 non-null   float64 \n",
      " 25  Total Revenue                      7043 non-null   float64 \n",
      " 26  City                               7043 non-null   object  \n",
      " 27  Zip Code                           7043 non-null   int64   \n",
      " 28  Latitude                           7043 non-null   float64 \n",
      " 29  Longitude                          7043 non-null   float64 \n",
      " 30  Gender                             7043 non-null   object  \n",
      " 31  Age                                7043 non-null   float64 \n",
      " 32  Under 30                           7043 non-null   int64   \n",
      " 33  Senior Citizen                     7043 non-null   int64   \n",
      " 34  Married                            7043 non-null   int64   \n",
      " 35  Dependents                         7043 non-null   int64   \n",
      " 36  Number of Dependents               7043 non-null   float64 \n",
      " 37  Population                         7043 non-null   float64 \n",
      " 38  ageBinned                          7043 non-null   category\n",
      " 39  cltvBinned                         7043 non-null   category\n",
      " 40  tenureBinned                       7043 non-null   category\n",
      " 41  cityEncoded                        7043 non-null   int32   \n",
      " 42  CityNormalized                     7043 non-null   float64 \n",
      " 43  CityEncodedSort                    7043 non-null   int64   \n",
      " 44  cityBinned                         7043 non-null   category\n",
      " 45  CityEncodedSortNormal              7043 non-null   float64 \n",
      " 46  Internet Type_Cable                7043 non-null   uint8   \n",
      " 47  Internet Type_DSL                  7043 non-null   uint8   \n",
      " 48  Internet Type_Fiber Optic          7043 non-null   uint8   \n",
      " 49  Internet Type_None                 7043 non-null   uint8   \n",
      " 50  Offer_None                         7043 non-null   uint8   \n",
      " 51  Offer_Offer A                      7043 non-null   uint8   \n",
      " 52  Offer_Offer B                      7043 non-null   uint8   \n",
      " 53  Offer_Offer C                      7043 non-null   uint8   \n",
      " 54  Offer_Offer D                      7043 non-null   uint8   \n",
      " 55  Offer_Offer E                      7043 non-null   uint8   \n",
      " 56  Contract_Month-to-Month            7043 non-null   uint8   \n",
      " 57  Contract_One Year                  7043 non-null   uint8   \n",
      " 58  Contract_Two Year                  7043 non-null   uint8   \n",
      " 59  Payment Method_Bank Withdrawal     7043 non-null   uint8   \n",
      " 60  Payment Method_Credit Card         7043 non-null   uint8   \n",
      " 61  Payment Method_Mailed Check        7043 non-null   uint8   \n",
      " 62  refundBinned_No Refund             7043 non-null   uint8   \n",
      " 63  refundBinned_Refund                7043 non-null   uint8   \n",
      "dtypes: category(4), float64(17), int32(2), int64(20), object(3), uint8(18)\n",
      "memory usage: 2.4+ MB\n"
     ]
    }
   ],
   "source": [
    "df.info()"
   ]
  },
  {
   "cell_type": "markdown",
   "metadata": {},
   "source": [
    "### Features dropping"
   ]
  },
  {
   "cell_type": "code",
   "execution_count": 135,
   "metadata": {},
   "outputs": [],
   "source": [
    "df.drop(columns = [\"Customer ID\", \"Phone Service\",\n",
    "    \"Avg Monthly Long Distance Charges\", \"Total Refunds\", \"City\", \"Zip Code\", \"Gender\",\n",
    "    \"ageBinned\", \"cltvBinned\", \"tenureBinned\", \"cityEncoded\", \"CityNormalized\",\n",
    "    \"CityEncodedSort\", \"cityBinned\", \"Total Extra Data Charges\", \"Offer_None\", \n",
    "    \"Offer_Offer C\", \"Offer_Offer D\", \"Internet Type_Cable\"], inplace = True, axis = 1)"
   ]
  },
  {
   "cell_type": "markdown",
   "metadata": {},
   "source": [
    "### Saving the new data\n",
    "\n",
    "We save the new data in a new file"
   ]
  },
  {
   "cell_type": "code",
   "execution_count": 136,
   "metadata": {
    "scrolled": false
   },
   "outputs": [
    {
     "data": {
      "text/html": [
       "<div>\n",
       "<style scoped>\n",
       "    .dataframe tbody tr th:only-of-type {\n",
       "        vertical-align: middle;\n",
       "    }\n",
       "\n",
       "    .dataframe tbody tr th {\n",
       "        vertical-align: top;\n",
       "    }\n",
       "\n",
       "    .dataframe thead th {\n",
       "        text-align: right;\n",
       "    }\n",
       "</style>\n",
       "<table border=\"1\" class=\"dataframe\">\n",
       "  <thead>\n",
       "    <tr style=\"text-align: right;\">\n",
       "      <th></th>\n",
       "      <th>0</th>\n",
       "      <th>1</th>\n",
       "      <th>2</th>\n",
       "      <th>3</th>\n",
       "      <th>4</th>\n",
       "    </tr>\n",
       "  </thead>\n",
       "  <tbody>\n",
       "    <tr>\n",
       "      <th>Churn Label</th>\n",
       "      <td>1.000000</td>\n",
       "      <td>1.000000</td>\n",
       "      <td>1.000000</td>\n",
       "      <td>1.000000</td>\n",
       "      <td>1.000000</td>\n",
       "    </tr>\n",
       "    <tr>\n",
       "      <th>CLTV</th>\n",
       "      <td>0.872912</td>\n",
       "      <td>0.762181</td>\n",
       "      <td>-1.032322</td>\n",
       "      <td>0.791766</td>\n",
       "      <td>-1.358595</td>\n",
       "    </tr>\n",
       "    <tr>\n",
       "      <th>Referred a Friend</th>\n",
       "      <td>0.000000</td>\n",
       "      <td>1.000000</td>\n",
       "      <td>0.000000</td>\n",
       "      <td>1.000000</td>\n",
       "      <td>1.000000</td>\n",
       "    </tr>\n",
       "    <tr>\n",
       "      <th>Number of Referrals</th>\n",
       "      <td>-0.650362</td>\n",
       "      <td>-0.317162</td>\n",
       "      <td>-0.650362</td>\n",
       "      <td>-0.317162</td>\n",
       "      <td>-0.317162</td>\n",
       "    </tr>\n",
       "    <tr>\n",
       "      <th>Tenure in Months</th>\n",
       "      <td>-1.278897</td>\n",
       "      <td>-0.993672</td>\n",
       "      <td>-0.586209</td>\n",
       "      <td>-0.300984</td>\n",
       "      <td>0.187973</td>\n",
       "    </tr>\n",
       "    <tr>\n",
       "      <th>Multiple Lines</th>\n",
       "      <td>0.000000</td>\n",
       "      <td>1.000000</td>\n",
       "      <td>1.000000</td>\n",
       "      <td>0.000000</td>\n",
       "      <td>1.000000</td>\n",
       "    </tr>\n",
       "    <tr>\n",
       "      <th>Internet Service</th>\n",
       "      <td>1.000000</td>\n",
       "      <td>1.000000</td>\n",
       "      <td>1.000000</td>\n",
       "      <td>1.000000</td>\n",
       "      <td>1.000000</td>\n",
       "    </tr>\n",
       "    <tr>\n",
       "      <th>Avg Monthly GB Download</th>\n",
       "      <td>-0.612931</td>\n",
       "      <td>-0.172164</td>\n",
       "      <td>1.541931</td>\n",
       "      <td>-0.417035</td>\n",
       "      <td>-0.319086</td>\n",
       "    </tr>\n",
       "    <tr>\n",
       "      <th>Online Security</th>\n",
       "      <td>0.000000</td>\n",
       "      <td>0.000000</td>\n",
       "      <td>0.000000</td>\n",
       "      <td>0.000000</td>\n",
       "      <td>0.000000</td>\n",
       "    </tr>\n",
       "    <tr>\n",
       "      <th>Online Backup</th>\n",
       "      <td>0.000000</td>\n",
       "      <td>1.000000</td>\n",
       "      <td>0.000000</td>\n",
       "      <td>1.000000</td>\n",
       "      <td>0.000000</td>\n",
       "    </tr>\n",
       "    <tr>\n",
       "      <th>Device Protection Plan</th>\n",
       "      <td>1.000000</td>\n",
       "      <td>0.000000</td>\n",
       "      <td>0.000000</td>\n",
       "      <td>1.000000</td>\n",
       "      <td>0.000000</td>\n",
       "    </tr>\n",
       "    <tr>\n",
       "      <th>Premium Tech Support</th>\n",
       "      <td>0.000000</td>\n",
       "      <td>0.000000</td>\n",
       "      <td>0.000000</td>\n",
       "      <td>0.000000</td>\n",
       "      <td>0.000000</td>\n",
       "    </tr>\n",
       "    <tr>\n",
       "      <th>Streaming TV</th>\n",
       "      <td>0.000000</td>\n",
       "      <td>0.000000</td>\n",
       "      <td>1.000000</td>\n",
       "      <td>1.000000</td>\n",
       "      <td>0.000000</td>\n",
       "    </tr>\n",
       "    <tr>\n",
       "      <th>Streaming Movies</th>\n",
       "      <td>1.000000</td>\n",
       "      <td>0.000000</td>\n",
       "      <td>1.000000</td>\n",
       "      <td>1.000000</td>\n",
       "      <td>0.000000</td>\n",
       "    </tr>\n",
       "    <tr>\n",
       "      <th>Streaming Music</th>\n",
       "      <td>0.000000</td>\n",
       "      <td>0.000000</td>\n",
       "      <td>1.000000</td>\n",
       "      <td>0.000000</td>\n",
       "      <td>0.000000</td>\n",
       "    </tr>\n",
       "    <tr>\n",
       "      <th>Unlimited Data</th>\n",
       "      <td>0.000000</td>\n",
       "      <td>1.000000</td>\n",
       "      <td>1.000000</td>\n",
       "      <td>1.000000</td>\n",
       "      <td>1.000000</td>\n",
       "    </tr>\n",
       "    <tr>\n",
       "      <th>Paperless Billing</th>\n",
       "      <td>1.000000</td>\n",
       "      <td>1.000000</td>\n",
       "      <td>1.000000</td>\n",
       "      <td>1.000000</td>\n",
       "      <td>1.000000</td>\n",
       "    </tr>\n",
       "    <tr>\n",
       "      <th>Monthly Charge</th>\n",
       "      <td>-0.834551</td>\n",
       "      <td>0.528025</td>\n",
       "      <td>1.019882</td>\n",
       "      <td>1.121245</td>\n",
       "      <td>0.390106</td>\n",
       "    </tr>\n",
       "    <tr>\n",
       "      <th>Total Charges</th>\n",
       "      <td>-0.988753</td>\n",
       "      <td>-0.726797</td>\n",
       "      <td>-0.232913</td>\n",
       "      <td>0.103308</td>\n",
       "      <td>0.259361</td>\n",
       "    </tr>\n",
       "    <tr>\n",
       "      <th>Total Long Distance Charges</th>\n",
       "      <td>-0.884770</td>\n",
       "      <td>-0.423191</td>\n",
       "      <td>-0.643894</td>\n",
       "      <td>-0.301301</td>\n",
       "      <td>-0.608142</td>\n",
       "    </tr>\n",
       "    <tr>\n",
       "      <th>Total Revenue</th>\n",
       "      <td>-1.038226</td>\n",
       "      <td>-0.701618</td>\n",
       "      <td>-0.392118</td>\n",
       "      <td>-0.013719</td>\n",
       "      <td>0.023726</td>\n",
       "    </tr>\n",
       "    <tr>\n",
       "      <th>Latitude</th>\n",
       "      <td>-0.880400</td>\n",
       "      <td>-0.872113</td>\n",
       "      <td>-0.845963</td>\n",
       "      <td>-0.915848</td>\n",
       "      <td>-0.901337</td>\n",
       "    </tr>\n",
       "    <tr>\n",
       "      <th>Longitude</th>\n",
       "      <td>0.742705</td>\n",
       "      <td>0.729404</td>\n",
       "      <td>0.708759</td>\n",
       "      <td>0.660986</td>\n",
       "      <td>0.806013</td>\n",
       "    </tr>\n",
       "    <tr>\n",
       "      <th>Age</th>\n",
       "      <td>1.879977</td>\n",
       "      <td>1.641176</td>\n",
       "      <td>1.462075</td>\n",
       "      <td>1.879977</td>\n",
       "      <td>1.999377</td>\n",
       "    </tr>\n",
       "    <tr>\n",
       "      <th>Under 30</th>\n",
       "      <td>0.000000</td>\n",
       "      <td>0.000000</td>\n",
       "      <td>0.000000</td>\n",
       "      <td>0.000000</td>\n",
       "      <td>0.000000</td>\n",
       "    </tr>\n",
       "    <tr>\n",
       "      <th>Senior Citizen</th>\n",
       "      <td>1.000000</td>\n",
       "      <td>1.000000</td>\n",
       "      <td>1.000000</td>\n",
       "      <td>1.000000</td>\n",
       "      <td>1.000000</td>\n",
       "    </tr>\n",
       "    <tr>\n",
       "      <th>Married</th>\n",
       "      <td>0.000000</td>\n",
       "      <td>1.000000</td>\n",
       "      <td>0.000000</td>\n",
       "      <td>1.000000</td>\n",
       "      <td>1.000000</td>\n",
       "    </tr>\n",
       "    <tr>\n",
       "      <th>Dependents</th>\n",
       "      <td>0.000000</td>\n",
       "      <td>1.000000</td>\n",
       "      <td>1.000000</td>\n",
       "      <td>1.000000</td>\n",
       "      <td>1.000000</td>\n",
       "    </tr>\n",
       "    <tr>\n",
       "      <th>Number of Dependents</th>\n",
       "      <td>-0.486800</td>\n",
       "      <td>0.551835</td>\n",
       "      <td>2.629105</td>\n",
       "      <td>0.551835</td>\n",
       "      <td>0.551835</td>\n",
       "    </tr>\n",
       "    <tr>\n",
       "      <th>Population</th>\n",
       "      <td>2.201235</td>\n",
       "      <td>1.585088</td>\n",
       "      <td>1.200545</td>\n",
       "      <td>0.266561</td>\n",
       "      <td>0.195032</td>\n",
       "    </tr>\n",
       "    <tr>\n",
       "      <th>CityEncodedSortNormal</th>\n",
       "      <td>-1.011155</td>\n",
       "      <td>-1.011155</td>\n",
       "      <td>-1.011155</td>\n",
       "      <td>-0.940083</td>\n",
       "      <td>-0.962826</td>\n",
       "    </tr>\n",
       "    <tr>\n",
       "      <th>Internet Type_DSL</th>\n",
       "      <td>1.000000</td>\n",
       "      <td>0.000000</td>\n",
       "      <td>0.000000</td>\n",
       "      <td>0.000000</td>\n",
       "      <td>0.000000</td>\n",
       "    </tr>\n",
       "    <tr>\n",
       "      <th>Internet Type_Fiber Optic</th>\n",
       "      <td>0.000000</td>\n",
       "      <td>1.000000</td>\n",
       "      <td>1.000000</td>\n",
       "      <td>1.000000</td>\n",
       "      <td>1.000000</td>\n",
       "    </tr>\n",
       "    <tr>\n",
       "      <th>Internet Type_None</th>\n",
       "      <td>0.000000</td>\n",
       "      <td>0.000000</td>\n",
       "      <td>0.000000</td>\n",
       "      <td>0.000000</td>\n",
       "      <td>0.000000</td>\n",
       "    </tr>\n",
       "    <tr>\n",
       "      <th>Offer_Offer A</th>\n",
       "      <td>0.000000</td>\n",
       "      <td>0.000000</td>\n",
       "      <td>0.000000</td>\n",
       "      <td>0.000000</td>\n",
       "      <td>0.000000</td>\n",
       "    </tr>\n",
       "    <tr>\n",
       "      <th>Offer_Offer B</th>\n",
       "      <td>0.000000</td>\n",
       "      <td>0.000000</td>\n",
       "      <td>0.000000</td>\n",
       "      <td>0.000000</td>\n",
       "      <td>0.000000</td>\n",
       "    </tr>\n",
       "    <tr>\n",
       "      <th>Offer_Offer E</th>\n",
       "      <td>0.000000</td>\n",
       "      <td>1.000000</td>\n",
       "      <td>0.000000</td>\n",
       "      <td>0.000000</td>\n",
       "      <td>0.000000</td>\n",
       "    </tr>\n",
       "    <tr>\n",
       "      <th>Contract_Month-to-Month</th>\n",
       "      <td>1.000000</td>\n",
       "      <td>1.000000</td>\n",
       "      <td>1.000000</td>\n",
       "      <td>1.000000</td>\n",
       "      <td>1.000000</td>\n",
       "    </tr>\n",
       "    <tr>\n",
       "      <th>Contract_One Year</th>\n",
       "      <td>0.000000</td>\n",
       "      <td>0.000000</td>\n",
       "      <td>0.000000</td>\n",
       "      <td>0.000000</td>\n",
       "      <td>0.000000</td>\n",
       "    </tr>\n",
       "    <tr>\n",
       "      <th>Contract_Two Year</th>\n",
       "      <td>0.000000</td>\n",
       "      <td>0.000000</td>\n",
       "      <td>0.000000</td>\n",
       "      <td>0.000000</td>\n",
       "      <td>0.000000</td>\n",
       "    </tr>\n",
       "    <tr>\n",
       "      <th>Payment Method_Bank Withdrawal</th>\n",
       "      <td>1.000000</td>\n",
       "      <td>0.000000</td>\n",
       "      <td>1.000000</td>\n",
       "      <td>1.000000</td>\n",
       "      <td>1.000000</td>\n",
       "    </tr>\n",
       "    <tr>\n",
       "      <th>Payment Method_Credit Card</th>\n",
       "      <td>0.000000</td>\n",
       "      <td>1.000000</td>\n",
       "      <td>0.000000</td>\n",
       "      <td>0.000000</td>\n",
       "      <td>0.000000</td>\n",
       "    </tr>\n",
       "    <tr>\n",
       "      <th>Payment Method_Mailed Check</th>\n",
       "      <td>0.000000</td>\n",
       "      <td>0.000000</td>\n",
       "      <td>0.000000</td>\n",
       "      <td>0.000000</td>\n",
       "      <td>0.000000</td>\n",
       "    </tr>\n",
       "    <tr>\n",
       "      <th>refundBinned_No Refund</th>\n",
       "      <td>1.000000</td>\n",
       "      <td>1.000000</td>\n",
       "      <td>0.000000</td>\n",
       "      <td>0.000000</td>\n",
       "      <td>1.000000</td>\n",
       "    </tr>\n",
       "    <tr>\n",
       "      <th>refundBinned_Refund</th>\n",
       "      <td>0.000000</td>\n",
       "      <td>0.000000</td>\n",
       "      <td>1.000000</td>\n",
       "      <td>1.000000</td>\n",
       "      <td>0.000000</td>\n",
       "    </tr>\n",
       "  </tbody>\n",
       "</table>\n",
       "</div>"
      ],
      "text/plain": [
       "                                       0         1         2         3  \\\n",
       "Churn Label                     1.000000  1.000000  1.000000  1.000000   \n",
       "CLTV                            0.872912  0.762181 -1.032322  0.791766   \n",
       "Referred a Friend               0.000000  1.000000  0.000000  1.000000   \n",
       "Number of Referrals            -0.650362 -0.317162 -0.650362 -0.317162   \n",
       "Tenure in Months               -1.278897 -0.993672 -0.586209 -0.300984   \n",
       "Multiple Lines                  0.000000  1.000000  1.000000  0.000000   \n",
       "Internet Service                1.000000  1.000000  1.000000  1.000000   \n",
       "Avg Monthly GB Download        -0.612931 -0.172164  1.541931 -0.417035   \n",
       "Online Security                 0.000000  0.000000  0.000000  0.000000   \n",
       "Online Backup                   0.000000  1.000000  0.000000  1.000000   \n",
       "Device Protection Plan          1.000000  0.000000  0.000000  1.000000   \n",
       "Premium Tech Support            0.000000  0.000000  0.000000  0.000000   \n",
       "Streaming TV                    0.000000  0.000000  1.000000  1.000000   \n",
       "Streaming Movies                1.000000  0.000000  1.000000  1.000000   \n",
       "Streaming Music                 0.000000  0.000000  1.000000  0.000000   \n",
       "Unlimited Data                  0.000000  1.000000  1.000000  1.000000   \n",
       "Paperless Billing               1.000000  1.000000  1.000000  1.000000   \n",
       "Monthly Charge                 -0.834551  0.528025  1.019882  1.121245   \n",
       "Total Charges                  -0.988753 -0.726797 -0.232913  0.103308   \n",
       "Total Long Distance Charges    -0.884770 -0.423191 -0.643894 -0.301301   \n",
       "Total Revenue                  -1.038226 -0.701618 -0.392118 -0.013719   \n",
       "Latitude                       -0.880400 -0.872113 -0.845963 -0.915848   \n",
       "Longitude                       0.742705  0.729404  0.708759  0.660986   \n",
       "Age                             1.879977  1.641176  1.462075  1.879977   \n",
       "Under 30                        0.000000  0.000000  0.000000  0.000000   \n",
       "Senior Citizen                  1.000000  1.000000  1.000000  1.000000   \n",
       "Married                         0.000000  1.000000  0.000000  1.000000   \n",
       "Dependents                      0.000000  1.000000  1.000000  1.000000   \n",
       "Number of Dependents           -0.486800  0.551835  2.629105  0.551835   \n",
       "Population                      2.201235  1.585088  1.200545  0.266561   \n",
       "CityEncodedSortNormal          -1.011155 -1.011155 -1.011155 -0.940083   \n",
       "Internet Type_DSL               1.000000  0.000000  0.000000  0.000000   \n",
       "Internet Type_Fiber Optic       0.000000  1.000000  1.000000  1.000000   \n",
       "Internet Type_None              0.000000  0.000000  0.000000  0.000000   \n",
       "Offer_Offer A                   0.000000  0.000000  0.000000  0.000000   \n",
       "Offer_Offer B                   0.000000  0.000000  0.000000  0.000000   \n",
       "Offer_Offer E                   0.000000  1.000000  0.000000  0.000000   \n",
       "Contract_Month-to-Month         1.000000  1.000000  1.000000  1.000000   \n",
       "Contract_One Year               0.000000  0.000000  0.000000  0.000000   \n",
       "Contract_Two Year               0.000000  0.000000  0.000000  0.000000   \n",
       "Payment Method_Bank Withdrawal  1.000000  0.000000  1.000000  1.000000   \n",
       "Payment Method_Credit Card      0.000000  1.000000  0.000000  0.000000   \n",
       "Payment Method_Mailed Check     0.000000  0.000000  0.000000  0.000000   \n",
       "refundBinned_No Refund          1.000000  1.000000  0.000000  0.000000   \n",
       "refundBinned_Refund             0.000000  0.000000  1.000000  1.000000   \n",
       "\n",
       "                                       4  \n",
       "Churn Label                     1.000000  \n",
       "CLTV                           -1.358595  \n",
       "Referred a Friend               1.000000  \n",
       "Number of Referrals            -0.317162  \n",
       "Tenure in Months                0.187973  \n",
       "Multiple Lines                  1.000000  \n",
       "Internet Service                1.000000  \n",
       "Avg Monthly GB Download        -0.319086  \n",
       "Online Security                 0.000000  \n",
       "Online Backup                   0.000000  \n",
       "Device Protection Plan          0.000000  \n",
       "Premium Tech Support            0.000000  \n",
       "Streaming TV                    0.000000  \n",
       "Streaming Movies                0.000000  \n",
       "Streaming Music                 0.000000  \n",
       "Unlimited Data                  1.000000  \n",
       "Paperless Billing               1.000000  \n",
       "Monthly Charge                  0.390106  \n",
       "Total Charges                   0.259361  \n",
       "Total Long Distance Charges    -0.608142  \n",
       "Total Revenue                   0.023726  \n",
       "Latitude                       -0.901337  \n",
       "Longitude                       0.806013  \n",
       "Age                             1.999377  \n",
       "Under 30                        0.000000  \n",
       "Senior Citizen                  1.000000  \n",
       "Married                         1.000000  \n",
       "Dependents                      1.000000  \n",
       "Number of Dependents            0.551835  \n",
       "Population                      0.195032  \n",
       "CityEncodedSortNormal          -0.962826  \n",
       "Internet Type_DSL               0.000000  \n",
       "Internet Type_Fiber Optic       1.000000  \n",
       "Internet Type_None              0.000000  \n",
       "Offer_Offer A                   0.000000  \n",
       "Offer_Offer B                   0.000000  \n",
       "Offer_Offer E                   0.000000  \n",
       "Contract_Month-to-Month         1.000000  \n",
       "Contract_One Year               0.000000  \n",
       "Contract_Two Year               0.000000  \n",
       "Payment Method_Bank Withdrawal  1.000000  \n",
       "Payment Method_Credit Card      0.000000  \n",
       "Payment Method_Mailed Check     0.000000  \n",
       "refundBinned_No Refund          1.000000  \n",
       "refundBinned_Refund             0.000000  "
      ]
     },
     "execution_count": 136,
     "metadata": {},
     "output_type": "execute_result"
    }
   ],
   "source": [
    "df.head().T"
   ]
  },
  {
   "cell_type": "code",
   "execution_count": 137,
   "metadata": {},
   "outputs": [],
   "source": [
    "save_file = \"Telco_data_clean.csv\"\n",
    "\n",
    "save_path = DATA_PATH + save_file\n",
    "\n",
    "df.to_csv(save_path)"
   ]
  },
  {
   "cell_type": "code",
   "execution_count": null,
   "metadata": {},
   "outputs": [],
   "source": []
  }
 ],
 "metadata": {
  "kernelspec": {
   "display_name": "Python 3",
   "language": "python",
   "name": "python3"
  },
  "language_info": {
   "codemirror_mode": {
    "name": "ipython",
    "version": 3
   },
   "file_extension": ".py",
   "mimetype": "text/x-python",
   "name": "python",
   "nbconvert_exporter": "python",
   "pygments_lexer": "ipython3",
   "version": "3.7.9"
  }
 },
 "nbformat": 4,
 "nbformat_minor": 4
}
