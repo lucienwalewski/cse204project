{
 "cells": [
  {
   "cell_type": "markdown",
   "metadata": {},
   "source": [
    "## Deep Learning Prediction"
   ]
  },
  {
   "cell_type": "markdown",
   "metadata": {},
   "source": [
    "### Library imports"
   ]
  },
  {
   "cell_type": "code",
   "execution_count": 1,
   "metadata": {},
   "outputs": [],
   "source": [
    "import numpy as np\n",
    "import pandas as pd\n",
    "\n",
    "import tensorflow as tf\n",
    "\n",
    "from tensorflow import feature_column\n",
    "from tensorflow.keras import layers\n",
    "from sklearn.model_selection import train_test_split\n",
    "import matplotlib.pyplot as plt\n",
    "%matplotlib inline"
   ]
  },
  {
   "cell_type": "markdown",
   "metadata": {},
   "source": [
    "### Data import"
   ]
  },
  {
   "cell_type": "code",
   "execution_count": 2,
   "metadata": {},
   "outputs": [],
   "source": [
    "DATA_PATH = \"../data/\"\n",
    "\n",
    "path = DATA_PATH + \"Telco_data_neural.csv\""
   ]
  },
  {
   "cell_type": "code",
   "execution_count": 3,
   "metadata": {},
   "outputs": [],
   "source": [
    "df = pd.read_csv(path)"
   ]
  },
  {
   "cell_type": "markdown",
   "metadata": {},
   "source": [
    "### Drop unused variables"
   ]
  },
  {
   "cell_type": "code",
   "execution_count": 4,
   "metadata": {},
   "outputs": [],
   "source": [
    "df.drop(['Unnamed: 0'], axis=1, inplace=True)"
   ]
  },
  {
   "cell_type": "markdown",
   "metadata": {},
   "source": [
    "### Fix Column names"
   ]
  },
  {
   "cell_type": "code",
   "execution_count": 5,
   "metadata": {},
   "outputs": [],
   "source": [
    "df.columns = df.columns.str.replace(' ','_')"
   ]
  },
  {
   "cell_type": "code",
   "execution_count": 6,
   "metadata": {},
   "outputs": [
    {
     "data": {
      "text/html": [
       "<div>\n",
       "<style scoped>\n",
       "    .dataframe tbody tr th:only-of-type {\n",
       "        vertical-align: middle;\n",
       "    }\n",
       "\n",
       "    .dataframe tbody tr th {\n",
       "        vertical-align: top;\n",
       "    }\n",
       "\n",
       "    .dataframe thead th {\n",
       "        text-align: right;\n",
       "    }\n",
       "</style>\n",
       "<table border=\"1\" class=\"dataframe\">\n",
       "  <thead>\n",
       "    <tr style=\"text-align: right;\">\n",
       "      <th></th>\n",
       "      <th>0</th>\n",
       "      <th>1</th>\n",
       "      <th>2</th>\n",
       "      <th>3</th>\n",
       "      <th>4</th>\n",
       "    </tr>\n",
       "  </thead>\n",
       "  <tbody>\n",
       "    <tr>\n",
       "      <th>Churn_Label</th>\n",
       "      <td>1</td>\n",
       "      <td>1</td>\n",
       "      <td>1</td>\n",
       "      <td>1</td>\n",
       "      <td>1</td>\n",
       "    </tr>\n",
       "    <tr>\n",
       "      <th>CLTV</th>\n",
       "      <td>0.872912</td>\n",
       "      <td>0.762181</td>\n",
       "      <td>-1.032322</td>\n",
       "      <td>0.791766</td>\n",
       "      <td>-1.358595</td>\n",
       "    </tr>\n",
       "    <tr>\n",
       "      <th>Referred_a_Friend</th>\n",
       "      <td>No</td>\n",
       "      <td>Yes</td>\n",
       "      <td>No</td>\n",
       "      <td>Yes</td>\n",
       "      <td>Yes</td>\n",
       "    </tr>\n",
       "    <tr>\n",
       "      <th>Number_of_Referrals</th>\n",
       "      <td>-0.650362</td>\n",
       "      <td>-0.317162</td>\n",
       "      <td>-0.650362</td>\n",
       "      <td>-0.317162</td>\n",
       "      <td>-0.317162</td>\n",
       "    </tr>\n",
       "    <tr>\n",
       "      <th>Tenure_in_Months</th>\n",
       "      <td>-1.278897</td>\n",
       "      <td>-0.993672</td>\n",
       "      <td>-0.586209</td>\n",
       "      <td>-0.300984</td>\n",
       "      <td>0.187973</td>\n",
       "    </tr>\n",
       "    <tr>\n",
       "      <th>Offer</th>\n",
       "      <td>None</td>\n",
       "      <td>Offer E</td>\n",
       "      <td>Offer D</td>\n",
       "      <td>Offer C</td>\n",
       "      <td>Offer C</td>\n",
       "    </tr>\n",
       "    <tr>\n",
       "      <th>Phone_Service</th>\n",
       "      <td>No</td>\n",
       "      <td>Yes</td>\n",
       "      <td>Yes</td>\n",
       "      <td>Yes</td>\n",
       "      <td>Yes</td>\n",
       "    </tr>\n",
       "    <tr>\n",
       "      <th>Avg_Monthly_Long_Distance_Charges</th>\n",
       "      <td>0.0</td>\n",
       "      <td>48.85</td>\n",
       "      <td>11.33</td>\n",
       "      <td>19.76</td>\n",
       "      <td>6.33</td>\n",
       "    </tr>\n",
       "    <tr>\n",
       "      <th>Multiple_Lines</th>\n",
       "      <td>No</td>\n",
       "      <td>Yes</td>\n",
       "      <td>Yes</td>\n",
       "      <td>No</td>\n",
       "      <td>Yes</td>\n",
       "    </tr>\n",
       "    <tr>\n",
       "      <th>Internet_Service</th>\n",
       "      <td>Yes</td>\n",
       "      <td>Yes</td>\n",
       "      <td>Yes</td>\n",
       "      <td>Yes</td>\n",
       "      <td>Yes</td>\n",
       "    </tr>\n",
       "    <tr>\n",
       "      <th>Internet_Type</th>\n",
       "      <td>DSL</td>\n",
       "      <td>Fiber Optic</td>\n",
       "      <td>Fiber Optic</td>\n",
       "      <td>Fiber Optic</td>\n",
       "      <td>Fiber Optic</td>\n",
       "    </tr>\n",
       "    <tr>\n",
       "      <th>Avg_Monthly_GB_Download</th>\n",
       "      <td>-0.612931</td>\n",
       "      <td>-0.172164</td>\n",
       "      <td>1.541931</td>\n",
       "      <td>-0.417035</td>\n",
       "      <td>-0.319086</td>\n",
       "    </tr>\n",
       "    <tr>\n",
       "      <th>Online_Security</th>\n",
       "      <td>No</td>\n",
       "      <td>No</td>\n",
       "      <td>No</td>\n",
       "      <td>No</td>\n",
       "      <td>No</td>\n",
       "    </tr>\n",
       "    <tr>\n",
       "      <th>Online_Backup</th>\n",
       "      <td>No</td>\n",
       "      <td>Yes</td>\n",
       "      <td>No</td>\n",
       "      <td>Yes</td>\n",
       "      <td>No</td>\n",
       "    </tr>\n",
       "    <tr>\n",
       "      <th>Device_Protection_Plan</th>\n",
       "      <td>Yes</td>\n",
       "      <td>No</td>\n",
       "      <td>No</td>\n",
       "      <td>Yes</td>\n",
       "      <td>No</td>\n",
       "    </tr>\n",
       "    <tr>\n",
       "      <th>Premium_Tech_Support</th>\n",
       "      <td>No</td>\n",
       "      <td>No</td>\n",
       "      <td>No</td>\n",
       "      <td>No</td>\n",
       "      <td>No</td>\n",
       "    </tr>\n",
       "    <tr>\n",
       "      <th>Streaming_TV</th>\n",
       "      <td>No</td>\n",
       "      <td>No</td>\n",
       "      <td>Yes</td>\n",
       "      <td>Yes</td>\n",
       "      <td>No</td>\n",
       "    </tr>\n",
       "    <tr>\n",
       "      <th>Streaming_Movies</th>\n",
       "      <td>Yes</td>\n",
       "      <td>No</td>\n",
       "      <td>Yes</td>\n",
       "      <td>Yes</td>\n",
       "      <td>No</td>\n",
       "    </tr>\n",
       "    <tr>\n",
       "      <th>Streaming_Music</th>\n",
       "      <td>No</td>\n",
       "      <td>No</td>\n",
       "      <td>Yes</td>\n",
       "      <td>No</td>\n",
       "      <td>No</td>\n",
       "    </tr>\n",
       "    <tr>\n",
       "      <th>Unlimited_Data</th>\n",
       "      <td>No</td>\n",
       "      <td>Yes</td>\n",
       "      <td>Yes</td>\n",
       "      <td>Yes</td>\n",
       "      <td>Yes</td>\n",
       "    </tr>\n",
       "    <tr>\n",
       "      <th>Contract</th>\n",
       "      <td>Month-to-Month</td>\n",
       "      <td>Month-to-Month</td>\n",
       "      <td>Month-to-Month</td>\n",
       "      <td>Month-to-Month</td>\n",
       "      <td>Month-to-Month</td>\n",
       "    </tr>\n",
       "    <tr>\n",
       "      <th>Paperless_Billing</th>\n",
       "      <td>Yes</td>\n",
       "      <td>Yes</td>\n",
       "      <td>Yes</td>\n",
       "      <td>Yes</td>\n",
       "      <td>Yes</td>\n",
       "    </tr>\n",
       "    <tr>\n",
       "      <th>Payment_Method</th>\n",
       "      <td>Bank Withdrawal</td>\n",
       "      <td>Credit Card</td>\n",
       "      <td>Bank Withdrawal</td>\n",
       "      <td>Bank Withdrawal</td>\n",
       "      <td>Bank Withdrawal</td>\n",
       "    </tr>\n",
       "    <tr>\n",
       "      <th>Monthly_Charge</th>\n",
       "      <td>-0.834551</td>\n",
       "      <td>0.528025</td>\n",
       "      <td>1.019882</td>\n",
       "      <td>1.121245</td>\n",
       "      <td>0.390106</td>\n",
       "    </tr>\n",
       "    <tr>\n",
       "      <th>Total_Charges</th>\n",
       "      <td>-0.988753</td>\n",
       "      <td>-0.726797</td>\n",
       "      <td>-0.232913</td>\n",
       "      <td>0.103308</td>\n",
       "      <td>0.259361</td>\n",
       "    </tr>\n",
       "    <tr>\n",
       "      <th>Total_Refunds</th>\n",
       "      <td>0.0</td>\n",
       "      <td>0.0</td>\n",
       "      <td>45.61</td>\n",
       "      <td>13.43</td>\n",
       "      <td>0.0</td>\n",
       "    </tr>\n",
       "    <tr>\n",
       "      <th>Total_Extra_Data_Charges</th>\n",
       "      <td>20</td>\n",
       "      <td>0</td>\n",
       "      <td>0</td>\n",
       "      <td>0</td>\n",
       "      <td>0</td>\n",
       "    </tr>\n",
       "    <tr>\n",
       "      <th>Total_Long_Distance_Charges</th>\n",
       "      <td>-0.88477</td>\n",
       "      <td>-0.423191</td>\n",
       "      <td>-0.643894</td>\n",
       "      <td>-0.301301</td>\n",
       "      <td>-0.608142</td>\n",
       "    </tr>\n",
       "    <tr>\n",
       "      <th>Total_Revenue</th>\n",
       "      <td>-1.038226</td>\n",
       "      <td>-0.701618</td>\n",
       "      <td>-0.392118</td>\n",
       "      <td>-0.013719</td>\n",
       "      <td>0.023726</td>\n",
       "    </tr>\n",
       "    <tr>\n",
       "      <th>City</th>\n",
       "      <td>Los Angeles</td>\n",
       "      <td>Los Angeles</td>\n",
       "      <td>Los Angeles</td>\n",
       "      <td>Inglewood</td>\n",
       "      <td>Whittier</td>\n",
       "    </tr>\n",
       "    <tr>\n",
       "      <th>Zip_Code</th>\n",
       "      <td>90022</td>\n",
       "      <td>90063</td>\n",
       "      <td>90065</td>\n",
       "      <td>90303</td>\n",
       "      <td>90602</td>\n",
       "    </tr>\n",
       "    <tr>\n",
       "      <th>Latitude</th>\n",
       "      <td>-0.8804</td>\n",
       "      <td>-0.872113</td>\n",
       "      <td>-0.845963</td>\n",
       "      <td>-0.915848</td>\n",
       "      <td>-0.901337</td>\n",
       "    </tr>\n",
       "    <tr>\n",
       "      <th>Longitude</th>\n",
       "      <td>0.742705</td>\n",
       "      <td>0.729404</td>\n",
       "      <td>0.708759</td>\n",
       "      <td>0.660986</td>\n",
       "      <td>0.806013</td>\n",
       "    </tr>\n",
       "    <tr>\n",
       "      <th>Gender</th>\n",
       "      <td>Male</td>\n",
       "      <td>Female</td>\n",
       "      <td>Male</td>\n",
       "      <td>Female</td>\n",
       "      <td>Female</td>\n",
       "    </tr>\n",
       "    <tr>\n",
       "      <th>Age</th>\n",
       "      <td>1.879977</td>\n",
       "      <td>1.641176</td>\n",
       "      <td>1.462075</td>\n",
       "      <td>1.879977</td>\n",
       "      <td>1.999377</td>\n",
       "    </tr>\n",
       "    <tr>\n",
       "      <th>Under_30</th>\n",
       "      <td>No</td>\n",
       "      <td>No</td>\n",
       "      <td>No</td>\n",
       "      <td>No</td>\n",
       "      <td>No</td>\n",
       "    </tr>\n",
       "    <tr>\n",
       "      <th>Senior_Citizen</th>\n",
       "      <td>Yes</td>\n",
       "      <td>Yes</td>\n",
       "      <td>Yes</td>\n",
       "      <td>Yes</td>\n",
       "      <td>Yes</td>\n",
       "    </tr>\n",
       "    <tr>\n",
       "      <th>Married</th>\n",
       "      <td>No</td>\n",
       "      <td>Yes</td>\n",
       "      <td>No</td>\n",
       "      <td>Yes</td>\n",
       "      <td>Yes</td>\n",
       "    </tr>\n",
       "    <tr>\n",
       "      <th>Dependents</th>\n",
       "      <td>No</td>\n",
       "      <td>Yes</td>\n",
       "      <td>Yes</td>\n",
       "      <td>Yes</td>\n",
       "      <td>Yes</td>\n",
       "    </tr>\n",
       "    <tr>\n",
       "      <th>Number_of_Dependents</th>\n",
       "      <td>-0.4868</td>\n",
       "      <td>0.551835</td>\n",
       "      <td>2.629105</td>\n",
       "      <td>0.551835</td>\n",
       "      <td>0.551835</td>\n",
       "    </tr>\n",
       "    <tr>\n",
       "      <th>Population</th>\n",
       "      <td>2.201235</td>\n",
       "      <td>1.585088</td>\n",
       "      <td>1.200545</td>\n",
       "      <td>0.266561</td>\n",
       "      <td>0.195032</td>\n",
       "    </tr>\n",
       "  </tbody>\n",
       "</table>\n",
       "</div>"
      ],
      "text/plain": [
       "                                                 0               1  \\\n",
       "Churn_Label                                      1               1   \n",
       "CLTV                                      0.872912        0.762181   \n",
       "Referred_a_Friend                               No             Yes   \n",
       "Number_of_Referrals                      -0.650362       -0.317162   \n",
       "Tenure_in_Months                         -1.278897       -0.993672   \n",
       "Offer                                         None         Offer E   \n",
       "Phone_Service                                   No             Yes   \n",
       "Avg_Monthly_Long_Distance_Charges              0.0           48.85   \n",
       "Multiple_Lines                                  No             Yes   \n",
       "Internet_Service                               Yes             Yes   \n",
       "Internet_Type                                  DSL     Fiber Optic   \n",
       "Avg_Monthly_GB_Download                  -0.612931       -0.172164   \n",
       "Online_Security                                 No              No   \n",
       "Online_Backup                                   No             Yes   \n",
       "Device_Protection_Plan                         Yes              No   \n",
       "Premium_Tech_Support                            No              No   \n",
       "Streaming_TV                                    No              No   \n",
       "Streaming_Movies                               Yes              No   \n",
       "Streaming_Music                                 No              No   \n",
       "Unlimited_Data                                  No             Yes   \n",
       "Contract                            Month-to-Month  Month-to-Month   \n",
       "Paperless_Billing                              Yes             Yes   \n",
       "Payment_Method                     Bank Withdrawal     Credit Card   \n",
       "Monthly_Charge                           -0.834551        0.528025   \n",
       "Total_Charges                            -0.988753       -0.726797   \n",
       "Total_Refunds                                  0.0             0.0   \n",
       "Total_Extra_Data_Charges                        20               0   \n",
       "Total_Long_Distance_Charges               -0.88477       -0.423191   \n",
       "Total_Revenue                            -1.038226       -0.701618   \n",
       "City                                   Los Angeles     Los Angeles   \n",
       "Zip_Code                                     90022           90063   \n",
       "Latitude                                   -0.8804       -0.872113   \n",
       "Longitude                                 0.742705        0.729404   \n",
       "Gender                                        Male          Female   \n",
       "Age                                       1.879977        1.641176   \n",
       "Under_30                                        No              No   \n",
       "Senior_Citizen                                 Yes             Yes   \n",
       "Married                                         No             Yes   \n",
       "Dependents                                      No             Yes   \n",
       "Number_of_Dependents                       -0.4868        0.551835   \n",
       "Population                                2.201235        1.585088   \n",
       "\n",
       "                                                 2                3  \\\n",
       "Churn_Label                                      1                1   \n",
       "CLTV                                     -1.032322         0.791766   \n",
       "Referred_a_Friend                               No              Yes   \n",
       "Number_of_Referrals                      -0.650362        -0.317162   \n",
       "Tenure_in_Months                         -0.586209        -0.300984   \n",
       "Offer                                      Offer D          Offer C   \n",
       "Phone_Service                                  Yes              Yes   \n",
       "Avg_Monthly_Long_Distance_Charges            11.33            19.76   \n",
       "Multiple_Lines                                 Yes               No   \n",
       "Internet_Service                               Yes              Yes   \n",
       "Internet_Type                          Fiber Optic      Fiber Optic   \n",
       "Avg_Monthly_GB_Download                   1.541931        -0.417035   \n",
       "Online_Security                                 No               No   \n",
       "Online_Backup                                   No              Yes   \n",
       "Device_Protection_Plan                          No              Yes   \n",
       "Premium_Tech_Support                            No               No   \n",
       "Streaming_TV                                   Yes              Yes   \n",
       "Streaming_Movies                               Yes              Yes   \n",
       "Streaming_Music                                Yes               No   \n",
       "Unlimited_Data                                 Yes              Yes   \n",
       "Contract                            Month-to-Month   Month-to-Month   \n",
       "Paperless_Billing                              Yes              Yes   \n",
       "Payment_Method                     Bank Withdrawal  Bank Withdrawal   \n",
       "Monthly_Charge                            1.019882         1.121245   \n",
       "Total_Charges                            -0.232913         0.103308   \n",
       "Total_Refunds                                45.61            13.43   \n",
       "Total_Extra_Data_Charges                         0                0   \n",
       "Total_Long_Distance_Charges              -0.643894        -0.301301   \n",
       "Total_Revenue                            -0.392118        -0.013719   \n",
       "City                                   Los Angeles        Inglewood   \n",
       "Zip_Code                                     90065            90303   \n",
       "Latitude                                 -0.845963        -0.915848   \n",
       "Longitude                                 0.708759         0.660986   \n",
       "Gender                                        Male           Female   \n",
       "Age                                       1.462075         1.879977   \n",
       "Under_30                                        No               No   \n",
       "Senior_Citizen                                 Yes              Yes   \n",
       "Married                                         No              Yes   \n",
       "Dependents                                     Yes              Yes   \n",
       "Number_of_Dependents                      2.629105         0.551835   \n",
       "Population                                1.200545         0.266561   \n",
       "\n",
       "                                                 4  \n",
       "Churn_Label                                      1  \n",
       "CLTV                                     -1.358595  \n",
       "Referred_a_Friend                              Yes  \n",
       "Number_of_Referrals                      -0.317162  \n",
       "Tenure_in_Months                          0.187973  \n",
       "Offer                                      Offer C  \n",
       "Phone_Service                                  Yes  \n",
       "Avg_Monthly_Long_Distance_Charges             6.33  \n",
       "Multiple_Lines                                 Yes  \n",
       "Internet_Service                               Yes  \n",
       "Internet_Type                          Fiber Optic  \n",
       "Avg_Monthly_GB_Download                  -0.319086  \n",
       "Online_Security                                 No  \n",
       "Online_Backup                                   No  \n",
       "Device_Protection_Plan                          No  \n",
       "Premium_Tech_Support                            No  \n",
       "Streaming_TV                                    No  \n",
       "Streaming_Movies                                No  \n",
       "Streaming_Music                                 No  \n",
       "Unlimited_Data                                 Yes  \n",
       "Contract                            Month-to-Month  \n",
       "Paperless_Billing                              Yes  \n",
       "Payment_Method                     Bank Withdrawal  \n",
       "Monthly_Charge                            0.390106  \n",
       "Total_Charges                             0.259361  \n",
       "Total_Refunds                                  0.0  \n",
       "Total_Extra_Data_Charges                         0  \n",
       "Total_Long_Distance_Charges              -0.608142  \n",
       "Total_Revenue                             0.023726  \n",
       "City                                      Whittier  \n",
       "Zip_Code                                     90602  \n",
       "Latitude                                 -0.901337  \n",
       "Longitude                                 0.806013  \n",
       "Gender                                      Female  \n",
       "Age                                       1.999377  \n",
       "Under_30                                        No  \n",
       "Senior_Citizen                                 Yes  \n",
       "Married                                        Yes  \n",
       "Dependents                                     Yes  \n",
       "Number_of_Dependents                      0.551835  \n",
       "Population                                0.195032  "
      ]
     },
     "execution_count": 6,
     "metadata": {},
     "output_type": "execute_result"
    }
   ],
   "source": [
    "df.head().T"
   ]
  },
  {
   "cell_type": "markdown",
   "metadata": {},
   "source": [
    "### Split the dataframe into train, validation, and test"
   ]
  },
  {
   "cell_type": "code",
   "execution_count": 7,
   "metadata": {},
   "outputs": [
    {
     "name": "stdout",
     "output_type": "stream",
     "text": [
      "4507 train examples\n",
      "1127 validation examples\n",
      "1409 test examples\n"
     ]
    }
   ],
   "source": [
    "train, test = train_test_split(df, test_size=0.2, shuffle=True)\n",
    "train, val = train_test_split(train, test_size=0.2, shuffle=True)\n",
    "print(len(train), 'train examples')\n",
    "print(len(val), 'validation examples')\n",
    "print(len(test), 'test examples')"
   ]
  },
  {
   "cell_type": "markdown",
   "metadata": {},
   "source": [
    "### Creating an input pipeline"
   ]
  },
  {
   "cell_type": "code",
   "execution_count": 8,
   "metadata": {},
   "outputs": [],
   "source": [
    "# A utility method to create a tf.data dataset from a Pandas Dataframe\n",
    "def df_to_dataset(dataframe, target='Churn_Label', shuffle=True, batch_size=32):\n",
    "    dataframe = dataframe.copy()\n",
    "    labels = dataframe.pop(target)\n",
    "    ds = tf.data.Dataset.from_tensor_slices((dict(dataframe), labels))\n",
    "    if shuffle:\n",
    "        ds = ds.shuffle(buffer_size=len(dataframe))\n",
    "    ds = ds.batch(batch_size)\n",
    "    return ds"
   ]
  },
  {
   "cell_type": "code",
   "execution_count": 9,
   "metadata": {},
   "outputs": [],
   "source": [
    "batch_size = 5 # A small batch sized is used for demonstration purposes\n",
    "train_ds = df_to_dataset(train, batch_size=batch_size)\n",
    "val_ds = df_to_dataset(val, shuffle=False, batch_size=batch_size)\n",
    "test_ds = df_to_dataset(test, shuffle=False, batch_size=batch_size)"
   ]
  },
  {
   "cell_type": "markdown",
   "metadata": {},
   "source": [
    "### Understanding the input pipeline"
   ]
  },
  {
   "cell_type": "code",
   "execution_count": 10,
   "metadata": {},
   "outputs": [
    {
     "name": "stdout",
     "output_type": "stream",
     "text": [
      "Every feature: ['CLTV', 'Referred_a_Friend', 'Number_of_Referrals', 'Tenure_in_Months', 'Offer', 'Phone_Service', 'Avg_Monthly_Long_Distance_Charges', 'Multiple_Lines', 'Internet_Service', 'Internet_Type', 'Avg_Monthly_GB_Download', 'Online_Security', 'Online_Backup', 'Device_Protection_Plan', 'Premium_Tech_Support', 'Streaming_TV', 'Streaming_Movies', 'Streaming_Music', 'Unlimited_Data', 'Contract', 'Paperless_Billing', 'Payment_Method', 'Monthly_Charge', 'Total_Charges', 'Total_Refunds', 'Total_Extra_Data_Charges', 'Total_Long_Distance_Charges', 'Total_Revenue', 'City', 'Zip_Code', 'Latitude', 'Longitude', 'Gender', 'Age', 'Under_30', 'Senior_Citizen', 'Married', 'Dependents', 'Number_of_Dependents', 'Population']\n",
      "A batch of ages: tf.Tensor([-0.62743315 -0.80653387  0.50687139  1.22327426 -1.10503507], shape=(5,), dtype=float64)\n",
      "A batch of targets: tf.Tensor([0 0 0 0 0], shape=(5,), dtype=int64)\n"
     ]
    }
   ],
   "source": [
    "for feature_batch, label_batch in train_ds.take(1):\n",
    "  print('Every feature:', list(feature_batch.keys()))\n",
    "  print('A batch of ages:', feature_batch['Age'])\n",
    "  print('A batch of targets:', label_batch )"
   ]
  },
  {
   "cell_type": "markdown",
   "metadata": {},
   "source": [
    "### Example batch"
   ]
  },
  {
   "cell_type": "code",
   "execution_count": 11,
   "metadata": {},
   "outputs": [],
   "source": [
    "# We will use this batch to demonstrate several types of feature columns\n",
    "example_batch = next(iter(train_ds))[0]"
   ]
  },
  {
   "cell_type": "code",
   "execution_count": 12,
   "metadata": {},
   "outputs": [],
   "source": [
    "# A utility method to create a feature column\n",
    "# and to transform a batch of data\n",
    "def demo(feature_column):\n",
    "  feature_layer = layers.DenseFeatures(feature_column)\n",
    "  print(feature_layer(example_batch).numpy())\n"
   ]
  },
  {
   "cell_type": "code",
   "execution_count": 13,
   "metadata": {},
   "outputs": [
    {
     "name": "stdout",
     "output_type": "stream",
     "text": [
      "[[ 1.047882  ]\n",
      " [-1.2132092 ]\n",
      " [-1.0289408 ]\n",
      " [ 1.0233692 ]\n",
      " [-0.31299904]]\n"
     ]
    }
   ],
   "source": [
    "cltv = feature_column.numeric_column('CLTV')\n",
    "demo(cltv)"
   ]
  },
  {
   "cell_type": "markdown",
   "metadata": {},
   "source": [
    "### Creating feature columns"
   ]
  },
  {
   "cell_type": "code",
   "execution_count": 14,
   "metadata": {},
   "outputs": [],
   "source": [
    "feature_columns = []\n",
    "\n",
    "# numeric cols\n",
    "for header in ['CLTV', 'Number_of_Referrals', 'Tenure_in_Months', 'Avg_Monthly_Long_Distance_Charges',  'Avg_Monthly_GB_Download',\n",
    "              'Monthly_Charge', 'Total_Charges', 'Total_Refunds', 'Total_Extra_Data_Charges', 'Total_Long_Distance_Charges', 'Total_Revenue', \n",
    "              'Latitude', 'Longitude', 'Age', 'Number_of_Dependents', 'Population']:\n",
    "  feature_columns.append(feature_column.numeric_column(header))"
   ]
  },
  {
   "cell_type": "code",
   "execution_count": 15,
   "metadata": {},
   "outputs": [],
   "source": [
    "# # bucketized cols\n",
    "# age = feature_column.numeric_column('Age')\n",
    "# age_buckets = feature_column.bucketized_column(age, boundaries=[1, 2, 3, 4, 5])\n",
    "# feature_columns.append(age_buckets)"
   ]
  },
  {
   "cell_type": "code",
   "execution_count": 16,
   "metadata": {},
   "outputs": [],
   "source": [
    "# indicator_columns\n",
    "indicator_column_names = ['Referred_a_Friend', 'Offer', 'Phone_Service', 'Multiple_Lines', 'Internet_Service', 'Internet_Type', \n",
    "                         'Online_Security', 'Online_Backup', 'Device_Protection_Plan', 'Premium_Tech_Support', 'Streaming_TV', \n",
    "                         'Streaming_Movies', 'Streaming_Music', 'Unlimited_Data', 'Contract', 'Paperless_Billing', \n",
    "                         'Payment_Method', 'Gender', 'Under_30', 'Senior_Citizen', 'Married', 'Dependents']\n",
    "for col_name in indicator_column_names:\n",
    "      categorical_column = feature_column.categorical_column_with_vocabulary_list(\n",
    "            col_name, df[col_name].unique())\n",
    "      indicator_column = feature_column.indicator_column(categorical_column)\n",
    "      feature_columns.append(indicator_column)"
   ]
  },
  {
   "cell_type": "code",
   "execution_count": 17,
   "metadata": {},
   "outputs": [],
   "source": [
    "# embedding columns\n",
    "# embedding_column_names = ['City', 'Zip_Code']\n",
    "# for col_name in embedding_column_names:\n",
    "#     embedding_column = feature_column.categorical_column_with_vocabulary_list(\n",
    "#         col_name, df[col_name].unique())\n",
    "#     col_name_embedding = feature_column.embedding_column(col_name, dimension=8)\n",
    "#     feature_columns.append(col_name_embedding)\n",
    "    \n",
    "# breed1 = feature_column.categorical_column_with_vocabulary_list(\n",
    "#       'Breed1', dataframe.Breed1.unique())\n",
    "# breed1_embedding = feature_column.embedding_column(breed1, dimension=8)\n",
    "# feature_columns.append(breed1_embedding)"
   ]
  },
  {
   "cell_type": "markdown",
   "metadata": {},
   "source": [
    "### Create a feature layer"
   ]
  },
  {
   "cell_type": "code",
   "execution_count": 18,
   "metadata": {},
   "outputs": [
    {
     "data": {
      "text/plain": [
       "[NumericColumn(key='CLTV', shape=(1,), default_value=None, dtype=tf.float32, normalizer_fn=None),\n",
       " NumericColumn(key='Number_of_Referrals', shape=(1,), default_value=None, dtype=tf.float32, normalizer_fn=None),\n",
       " NumericColumn(key='Tenure_in_Months', shape=(1,), default_value=None, dtype=tf.float32, normalizer_fn=None),\n",
       " NumericColumn(key='Avg_Monthly_Long_Distance_Charges', shape=(1,), default_value=None, dtype=tf.float32, normalizer_fn=None),\n",
       " NumericColumn(key='Avg_Monthly_GB_Download', shape=(1,), default_value=None, dtype=tf.float32, normalizer_fn=None),\n",
       " NumericColumn(key='Monthly_Charge', shape=(1,), default_value=None, dtype=tf.float32, normalizer_fn=None),\n",
       " NumericColumn(key='Total_Charges', shape=(1,), default_value=None, dtype=tf.float32, normalizer_fn=None),\n",
       " NumericColumn(key='Total_Refunds', shape=(1,), default_value=None, dtype=tf.float32, normalizer_fn=None),\n",
       " NumericColumn(key='Total_Extra_Data_Charges', shape=(1,), default_value=None, dtype=tf.float32, normalizer_fn=None),\n",
       " NumericColumn(key='Total_Long_Distance_Charges', shape=(1,), default_value=None, dtype=tf.float32, normalizer_fn=None),\n",
       " NumericColumn(key='Total_Revenue', shape=(1,), default_value=None, dtype=tf.float32, normalizer_fn=None),\n",
       " NumericColumn(key='Latitude', shape=(1,), default_value=None, dtype=tf.float32, normalizer_fn=None),\n",
       " NumericColumn(key='Longitude', shape=(1,), default_value=None, dtype=tf.float32, normalizer_fn=None),\n",
       " NumericColumn(key='Age', shape=(1,), default_value=None, dtype=tf.float32, normalizer_fn=None),\n",
       " NumericColumn(key='Number_of_Dependents', shape=(1,), default_value=None, dtype=tf.float32, normalizer_fn=None),\n",
       " NumericColumn(key='Population', shape=(1,), default_value=None, dtype=tf.float32, normalizer_fn=None),\n",
       " IndicatorColumn(categorical_column=VocabularyListCategoricalColumn(key='Referred_a_Friend', vocabulary_list=('No', 'Yes'), dtype=tf.string, default_value=-1, num_oov_buckets=0)),\n",
       " IndicatorColumn(categorical_column=VocabularyListCategoricalColumn(key='Offer', vocabulary_list=('None', 'Offer E', 'Offer D', 'Offer C', 'Offer B', 'Offer A'), dtype=tf.string, default_value=-1, num_oov_buckets=0)),\n",
       " IndicatorColumn(categorical_column=VocabularyListCategoricalColumn(key='Phone_Service', vocabulary_list=('No', 'Yes'), dtype=tf.string, default_value=-1, num_oov_buckets=0)),\n",
       " IndicatorColumn(categorical_column=VocabularyListCategoricalColumn(key='Multiple_Lines', vocabulary_list=('No', 'Yes'), dtype=tf.string, default_value=-1, num_oov_buckets=0)),\n",
       " IndicatorColumn(categorical_column=VocabularyListCategoricalColumn(key='Internet_Service', vocabulary_list=('Yes', 'No'), dtype=tf.string, default_value=-1, num_oov_buckets=0)),\n",
       " IndicatorColumn(categorical_column=VocabularyListCategoricalColumn(key='Internet_Type', vocabulary_list=('DSL', 'Fiber Optic', 'Cable', 'None'), dtype=tf.string, default_value=-1, num_oov_buckets=0)),\n",
       " IndicatorColumn(categorical_column=VocabularyListCategoricalColumn(key='Online_Security', vocabulary_list=('No', 'Yes'), dtype=tf.string, default_value=-1, num_oov_buckets=0)),\n",
       " IndicatorColumn(categorical_column=VocabularyListCategoricalColumn(key='Online_Backup', vocabulary_list=('No', 'Yes'), dtype=tf.string, default_value=-1, num_oov_buckets=0)),\n",
       " IndicatorColumn(categorical_column=VocabularyListCategoricalColumn(key='Device_Protection_Plan', vocabulary_list=('Yes', 'No'), dtype=tf.string, default_value=-1, num_oov_buckets=0)),\n",
       " IndicatorColumn(categorical_column=VocabularyListCategoricalColumn(key='Premium_Tech_Support', vocabulary_list=('No', 'Yes'), dtype=tf.string, default_value=-1, num_oov_buckets=0)),\n",
       " IndicatorColumn(categorical_column=VocabularyListCategoricalColumn(key='Streaming_TV', vocabulary_list=('No', 'Yes'), dtype=tf.string, default_value=-1, num_oov_buckets=0)),\n",
       " IndicatorColumn(categorical_column=VocabularyListCategoricalColumn(key='Streaming_Movies', vocabulary_list=('Yes', 'No'), dtype=tf.string, default_value=-1, num_oov_buckets=0)),\n",
       " IndicatorColumn(categorical_column=VocabularyListCategoricalColumn(key='Streaming_Music', vocabulary_list=('No', 'Yes'), dtype=tf.string, default_value=-1, num_oov_buckets=0)),\n",
       " IndicatorColumn(categorical_column=VocabularyListCategoricalColumn(key='Unlimited_Data', vocabulary_list=('No', 'Yes'), dtype=tf.string, default_value=-1, num_oov_buckets=0)),\n",
       " IndicatorColumn(categorical_column=VocabularyListCategoricalColumn(key='Contract', vocabulary_list=('Month-to-Month', 'One Year', 'Two Year'), dtype=tf.string, default_value=-1, num_oov_buckets=0)),\n",
       " IndicatorColumn(categorical_column=VocabularyListCategoricalColumn(key='Paperless_Billing', vocabulary_list=('Yes', 'No'), dtype=tf.string, default_value=-1, num_oov_buckets=0)),\n",
       " IndicatorColumn(categorical_column=VocabularyListCategoricalColumn(key='Payment_Method', vocabulary_list=('Bank Withdrawal', 'Credit Card', 'Mailed Check'), dtype=tf.string, default_value=-1, num_oov_buckets=0)),\n",
       " IndicatorColumn(categorical_column=VocabularyListCategoricalColumn(key='Gender', vocabulary_list=('Male', 'Female'), dtype=tf.string, default_value=-1, num_oov_buckets=0)),\n",
       " IndicatorColumn(categorical_column=VocabularyListCategoricalColumn(key='Under_30', vocabulary_list=('No', 'Yes'), dtype=tf.string, default_value=-1, num_oov_buckets=0)),\n",
       " IndicatorColumn(categorical_column=VocabularyListCategoricalColumn(key='Senior_Citizen', vocabulary_list=('Yes', 'No'), dtype=tf.string, default_value=-1, num_oov_buckets=0)),\n",
       " IndicatorColumn(categorical_column=VocabularyListCategoricalColumn(key='Married', vocabulary_list=('No', 'Yes'), dtype=tf.string, default_value=-1, num_oov_buckets=0)),\n",
       " IndicatorColumn(categorical_column=VocabularyListCategoricalColumn(key='Dependents', vocabulary_list=('No', 'Yes'), dtype=tf.string, default_value=-1, num_oov_buckets=0))]"
      ]
     },
     "execution_count": 18,
     "metadata": {},
     "output_type": "execute_result"
    }
   ],
   "source": [
    "feature_columns"
   ]
  },
  {
   "cell_type": "code",
   "execution_count": 19,
   "metadata": {},
   "outputs": [],
   "source": [
    "feature_layer = tf.keras.layers.DenseFeatures(feature_columns)"
   ]
  },
  {
   "cell_type": "code",
   "execution_count": 20,
   "metadata": {},
   "outputs": [],
   "source": [
    "batch_size = 64\n",
    "train_ds = df_to_dataset(train, batch_size=batch_size)\n",
    "val_ds = df_to_dataset(val, shuffle=False, batch_size=batch_size)\n",
    "test_ds = df_to_dataset(test, shuffle=False, batch_size=batch_size)"
   ]
  },
  {
   "cell_type": "code",
   "execution_count": 21,
   "metadata": {},
   "outputs": [
    {
     "name": "stdout",
     "output_type": "stream",
     "text": [
      "Epoch 1/30\n",
      "WARNING:tensorflow:Layers in a Sequential model should only have a single input tensor, but we receive a <class 'dict'> input: {'CLTV': <tf.Tensor 'ExpandDims_3:0' shape=(None, 1) dtype=float64>, 'Referred_a_Friend': <tf.Tensor 'ExpandDims_26:0' shape=(None, 1) dtype=string>, 'Number_of_Referrals': <tf.Tensor 'ExpandDims_17:0' shape=(None, 1) dtype=float64>, 'Tenure_in_Months': <tf.Tensor 'ExpandDims_31:0' shape=(None, 1) dtype=float64>, 'Offer': <tf.Tensor 'ExpandDims_18:0' shape=(None, 1) dtype=string>, 'Phone_Service': <tf.Tensor 'ExpandDims_23:0' shape=(None, 1) dtype=string>, 'Avg_Monthly_Long_Distance_Charges': <tf.Tensor 'ExpandDims_2:0' shape=(None, 1) dtype=float64>, 'Multiple_Lines': <tf.Tensor 'ExpandDims_15:0' shape=(None, 1) dtype=string>, 'Internet_Service': <tf.Tensor 'ExpandDims_9:0' shape=(None, 1) dtype=string>, 'Internet_Type': <tf.Tensor 'ExpandDims_10:0' shape=(None, 1) dtype=string>, 'Avg_Monthly_GB_Download': <tf.Tensor 'ExpandDims_1:0' shape=(None, 1) dtype=float64>, 'Online_Security': <tf.Tensor 'ExpandDims_20:0' shape=(None, 1) dtype=string>, 'Online_Backup': <tf.Tensor 'ExpandDims_19:0' shape=(None, 1) dtype=string>, 'Device_Protection_Plan': <tf.Tensor 'ExpandDims_7:0' shape=(None, 1) dtype=string>, 'Premium_Tech_Support': <tf.Tensor 'ExpandDims_25:0' shape=(None, 1) dtype=string>, 'Streaming_TV': <tf.Tensor 'ExpandDims_30:0' shape=(None, 1) dtype=string>, 'Streaming_Movies': <tf.Tensor 'ExpandDims_28:0' shape=(None, 1) dtype=string>, 'Streaming_Music': <tf.Tensor 'ExpandDims_29:0' shape=(None, 1) dtype=string>, 'Unlimited_Data': <tf.Tensor 'ExpandDims_38:0' shape=(None, 1) dtype=string>, 'Contract': <tf.Tensor 'ExpandDims_5:0' shape=(None, 1) dtype=string>, 'Paperless_Billing': <tf.Tensor 'ExpandDims_21:0' shape=(None, 1) dtype=string>, 'Payment_Method': <tf.Tensor 'ExpandDims_22:0' shape=(None, 1) dtype=string>, 'Monthly_Charge': <tf.Tensor 'ExpandDims_14:0' shape=(None, 1) dtype=float64>, 'Total_Charges': <tf.Tensor 'ExpandDims_32:0' shape=(None, 1) dtype=float64>, 'Total_Refunds': <tf.Tensor 'ExpandDims_35:0' shape=(None, 1) dtype=float64>, 'Total_Extra_Data_Charges': <tf.Tensor 'ExpandDims_33:0' shape=(None, 1) dtype=int64>, 'Total_Long_Distance_Charges': <tf.Tensor 'ExpandDims_34:0' shape=(None, 1) dtype=float64>, 'Total_Revenue': <tf.Tensor 'ExpandDims_36:0' shape=(None, 1) dtype=float64>, 'City': <tf.Tensor 'ExpandDims_4:0' shape=(None, 1) dtype=string>, 'Zip_Code': <tf.Tensor 'ExpandDims_39:0' shape=(None, 1) dtype=int64>, 'Latitude': <tf.Tensor 'ExpandDims_11:0' shape=(None, 1) dtype=float64>, 'Longitude': <tf.Tensor 'ExpandDims_12:0' shape=(None, 1) dtype=float64>, 'Gender': <tf.Tensor 'ExpandDims_8:0' shape=(None, 1) dtype=string>, 'Age': <tf.Tensor 'ExpandDims:0' shape=(None, 1) dtype=float64>, 'Under_30': <tf.Tensor 'ExpandDims_37:0' shape=(None, 1) dtype=string>, 'Senior_Citizen': <tf.Tensor 'ExpandDims_27:0' shape=(None, 1) dtype=string>, 'Married': <tf.Tensor 'ExpandDims_13:0' shape=(None, 1) dtype=string>, 'Dependents': <tf.Tensor 'ExpandDims_6:0' shape=(None, 1) dtype=string>, 'Number_of_Dependents': <tf.Tensor 'ExpandDims_16:0' shape=(None, 1) dtype=float64>, 'Population': <tf.Tensor 'ExpandDims_24:0' shape=(None, 1) dtype=float64>}\n",
      "Consider rewriting this model with the Functional API.\n",
      "WARNING:tensorflow:Layers in a Sequential model should only have a single input tensor, but we receive a <class 'dict'> input: {'CLTV': <tf.Tensor 'ExpandDims_3:0' shape=(None, 1) dtype=float64>, 'Referred_a_Friend': <tf.Tensor 'ExpandDims_26:0' shape=(None, 1) dtype=string>, 'Number_of_Referrals': <tf.Tensor 'ExpandDims_17:0' shape=(None, 1) dtype=float64>, 'Tenure_in_Months': <tf.Tensor 'ExpandDims_31:0' shape=(None, 1) dtype=float64>, 'Offer': <tf.Tensor 'ExpandDims_18:0' shape=(None, 1) dtype=string>, 'Phone_Service': <tf.Tensor 'ExpandDims_23:0' shape=(None, 1) dtype=string>, 'Avg_Monthly_Long_Distance_Charges': <tf.Tensor 'ExpandDims_2:0' shape=(None, 1) dtype=float64>, 'Multiple_Lines': <tf.Tensor 'ExpandDims_15:0' shape=(None, 1) dtype=string>, 'Internet_Service': <tf.Tensor 'ExpandDims_9:0' shape=(None, 1) dtype=string>, 'Internet_Type': <tf.Tensor 'ExpandDims_10:0' shape=(None, 1) dtype=string>, 'Avg_Monthly_GB_Download': <tf.Tensor 'ExpandDims_1:0' shape=(None, 1) dtype=float64>, 'Online_Security': <tf.Tensor 'ExpandDims_20:0' shape=(None, 1) dtype=string>, 'Online_Backup': <tf.Tensor 'ExpandDims_19:0' shape=(None, 1) dtype=string>, 'Device_Protection_Plan': <tf.Tensor 'ExpandDims_7:0' shape=(None, 1) dtype=string>, 'Premium_Tech_Support': <tf.Tensor 'ExpandDims_25:0' shape=(None, 1) dtype=string>, 'Streaming_TV': <tf.Tensor 'ExpandDims_30:0' shape=(None, 1) dtype=string>, 'Streaming_Movies': <tf.Tensor 'ExpandDims_28:0' shape=(None, 1) dtype=string>, 'Streaming_Music': <tf.Tensor 'ExpandDims_29:0' shape=(None, 1) dtype=string>, 'Unlimited_Data': <tf.Tensor 'ExpandDims_38:0' shape=(None, 1) dtype=string>, 'Contract': <tf.Tensor 'ExpandDims_5:0' shape=(None, 1) dtype=string>, 'Paperless_Billing': <tf.Tensor 'ExpandDims_21:0' shape=(None, 1) dtype=string>, 'Payment_Method': <tf.Tensor 'ExpandDims_22:0' shape=(None, 1) dtype=string>, 'Monthly_Charge': <tf.Tensor 'ExpandDims_14:0' shape=(None, 1) dtype=float64>, 'Total_Charges': <tf.Tensor 'ExpandDims_32:0' shape=(None, 1) dtype=float64>, 'Total_Refunds': <tf.Tensor 'ExpandDims_35:0' shape=(None, 1) dtype=float64>, 'Total_Extra_Data_Charges': <tf.Tensor 'ExpandDims_33:0' shape=(None, 1) dtype=int64>, 'Total_Long_Distance_Charges': <tf.Tensor 'ExpandDims_34:0' shape=(None, 1) dtype=float64>, 'Total_Revenue': <tf.Tensor 'ExpandDims_36:0' shape=(None, 1) dtype=float64>, 'City': <tf.Tensor 'ExpandDims_4:0' shape=(None, 1) dtype=string>, 'Zip_Code': <tf.Tensor 'ExpandDims_39:0' shape=(None, 1) dtype=int64>, 'Latitude': <tf.Tensor 'ExpandDims_11:0' shape=(None, 1) dtype=float64>, 'Longitude': <tf.Tensor 'ExpandDims_12:0' shape=(None, 1) dtype=float64>, 'Gender': <tf.Tensor 'ExpandDims_8:0' shape=(None, 1) dtype=string>, 'Age': <tf.Tensor 'ExpandDims:0' shape=(None, 1) dtype=float64>, 'Under_30': <tf.Tensor 'ExpandDims_37:0' shape=(None, 1) dtype=string>, 'Senior_Citizen': <tf.Tensor 'ExpandDims_27:0' shape=(None, 1) dtype=string>, 'Married': <tf.Tensor 'ExpandDims_13:0' shape=(None, 1) dtype=string>, 'Dependents': <tf.Tensor 'ExpandDims_6:0' shape=(None, 1) dtype=string>, 'Number_of_Dependents': <tf.Tensor 'ExpandDims_16:0' shape=(None, 1) dtype=float64>, 'Population': <tf.Tensor 'ExpandDims_24:0' shape=(None, 1) dtype=float64>}\n",
      "Consider rewriting this model with the Functional API.\n",
      "64/71 [==========================>...] - ETA: 0s - loss: 0.5846 - accuracy: 0.7239WARNING:tensorflow:Layers in a Sequential model should only have a single input tensor, but we receive a <class 'dict'> input: {'CLTV': <tf.Tensor 'ExpandDims_3:0' shape=(None, 1) dtype=float64>, 'Referred_a_Friend': <tf.Tensor 'ExpandDims_26:0' shape=(None, 1) dtype=string>, 'Number_of_Referrals': <tf.Tensor 'ExpandDims_17:0' shape=(None, 1) dtype=float64>, 'Tenure_in_Months': <tf.Tensor 'ExpandDims_31:0' shape=(None, 1) dtype=float64>, 'Offer': <tf.Tensor 'ExpandDims_18:0' shape=(None, 1) dtype=string>, 'Phone_Service': <tf.Tensor 'ExpandDims_23:0' shape=(None, 1) dtype=string>, 'Avg_Monthly_Long_Distance_Charges': <tf.Tensor 'ExpandDims_2:0' shape=(None, 1) dtype=float64>, 'Multiple_Lines': <tf.Tensor 'ExpandDims_15:0' shape=(None, 1) dtype=string>, 'Internet_Service': <tf.Tensor 'ExpandDims_9:0' shape=(None, 1) dtype=string>, 'Internet_Type': <tf.Tensor 'ExpandDims_10:0' shape=(None, 1) dtype=string>, 'Avg_Monthly_GB_Download': <tf.Tensor 'ExpandDims_1:0' shape=(None, 1) dtype=float64>, 'Online_Security': <tf.Tensor 'ExpandDims_20:0' shape=(None, 1) dtype=string>, 'Online_Backup': <tf.Tensor 'ExpandDims_19:0' shape=(None, 1) dtype=string>, 'Device_Protection_Plan': <tf.Tensor 'ExpandDims_7:0' shape=(None, 1) dtype=string>, 'Premium_Tech_Support': <tf.Tensor 'ExpandDims_25:0' shape=(None, 1) dtype=string>, 'Streaming_TV': <tf.Tensor 'ExpandDims_30:0' shape=(None, 1) dtype=string>, 'Streaming_Movies': <tf.Tensor 'ExpandDims_28:0' shape=(None, 1) dtype=string>, 'Streaming_Music': <tf.Tensor 'ExpandDims_29:0' shape=(None, 1) dtype=string>, 'Unlimited_Data': <tf.Tensor 'ExpandDims_38:0' shape=(None, 1) dtype=string>, 'Contract': <tf.Tensor 'ExpandDims_5:0' shape=(None, 1) dtype=string>, 'Paperless_Billing': <tf.Tensor 'ExpandDims_21:0' shape=(None, 1) dtype=string>, 'Payment_Method': <tf.Tensor 'ExpandDims_22:0' shape=(None, 1) dtype=string>, 'Monthly_Charge': <tf.Tensor 'ExpandDims_14:0' shape=(None, 1) dtype=float64>, 'Total_Charges': <tf.Tensor 'ExpandDims_32:0' shape=(None, 1) dtype=float64>, 'Total_Refunds': <tf.Tensor 'ExpandDims_35:0' shape=(None, 1) dtype=float64>, 'Total_Extra_Data_Charges': <tf.Tensor 'ExpandDims_33:0' shape=(None, 1) dtype=int64>, 'Total_Long_Distance_Charges': <tf.Tensor 'ExpandDims_34:0' shape=(None, 1) dtype=float64>, 'Total_Revenue': <tf.Tensor 'ExpandDims_36:0' shape=(None, 1) dtype=float64>, 'City': <tf.Tensor 'ExpandDims_4:0' shape=(None, 1) dtype=string>, 'Zip_Code': <tf.Tensor 'ExpandDims_39:0' shape=(None, 1) dtype=int64>, 'Latitude': <tf.Tensor 'ExpandDims_11:0' shape=(None, 1) dtype=float64>, 'Longitude': <tf.Tensor 'ExpandDims_12:0' shape=(None, 1) dtype=float64>, 'Gender': <tf.Tensor 'ExpandDims_8:0' shape=(None, 1) dtype=string>, 'Age': <tf.Tensor 'ExpandDims:0' shape=(None, 1) dtype=float64>, 'Under_30': <tf.Tensor 'ExpandDims_37:0' shape=(None, 1) dtype=string>, 'Senior_Citizen': <tf.Tensor 'ExpandDims_27:0' shape=(None, 1) dtype=string>, 'Married': <tf.Tensor 'ExpandDims_13:0' shape=(None, 1) dtype=string>, 'Dependents': <tf.Tensor 'ExpandDims_6:0' shape=(None, 1) dtype=string>, 'Number_of_Dependents': <tf.Tensor 'ExpandDims_16:0' shape=(None, 1) dtype=float64>, 'Population': <tf.Tensor 'ExpandDims_24:0' shape=(None, 1) dtype=float64>}\n",
      "Consider rewriting this model with the Functional API.\n",
      "71/71 [==============================] - 2s 9ms/step - loss: 0.5721 - accuracy: 0.7298 - val_loss: 0.4120 - val_accuracy: 0.7862\n",
      "Epoch 2/30\n",
      "71/71 [==============================] - 0s 3ms/step - loss: 0.4313 - accuracy: 0.7879 - val_loss: 0.3974 - val_accuracy: 0.7888\n",
      "Epoch 3/30\n",
      "71/71 [==============================] - 0s 3ms/step - loss: 0.3771 - accuracy: 0.8192 - val_loss: 0.4069 - val_accuracy: 0.7977\n",
      "Epoch 4/30\n",
      "71/71 [==============================] - 0s 3ms/step - loss: 0.3661 - accuracy: 0.8329 - val_loss: 0.3811 - val_accuracy: 0.8119\n",
      "Epoch 5/30\n",
      "71/71 [==============================] - 0s 3ms/step - loss: 0.3550 - accuracy: 0.8340 - val_loss: 0.3991 - val_accuracy: 0.8172\n",
      "Epoch 6/30\n",
      "71/71 [==============================] - 0s 3ms/step - loss: 0.3428 - accuracy: 0.8405 - val_loss: 0.4001 - val_accuracy: 0.8190\n",
      "Epoch 7/30\n",
      "71/71 [==============================] - 0s 3ms/step - loss: 0.3388 - accuracy: 0.8400 - val_loss: 0.3722 - val_accuracy: 0.8128\n",
      "Epoch 8/30\n",
      "71/71 [==============================] - 0s 3ms/step - loss: 0.3279 - accuracy: 0.8420 - val_loss: 0.3840 - val_accuracy: 0.8146\n",
      "Epoch 9/30\n",
      "71/71 [==============================] - 0s 3ms/step - loss: 0.3239 - accuracy: 0.8440 - val_loss: 0.3867 - val_accuracy: 0.8146\n",
      "Epoch 10/30\n",
      "71/71 [==============================] - 0s 3ms/step - loss: 0.3189 - accuracy: 0.8525 - val_loss: 0.3792 - val_accuracy: 0.8190\n",
      "Epoch 11/30\n",
      "71/71 [==============================] - 0s 3ms/step - loss: 0.3158 - accuracy: 0.8547 - val_loss: 0.3783 - val_accuracy: 0.8252\n",
      "Epoch 12/30\n",
      "71/71 [==============================] - 0s 3ms/step - loss: 0.3096 - accuracy: 0.8571 - val_loss: 0.3843 - val_accuracy: 0.8066\n",
      "Epoch 13/30\n",
      "71/71 [==============================] - 0s 3ms/step - loss: 0.3028 - accuracy: 0.8567 - val_loss: 0.3757 - val_accuracy: 0.8066\n",
      "Epoch 14/30\n",
      "71/71 [==============================] - 0s 3ms/step - loss: 0.3020 - accuracy: 0.8593 - val_loss: 0.3731 - val_accuracy: 0.8128\n",
      "Epoch 15/30\n",
      "71/71 [==============================] - 0s 3ms/step - loss: 0.2940 - accuracy: 0.8660 - val_loss: 0.3850 - val_accuracy: 0.8172\n",
      "Epoch 16/30\n",
      "71/71 [==============================] - 0s 3ms/step - loss: 0.2884 - accuracy: 0.8691 - val_loss: 0.3831 - val_accuracy: 0.8305\n",
      "Epoch 17/30\n",
      "71/71 [==============================] - 0s 3ms/step - loss: 0.2865 - accuracy: 0.8638 - val_loss: 0.3910 - val_accuracy: 0.8163\n",
      "Epoch 18/30\n",
      "71/71 [==============================] - 0s 3ms/step - loss: 0.2799 - accuracy: 0.8711 - val_loss: 0.3851 - val_accuracy: 0.8234\n",
      "Epoch 19/30\n",
      "71/71 [==============================] - 0s 3ms/step - loss: 0.2807 - accuracy: 0.8691 - val_loss: 0.3892 - val_accuracy: 0.8163\n",
      "Epoch 20/30\n",
      "71/71 [==============================] - 0s 3ms/step - loss: 0.2782 - accuracy: 0.8744 - val_loss: 0.4204 - val_accuracy: 0.8163\n",
      "Epoch 21/30\n",
      "71/71 [==============================] - 0s 3ms/step - loss: 0.2696 - accuracy: 0.8746 - val_loss: 0.3876 - val_accuracy: 0.8199\n",
      "Epoch 22/30\n",
      "71/71 [==============================] - 0s 3ms/step - loss: 0.2716 - accuracy: 0.8735 - val_loss: 0.3973 - val_accuracy: 0.8225\n",
      "Epoch 23/30\n",
      "71/71 [==============================] - 0s 3ms/step - loss: 0.2565 - accuracy: 0.8820 - val_loss: 0.4061 - val_accuracy: 0.8154\n",
      "Epoch 24/30\n",
      "71/71 [==============================] - 0s 3ms/step - loss: 0.2571 - accuracy: 0.8813 - val_loss: 0.4055 - val_accuracy: 0.8252\n",
      "Epoch 25/30\n",
      "71/71 [==============================] - 0s 3ms/step - loss: 0.2525 - accuracy: 0.8809 - val_loss: 0.4216 - val_accuracy: 0.8181\n",
      "Epoch 26/30\n",
      "71/71 [==============================] - 0s 3ms/step - loss: 0.2493 - accuracy: 0.8860 - val_loss: 0.4159 - val_accuracy: 0.8287\n",
      "Epoch 27/30\n",
      "71/71 [==============================] - 0s 3ms/step - loss: 0.2455 - accuracy: 0.8846 - val_loss: 0.4136 - val_accuracy: 0.8252\n",
      "Epoch 28/30\n",
      "71/71 [==============================] - 0s 3ms/step - loss: 0.2372 - accuracy: 0.8860 - val_loss: 0.4354 - val_accuracy: 0.8243\n",
      "Epoch 29/30\n",
      "71/71 [==============================] - 0s 3ms/step - loss: 0.2357 - accuracy: 0.8922 - val_loss: 0.4295 - val_accuracy: 0.8163\n",
      "Epoch 30/30\n",
      "71/71 [==============================] - 0s 3ms/step - loss: 0.2304 - accuracy: 0.8973 - val_loss: 0.4341 - val_accuracy: 0.8146\n"
     ]
    }
   ],
   "source": [
    "model = tf.keras.Sequential([\n",
    "  feature_layer,\n",
    "  layers.Dense(128, activation='relu'),\n",
    "  layers.Dense(128, activation='relu'),\n",
    "  layers.Dropout(.1),\n",
    "  layers.Dense(1)\n",
    "])\n",
    "\n",
    "model.compile(optimizer='adam',\n",
    "              loss=tf.keras.losses.BinaryCrossentropy(from_logits=True),\n",
    "              metrics=['accuracy'])\n",
    "\n",
    "history = model.fit(train_ds,\n",
    "          validation_data=val_ds,\n",
    "          epochs=30)"
   ]
  },
  {
   "cell_type": "code",
   "execution_count": 22,
   "metadata": {},
   "outputs": [
    {
     "name": "stdout",
     "output_type": "stream",
     "text": [
      "23/23 [==============================] - 0s 3ms/step - loss: 0.4044 - accuracy: 0.8332\n",
      "Accuracy 0.833215057849884\n"
     ]
    }
   ],
   "source": [
    "loss, accuracy = model.evaluate(test_ds)\n",
    "print(\"Accuracy\", accuracy)"
   ]
  },
  {
   "cell_type": "code",
   "execution_count": 23,
   "metadata": {},
   "outputs": [
    {
     "data": {
      "image/png": "[encoded data removed]",
      "text/plain": [
       "<Figure size 1080x720 with 1 Axes>"
      ]
     },
     "metadata": {
      "needs_background": "light"
     },
     "output_type": "display_data"
    }
   ],
   "source": [
    "plt.figure(figsize=(15,10))\n",
    "plt.plot(history.history['accuracy'])\n",
    "plt.plot(history.history['val_accuracy'])\n",
    "plt.title('model accuracy')\n",
    "plt.ylabel('accuracy')\n",
    "plt.xlabel('epoch')\n",
    "plt.legend(['train', 'test'], loc='upper left')\n",
    "plt.show()"
   ]
  },
  {
   "cell_type": "markdown",
   "metadata": {},
   "source": [
    "## Old"
   ]
  },
  {
   "cell_type": "code",
   "execution_count": 24,
   "metadata": {},
   "outputs": [
    {
     "ename": "KeyError",
     "evalue": "'Churn Label'",
     "output_type": "error",
     "traceback": [
      "\u001b[0;31m---------------------------------------------------------------------------\u001b[0m",
      "\u001b[0;31mKeyError\u001b[0m                                  Traceback (most recent call last)",
      "\u001b[0;32m~/.local/lib/python3.8/site-packages/pandas/core/indexes/base.py\u001b[0m in \u001b[0;36mget_loc\u001b[0;34m(self, key, method, tolerance)\u001b[0m\n\u001b[1;32m   3079\u001b[0m             \u001b[0;32mtry\u001b[0m\u001b[0;34m:\u001b[0m\u001b[0;34m\u001b[0m\u001b[0;34m\u001b[0m\u001b[0m\n\u001b[0;32m-> 3080\u001b[0;31m                 \u001b[0;32mreturn\u001b[0m \u001b[0mself\u001b[0m\u001b[0;34m.\u001b[0m\u001b[0m_engine\u001b[0m\u001b[0;34m.\u001b[0m\u001b[0mget_loc\u001b[0m\u001b[0;34m(\u001b[0m\u001b[0mcasted_key\u001b[0m\u001b[0;34m)\u001b[0m\u001b[0;34m\u001b[0m\u001b[0;34m\u001b[0m\u001b[0m\n\u001b[0m\u001b[1;32m   3081\u001b[0m             \u001b[0;32mexcept\u001b[0m \u001b[0mKeyError\u001b[0m \u001b[0;32mas\u001b[0m \u001b[0merr\u001b[0m\u001b[0;34m:\u001b[0m\u001b[0;34m\u001b[0m\u001b[0;34m\u001b[0m\u001b[0m\n",
      "\u001b[0;32mpandas/_libs/index.pyx\u001b[0m in \u001b[0;36mpandas._libs.index.IndexEngine.get_loc\u001b[0;34m()\u001b[0m\n",
      "\u001b[0;32mpandas/_libs/index.pyx\u001b[0m in \u001b[0;36mpandas._libs.index.IndexEngine.get_loc\u001b[0;34m()\u001b[0m\n",
      "\u001b[0;32mpandas/_libs/hashtable_class_helper.pxi\u001b[0m in \u001b[0;36mpandas._libs.hashtable.PyObjectHashTable.get_item\u001b[0;34m()\u001b[0m\n",
      "\u001b[0;32mpandas/_libs/hashtable_class_helper.pxi\u001b[0m in \u001b[0;36mpandas._libs.hashtable.PyObjectHashTable.get_item\u001b[0;34m()\u001b[0m\n",
      "\u001b[0;31mKeyError\u001b[0m: 'Churn Label'",
      "\nThe above exception was the direct cause of the following exception:\n",
      "\u001b[0;31mKeyError\u001b[0m                                  Traceback (most recent call last)",
      "\u001b[0;32m<ipython-input-24-77933e665b09>\u001b[0m in \u001b[0;36m<module>\u001b[0;34m\u001b[0m\n\u001b[0;32m----> 1\u001b[0;31m \u001b[0mtarget\u001b[0m \u001b[0;34m=\u001b[0m \u001b[0mdf\u001b[0m\u001b[0;34m.\u001b[0m\u001b[0mpop\u001b[0m\u001b[0;34m(\u001b[0m\u001b[0;34m'Churn Label'\u001b[0m\u001b[0;34m)\u001b[0m\u001b[0;34m\u001b[0m\u001b[0;34m\u001b[0m\u001b[0m\n\u001b[0m\u001b[1;32m      2\u001b[0m \u001b[0;34m\u001b[0m\u001b[0m\n\u001b[1;32m      3\u001b[0m \u001b[0mdataset\u001b[0m \u001b[0;34m=\u001b[0m \u001b[0mtf\u001b[0m\u001b[0;34m.\u001b[0m\u001b[0mdata\u001b[0m\u001b[0;34m.\u001b[0m\u001b[0mDataset\u001b[0m\u001b[0;34m.\u001b[0m\u001b[0mfrom_tensor_slices\u001b[0m\u001b[0;34m(\u001b[0m\u001b[0;34m(\u001b[0m\u001b[0mdf\u001b[0m\u001b[0;34m.\u001b[0m\u001b[0mvalues\u001b[0m\u001b[0;34m,\u001b[0m \u001b[0mtarget\u001b[0m\u001b[0;34m.\u001b[0m\u001b[0mvalues\u001b[0m\u001b[0;34m)\u001b[0m\u001b[0;34m)\u001b[0m\u001b[0;34m\u001b[0m\u001b[0;34m\u001b[0m\u001b[0m\n",
      "\u001b[0;32m~/.local/lib/python3.8/site-packages/pandas/core/frame.py\u001b[0m in \u001b[0;36mpop\u001b[0;34m(self, item)\u001b[0m\n\u001b[1;32m   4510\u001b[0m         \u001b[0;36m3\u001b[0m  \u001b[0mmonkey\u001b[0m        \u001b[0mNaN\u001b[0m\u001b[0;34m\u001b[0m\u001b[0;34m\u001b[0m\u001b[0m\n\u001b[1;32m   4511\u001b[0m         \"\"\"\n\u001b[0;32m-> 4512\u001b[0;31m         \u001b[0;32mreturn\u001b[0m \u001b[0msuper\u001b[0m\u001b[0;34m(\u001b[0m\u001b[0;34m)\u001b[0m\u001b[0;34m.\u001b[0m\u001b[0mpop\u001b[0m\u001b[0;34m(\u001b[0m\u001b[0mitem\u001b[0m\u001b[0;34m=\u001b[0m\u001b[0mitem\u001b[0m\u001b[0;34m)\u001b[0m\u001b[0;34m\u001b[0m\u001b[0;34m\u001b[0m\u001b[0m\n\u001b[0m\u001b[1;32m   4513\u001b[0m \u001b[0;34m\u001b[0m\u001b[0m\n\u001b[1;32m   4514\u001b[0m     \u001b[0;34m@\u001b[0m\u001b[0mdoc\u001b[0m\u001b[0;34m(\u001b[0m\u001b[0mNDFrame\u001b[0m\u001b[0;34m.\u001b[0m\u001b[0mreplace\u001b[0m\u001b[0;34m,\u001b[0m \u001b[0;34m**\u001b[0m\u001b[0m_shared_doc_kwargs\u001b[0m\u001b[0;34m)\u001b[0m\u001b[0;34m\u001b[0m\u001b[0;34m\u001b[0m\u001b[0m\n",
      "\u001b[0;32m~/.local/lib/python3.8/site-packages/pandas/core/generic.py\u001b[0m in \u001b[0;36mpop\u001b[0;34m(self, item)\u001b[0m\n\u001b[1;32m    767\u001b[0m \u001b[0;34m\u001b[0m\u001b[0m\n\u001b[1;32m    768\u001b[0m     \u001b[0;32mdef\u001b[0m \u001b[0mpop\u001b[0m\u001b[0;34m(\u001b[0m\u001b[0mself\u001b[0m\u001b[0;34m,\u001b[0m \u001b[0mitem\u001b[0m\u001b[0;34m:\u001b[0m \u001b[0mLabel\u001b[0m\u001b[0;34m)\u001b[0m \u001b[0;34m->\u001b[0m \u001b[0mUnion\u001b[0m\u001b[0;34m[\u001b[0m\u001b[0mSeries\u001b[0m\u001b[0;34m,\u001b[0m \u001b[0mAny\u001b[0m\u001b[0;34m]\u001b[0m\u001b[0;34m:\u001b[0m\u001b[0;34m\u001b[0m\u001b[0;34m\u001b[0m\u001b[0m\n\u001b[0;32m--> 769\u001b[0;31m         \u001b[0mresult\u001b[0m \u001b[0;34m=\u001b[0m \u001b[0mself\u001b[0m\u001b[0;34m[\u001b[0m\u001b[0mitem\u001b[0m\u001b[0;34m]\u001b[0m\u001b[0;34m\u001b[0m\u001b[0;34m\u001b[0m\u001b[0m\n\u001b[0m\u001b[1;32m    770\u001b[0m         \u001b[0;32mdel\u001b[0m \u001b[0mself\u001b[0m\u001b[0;34m[\u001b[0m\u001b[0mitem\u001b[0m\u001b[0;34m]\u001b[0m\u001b[0;34m\u001b[0m\u001b[0;34m\u001b[0m\u001b[0m\n\u001b[1;32m    771\u001b[0m         \u001b[0;32mif\u001b[0m \u001b[0mself\u001b[0m\u001b[0;34m.\u001b[0m\u001b[0mndim\u001b[0m \u001b[0;34m==\u001b[0m \u001b[0;36m2\u001b[0m\u001b[0;34m:\u001b[0m\u001b[0;34m\u001b[0m\u001b[0;34m\u001b[0m\u001b[0m\n",
      "\u001b[0;32m~/.local/lib/python3.8/site-packages/pandas/core/frame.py\u001b[0m in \u001b[0;36m__getitem__\u001b[0;34m(self, key)\u001b[0m\n\u001b[1;32m   3022\u001b[0m             \u001b[0;32mif\u001b[0m \u001b[0mself\u001b[0m\u001b[0;34m.\u001b[0m\u001b[0mcolumns\u001b[0m\u001b[0;34m.\u001b[0m\u001b[0mnlevels\u001b[0m \u001b[0;34m>\u001b[0m \u001b[0;36m1\u001b[0m\u001b[0;34m:\u001b[0m\u001b[0;34m\u001b[0m\u001b[0;34m\u001b[0m\u001b[0m\n\u001b[1;32m   3023\u001b[0m                 \u001b[0;32mreturn\u001b[0m \u001b[0mself\u001b[0m\u001b[0;34m.\u001b[0m\u001b[0m_getitem_multilevel\u001b[0m\u001b[0;34m(\u001b[0m\u001b[0mkey\u001b[0m\u001b[0;34m)\u001b[0m\u001b[0;34m\u001b[0m\u001b[0;34m\u001b[0m\u001b[0m\n\u001b[0;32m-> 3024\u001b[0;31m             \u001b[0mindexer\u001b[0m \u001b[0;34m=\u001b[0m \u001b[0mself\u001b[0m\u001b[0;34m.\u001b[0m\u001b[0mcolumns\u001b[0m\u001b[0;34m.\u001b[0m\u001b[0mget_loc\u001b[0m\u001b[0;34m(\u001b[0m\u001b[0mkey\u001b[0m\u001b[0;34m)\u001b[0m\u001b[0;34m\u001b[0m\u001b[0;34m\u001b[0m\u001b[0m\n\u001b[0m\u001b[1;32m   3025\u001b[0m             \u001b[0;32mif\u001b[0m \u001b[0mis_integer\u001b[0m\u001b[0;34m(\u001b[0m\u001b[0mindexer\u001b[0m\u001b[0;34m)\u001b[0m\u001b[0;34m:\u001b[0m\u001b[0;34m\u001b[0m\u001b[0;34m\u001b[0m\u001b[0m\n\u001b[1;32m   3026\u001b[0m                 \u001b[0mindexer\u001b[0m \u001b[0;34m=\u001b[0m \u001b[0;34m[\u001b[0m\u001b[0mindexer\u001b[0m\u001b[0;34m]\u001b[0m\u001b[0;34m\u001b[0m\u001b[0;34m\u001b[0m\u001b[0m\n",
      "\u001b[0;32m~/.local/lib/python3.8/site-packages/pandas/core/indexes/base.py\u001b[0m in \u001b[0;36mget_loc\u001b[0;34m(self, key, method, tolerance)\u001b[0m\n\u001b[1;32m   3080\u001b[0m                 \u001b[0;32mreturn\u001b[0m \u001b[0mself\u001b[0m\u001b[0;34m.\u001b[0m\u001b[0m_engine\u001b[0m\u001b[0;34m.\u001b[0m\u001b[0mget_loc\u001b[0m\u001b[0;34m(\u001b[0m\u001b[0mcasted_key\u001b[0m\u001b[0;34m)\u001b[0m\u001b[0;34m\u001b[0m\u001b[0;34m\u001b[0m\u001b[0m\n\u001b[1;32m   3081\u001b[0m             \u001b[0;32mexcept\u001b[0m \u001b[0mKeyError\u001b[0m \u001b[0;32mas\u001b[0m \u001b[0merr\u001b[0m\u001b[0;34m:\u001b[0m\u001b[0;34m\u001b[0m\u001b[0;34m\u001b[0m\u001b[0m\n\u001b[0;32m-> 3082\u001b[0;31m                 \u001b[0;32mraise\u001b[0m \u001b[0mKeyError\u001b[0m\u001b[0;34m(\u001b[0m\u001b[0mkey\u001b[0m\u001b[0;34m)\u001b[0m \u001b[0;32mfrom\u001b[0m \u001b[0merr\u001b[0m\u001b[0;34m\u001b[0m\u001b[0;34m\u001b[0m\u001b[0m\n\u001b[0m\u001b[1;32m   3083\u001b[0m \u001b[0;34m\u001b[0m\u001b[0m\n\u001b[1;32m   3084\u001b[0m         \u001b[0;32mif\u001b[0m \u001b[0mtolerance\u001b[0m \u001b[0;32mis\u001b[0m \u001b[0;32mnot\u001b[0m \u001b[0;32mNone\u001b[0m\u001b[0;34m:\u001b[0m\u001b[0;34m\u001b[0m\u001b[0;34m\u001b[0m\u001b[0m\n",
      "\u001b[0;31mKeyError\u001b[0m: 'Churn Label'"
     ]
    }
   ],
   "source": [
    "target = df.pop('Churn Label')\n",
    "\n",
    "dataset = tf.data.Dataset.from_tensor_slices((df.values, target.values))"
   ]
  },
  {
   "cell_type": "code",
   "execution_count": null,
   "metadata": {},
   "outputs": [],
   "source": [
    "train_dataset = dataset.shuffle(len(df)).batch(1)"
   ]
  },
  {
   "cell_type": "code",
   "execution_count": null,
   "metadata": {},
   "outputs": [],
   "source": [
    "def get_compiled_model():\n",
    "  model = tf.keras.Sequential([\n",
    "    tf.keras.layers.Dense(10, activation='relu'),\n",
    "    tf.keras.layers.Dense(10, activation='relu'),\n",
    "    tf.keras.layers.Dense(1)\n",
    "  ])\n",
    "\n",
    "  model.compile(optimizer='adam',\n",
    "                loss=tf.keras.losses.BinaryCrossentropy(from_logits=True),\n",
    "                metrics=['accuracy'])\n",
    "  return model"
   ]
  },
  {
   "cell_type": "code",
   "execution_count": null,
   "metadata": {},
   "outputs": [],
   "source": [
    "model = get_compiled_model()\n",
    "model.fit(train_dataset, epochs=15)"
   ]
  },
  {
   "cell_type": "code",
   "execution_count": null,
   "metadata": {},
   "outputs": [],
   "source": [
    "model = tf.keras.models.Sequential([\n",
    "  tf.keras.layers.Flatten(input_shape=(28, 28)),\n",
    "  tf.keras.layers.Dense(512, activation=tf.nn.relu),\n",
    "  tf.keras.layers.Dropout(0.2),\n",
    "  tf.keras.layers.Dense(10, activation=tf.nn.softmax)\n",
    "])\n",
    "\n",
    "model.compile(optimizer='adam',\n",
    "              loss='sparse_categorical_crossentropy',\n",
    "              metrics=['accuracy'])"
   ]
  }
 ],
 "metadata": {
  "kernelspec": {
   "display_name": "Python 3",
   "language": "python",
   "name": "python3"
  },
  "language_info": {
   "codemirror_mode": {
    "name": "ipython",
    "version": 3
   },
   "file_extension": ".py",
   "mimetype": "text/x-python",
   "name": "python",
   "nbconvert_exporter": "python",
   "pygments_lexer": "ipython3",
   "version": "3.8.5"
  }
 },
 "nbformat": 4,
 "nbformat_minor": 4
}
